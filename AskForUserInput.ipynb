{
 "cells": [
  {
   "cell_type": "code",
   "execution_count": 2,
   "id": "e8d372c4-01c3-4e43-902b-81fda81b85e3",
   "metadata": {},
   "outputs": [
    {
     "name": "stdin",
     "output_type": "stream",
     "text": [
      "Enter something... (Q|q) to quit:  fg\n"
     ]
    },
    {
     "name": "stdout",
     "output_type": "stream",
     "text": [
      "You haven't input a Q or q yet!\n",
      "Doing a bunch of stuff in the while loop\n"
     ]
    },
    {
     "name": "stdin",
     "output_type": "stream",
     "text": [
      "Enter something... (Q|q) to quit:  fdg\n"
     ]
    },
    {
     "name": "stdout",
     "output_type": "stream",
     "text": [
      "You haven't input a Q or q yet!\n",
      "Doing a bunch of stuff in the while loop\n"
     ]
    },
    {
     "name": "stdin",
     "output_type": "stream",
     "text": [
      "Enter something... (Q|q) to quit:  dsf\n"
     ]
    },
    {
     "name": "stdout",
     "output_type": "stream",
     "text": [
      "You haven't input a Q or q yet!\n",
      "Doing a bunch of stuff in the while loop\n"
     ]
    },
    {
     "name": "stdin",
     "output_type": "stream",
     "text": [
      "Enter something... (Q|q) to quit:  \n"
     ]
    },
    {
     "name": "stdout",
     "output_type": "stream",
     "text": [
      "You haven't input a Q or q yet!\n",
      "Doing a bunch of stuff in the while loop\n"
     ]
    },
    {
     "name": "stdin",
     "output_type": "stream",
     "text": [
      "Enter something... (Q|q) to quit:  \n"
     ]
    },
    {
     "name": "stdout",
     "output_type": "stream",
     "text": [
      "You haven't input a Q or q yet!\n",
      "Doing a bunch of stuff in the while loop\n"
     ]
    },
    {
     "name": "stdin",
     "output_type": "stream",
     "text": [
      "Enter something... (Q|q) to quit:  \n"
     ]
    },
    {
     "name": "stdout",
     "output_type": "stream",
     "text": [
      "You haven't input a Q or q yet!\n",
      "Doing a bunch of stuff in the while loop\n"
     ]
    },
    {
     "name": "stdin",
     "output_type": "stream",
     "text": [
      "Enter something... (Q|q) to quit:  q\n"
     ]
    },
    {
     "name": "stdout",
     "output_type": "stream",
     "text": [
      "BYE!\n"
     ]
    }
   ],
   "source": [
    "# code to infinitely ask user for input until they input 'Q' or 'q':\n",
    "\n",
    "# get first user input\n",
    "\n",
    "# caplitalize it so that we only check to see if user_in == 'Q'\n",
    "# otherwise, we'd need to check if user_in =='Q' and user_in == 'q'\n",
    "\n",
    "user_in = input(\"Enter something... (Q|q) to quit: \")\n",
    "while user_in.upper() != 'Q':\n",
    "    print(\"You haven't input a Q or q yet!\")\n",
    "    print(\"Doing a bunch of stuff in the while loop\")\n",
    "    # it's critical to get the user input inside the while loop\n",
    "    # This is the input that the while loop condition is comparing to 'Q'!\n",
    "    user_in = input(\"Enter something... (Q|q) to quit: \")\n",
    "print(\"BYE!\")"
   ]
  },
  {
   "cell_type": "code",
   "execution_count": null,
   "id": "c9fc7a4a-1f81-46b5-99de-6c539e7a7c15",
   "metadata": {},
   "outputs": [],
   "source": []
  }
 ],
 "metadata": {
  "kernelspec": {
   "display_name": "info2000",
   "language": "python",
   "name": "info2000"
  },
  "language_info": {
   "codemirror_mode": {
    "name": "ipython",
    "version": 3
   },
   "file_extension": ".py",
   "mimetype": "text/x-python",
   "name": "python",
   "nbconvert_exporter": "python",
   "pygments_lexer": "ipython3",
   "version": "3.9.16"
  }
 },
 "nbformat": 4,
 "nbformat_minor": 5
}
