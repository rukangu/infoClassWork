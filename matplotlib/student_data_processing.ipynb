{
 "cells": [
  {
   "cell_type": "code",
   "execution_count": 1,
   "metadata": {},
   "outputs": [],
   "source": [
    "# https://www.kaggle.com/datasets/spscientist/students-performance-in-exams?resource=download\n",
    "# imports\n",
    "\n",
    "import matplotlib.pyplot as plt\n",
    "import numpy as np\n",
    "import csv"
   ]
  },
  {
   "cell_type": "code",
   "execution_count": 2,
   "metadata": {},
   "outputs": [],
   "source": [
    "# create our dictionary to hold all the students\n",
    "student_dict = {'gender':[],'ethnicity':[], 'education':[], 'lunch':[], 'test_prep':[] , 'math_score': [], 'reading_score':[], 'writing_score':[]}\n",
    "# read the csv file\n",
    "with open(\"StudentsPerformance.csv\", 'r') as file:\n",
    "    reader = csv.reader(file)\n",
    "    for row in reader:\n",
    "        student_dict['gender'].append(row[0])\n",
    "        student_dict['ethnicity'].append(row[1])\n",
    "        student_dict['education'].append(row[2])\n",
    "        student_dict['lunch'].append(row[3])\n",
    "        student_dict['test_prep'].append(row[4])\n",
    "        student_dict['math_score'].append(row[5])\n",
    "        student_dict['reading_score'].append(row[6])\n",
    "        student_dict['writing_score'].append(row[7])"
   ]
  },
  {
   "cell_type": "code",
   "execution_count": null,
   "metadata": {},
   "outputs": [],
   "source": [
    "student_dict['math_score']"
   ]
  },
  {
   "cell_type": "code",
   "execution_count": 3,
   "metadata": {},
   "outputs": [],
   "source": [
    "# create dicitonaries of specific variables of interest\n",
    "\n",
    "def group_by(main_key, subkeys, student_dict):\n",
    "    # math_scores = [].copy()\n",
    "    # writing_scores = [].copy()\n",
    "    # reading_Scores = [].copy()\n",
    "\n",
    "    # I needed to intialize this every time in the for loop for each key\n",
    "\n",
    "    dict_to_return = {}.copy()\n",
    "\n",
    "    # zip the data into the relevant keys and scores\n",
    "    for my_sub_key in subkeys: # subkeys has been passed into the function e.g ['male', 'female'] in the case of gender\n",
    "        math_scores = [].copy()\n",
    "        writing_scores = [].copy()\n",
    "        reading_scores = [].copy()\n",
    "        for math, writing, reading, key in zip (student_dict['math_score'], student_dict['writing_score'], student_dict['reading_score'], student_dict[main_key]):\n",
    "            if key == my_sub_key: # e.g if the row item == 'female' or 'male' etc\n",
    "                math_scores.append(float(math))\n",
    "                writing_scores.append(float(writing))\n",
    "                reading_scores.append(float(reading))\n",
    "        dict_to_return[my_sub_key] = [math_scores, writing_scores, reading_scores]\n",
    "    \n",
    "    return dict_to_return"
   ]
  },
  {
   "cell_type": "code",
   "execution_count": 11,
   "metadata": {},
   "outputs": [],
   "source": [
    "my_gender_dict = group_by('gender', ['male', 'female'],student_dict)\n",
    "my_ethnicity_dict = group_by2('ethnicity', ['group A', 'group B', 'group C', 'group D', 'group E'], student_dict)"
   ]
  },
  {
   "cell_type": "code",
   "execution_count": 13,
   "metadata": {},
   "outputs": [],
   "source": [
    "def produce_plotting_data(data_dict):\n",
    "    x = list(data_dict.keys()) # x is the label of the categories\n",
    "\n",
    "    # let's compute the y values: e.g.g sum or average\n",
    "    # scores = [].copy() # BUG: This needed to be in the for loop\n",
    "    y = [].copy() # we return this\n",
    "\n",
    "    for key in x:\n",
    "        scores = [].copy()\n",
    "        scores.extend([data_dict[key][0], data_dict[key][1], data_dict[key][2]] ) # creating a new list with all the scores \n",
    "        # e.g my_gender_dict['male'][0]  is the list containing the math scores for all male students\n",
    "        avg  = np.mean(scores)\n",
    "        print(avg)\n",
    "        y.append(avg)\n",
    "    return x, y"
   ]
  },
  {
   "cell_type": "code",
   "execution_count": 15,
   "metadata": {},
   "outputs": [
    {
     "name": "stdout",
     "output_type": "stream",
     "text": [
      "65.8374827109267\n",
      "69.56949806949807\n"
     ]
    },
    {
     "data": {
      "text/plain": [
       "<BarContainer object of 2 artists>"
      ]
     },
     "execution_count": 15,
     "metadata": {},
     "output_type": "execute_result"
    },
    {
     "data": {
      "image/png": "[encoded data removed]",
      "text/plain": [
       "<Figure size 640x480 with 1 Axes>"
      ]
     },
     "metadata": {},
     "output_type": "display_data"
    }
   ],
   "source": [
    "x,y = produce_plotting_data(my_gender_dict)\n",
    "plt.bar(x,y)"
   ]
  },
  {
   "cell_type": "code",
   "execution_count": 16,
   "metadata": {},
   "outputs": [
    {
     "name": "stdout",
     "output_type": "stream",
     "text": [
      "62.99250936329588\n",
      "65.46842105263158\n",
      "67.13166144200628\n",
      "69.1793893129771\n",
      "72.75238095238095\n"
     ]
    },
    {
     "data": {
      "text/plain": [
       "<BarContainer object of 5 artists>"
      ]
     },
     "execution_count": 16,
     "metadata": {},
     "output_type": "execute_result"
    },
    {
     "data": {
      "image/png": "[encoded data removed]",
      "text/plain": [
       "<Figure size 640x480 with 1 Axes>"
      ]
     },
     "metadata": {},
     "output_type": "display_data"
    }
   ],
   "source": [
    "x,y = produce_plotting_data(my_ethnicity_dict)\n",
    "plt.bar(x,y)"
   ]
  }
 ],
 "metadata": {
  "kernelspec": {
   "display_name": "info2000",
   "language": "python",
   "name": "python3"
  },
  "language_info": {
   "codemirror_mode": {
    "name": "ipython",
    "version": 3
   },
   "file_extension": ".py",
   "mimetype": "text/x-python",
   "name": "python",
   "nbconvert_exporter": "python",
   "pygments_lexer": "ipython3",
   "version": "3.9.16"
  },
  "orig_nbformat": 4
 },
 "nbformat": 4,
 "nbformat_minor": 2
}
