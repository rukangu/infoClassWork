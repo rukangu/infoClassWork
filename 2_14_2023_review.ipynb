{
 "cells": [
  {
   "cell_type": "code",
   "execution_count": 2,
   "id": "bc60c625-ee05-420f-b641-4c73c71f8a4f",
   "metadata": {},
   "outputs": [
    {
     "name": "stdout",
     "output_type": "stream",
     "text": [
      "0\n",
      "1\n",
      "2\n",
      "3\n",
      "4\n",
      "5\n",
      "6\n",
      "7\n",
      "8\n",
      "9\n"
     ]
    }
   ],
   "source": [
    "# For loops\n",
    "\n",
    "# loop a determined number of times\n",
    "\n",
    "for i in range(10):\n",
    "    print(i)"
   ]
  },
  {
   "cell_type": "code",
   "execution_count": 3,
   "id": "ad5cfb2e-f7ce-441e-9a09-4c0d4efca566",
   "metadata": {},
   "outputs": [
    {
     "name": "stdout",
     "output_type": "stream",
     "text": [
      "0 1 2 3 4 5 6 7 8 9 "
     ]
    }
   ],
   "source": [
    "for indexVar in range(10):\n",
    "    print(indexVar, end = \" \")"
   ]
  },
  {
   "cell_type": "code",
   "execution_count": 4,
   "id": "95f90646-1ddc-49e5-8dda-6df1d67706ea",
   "metadata": {},
   "outputs": [
    {
     "name": "stdout",
     "output_type": "stream",
     "text": [
      "9\n",
      "9\n",
      "9\n",
      "9\n",
      "9\n",
      "9\n",
      "9\n",
      "9\n",
      "9\n",
      "9\n"
     ]
    }
   ],
   "source": [
    "for indexVar2 in range(10):\n",
    "    print(i)"
   ]
  },
  {
   "cell_type": "code",
   "execution_count": 6,
   "id": "7a7436a1-6318-4174-86c5-4c35f5a96ee7",
   "metadata": {},
   "outputs": [
    {
     "name": "stdout",
     "output_type": "stream",
     "text": [
      "0 2 4 6 8 "
     ]
    }
   ],
   "source": [
    "for i in range(0,10,2):\n",
    "    print(i, end = \" \")"
   ]
  },
  {
   "cell_type": "code",
   "execution_count": 3,
   "id": "dac7d8f4-73c8-4f00-a032-1bfa9e37f4d4",
   "metadata": {},
   "outputs": [
    {
     "name": "stdout",
     "output_type": "stream",
     "text": [
      "Square of 1 is 1\n",
      "Square of 2 is 4\n",
      "Square of 3 is 9\n",
      "Square of 4 is 16\n",
      "Square of 5 is 25\n",
      "Square of 6 is 36\n",
      "Square of 7 is 49\n",
      "Square of 8 is 64\n",
      "hello info\n"
     ]
    }
   ],
   "source": [
    "# looping through container data\n",
    "# create a list \n",
    "\n",
    "my_list = [1,2,3,4,5,6,7,8,\"hello info\"]\n",
    "for item in my_list:\n",
    "    #do something with item\n",
    "    if(type(item) == type(\" \")):\n",
    "        # this is the 'hello world string'\n",
    "        print(item)\n",
    "    else:\n",
    "        # print(f\"Square of {item} is {item **2}\", end = \" \")\n",
    "        print(f\"Square of {item} is {item **2}\")\n",
    "    "
   ]
  },
  {
   "cell_type": "code",
   "execution_count": 8,
   "id": "c559950e-dc45-45d3-af07-4e9cd17ae8eb",
   "metadata": {},
   "outputs": [
    {
     "data": {
      "text/plain": [
       "str"
      ]
     },
     "execution_count": 8,
     "metadata": {},
     "output_type": "execute_result"
    }
   ],
   "source": [
    "type(\" \")"
   ]
  },
  {
   "cell_type": "code",
   "execution_count": 11,
   "id": "d2127ffc-eff4-4ca9-b4b5-228595370994",
   "metadata": {},
   "outputs": [
    {
     "data": {
      "text/plain": [
       "5"
      ]
     },
     "execution_count": 11,
     "metadata": {},
     "output_type": "execute_result"
    }
   ],
   "source": [
    "# assigning int to a value (not advisable)\n",
    "int(5.2)"
   ]
  },
  {
   "cell_type": "code",
   "execution_count": 12,
   "id": "5110d525-f2b0-41e4-8f3e-9e4a228af8d0",
   "metadata": {},
   "outputs": [],
   "source": [
    "int = 10"
   ]
  },
  {
   "cell_type": "code",
   "execution_count": 13,
   "id": "5db82f57-7999-499e-8950-e20a64679ef8",
   "metadata": {},
   "outputs": [
    {
     "ename": "TypeError",
     "evalue": "'int' object is not callable",
     "output_type": "error",
     "traceback": [
      "\u001b[1;31m--------------------------------------------------\u001b[0m",
      "\u001b[1;31mTypeError\u001b[0m        Traceback (most recent call last)",
      "Cell \u001b[1;32mIn[13], line 1\u001b[0m\n\u001b[1;32m----> 1\u001b[0m \u001b[38;5;28;43mint\u001b[39;49m\u001b[43m(\u001b[49m\u001b[38;5;241;43m5.2\u001b[39;49m\u001b[43m)\u001b[49m\n",
      "\u001b[1;31mTypeError\u001b[0m: 'int' object is not callable"
     ]
    }
   ],
   "source": [
    "int(5.2)"
   ]
  },
  {
   "cell_type": "code",
   "execution_count": 14,
   "id": "4424246a-79bd-4407-b194-d010a3ec5305",
   "metadata": {},
   "outputs": [
    {
     "data": {
      "text/plain": [
       "int"
      ]
     },
     "execution_count": 14,
     "metadata": {},
     "output_type": "execute_result"
    }
   ],
   "source": [
    "type(int)"
   ]
  },
  {
   "cell_type": "code",
   "execution_count": 15,
   "id": "6655aeb4-6673-4d54-937a-dcfb3d510520",
   "metadata": {},
   "outputs": [
    {
     "data": {
      "text/plain": [
       "type"
      ]
     },
     "execution_count": 15,
     "metadata": {},
     "output_type": "execute_result"
    }
   ],
   "source": [
    "type(float)"
   ]
  },
  {
   "cell_type": "code",
   "execution_count": 2,
   "id": "b6b005ca-46a7-4a47-9130-ecc2d7429da1",
   "metadata": {},
   "outputs": [
    {
     "data": {
      "text/plain": [
       "type"
      ]
     },
     "execution_count": 2,
     "metadata": {},
     "output_type": "execute_result"
    }
   ],
   "source": [
    "# after restarting the kernel and clearing the variables\n",
    "type(int)"
   ]
  },
  {
   "cell_type": "code",
   "execution_count": 8,
   "id": "0499b418-491a-470c-b5fd-d5f88d6bb4d4",
   "metadata": {},
   "outputs": [
    {
     "name": "stdout",
     "output_type": "stream",
     "text": [
      "1 2\n"
     ]
    }
   ],
   "source": [
    "t = (1,2)\n",
    "type(t)\n",
    "idx,value = t\n",
    "print(idx,value)"
   ]
  },
  {
   "cell_type": "code",
   "execution_count": 9,
   "id": "b41435b9-a66b-4dca-8b73-1c5cc318814f",
   "metadata": {},
   "outputs": [
    {
     "name": "stdout",
     "output_type": "stream",
     "text": [
      "item at index 0 is 1\n",
      "item at index 1 is 2\n",
      "item at index 2 is 3\n",
      "item at index 3 is 4\n",
      "item at index 4 is 5\n",
      "item at index 5 is 6\n",
      "item at index 6 is 7\n",
      "item at index 7 is 8\n",
      "item at index 8 is hello info\n"
     ]
    }
   ],
   "source": [
    "# looping through container data\n",
    "# create a list using enumerate\n",
    "\n",
    "my_list = [1,2,3,4,5,6,7,8,\"hello info\"]\n",
    "\n",
    "for idx,item in enumerate(my_list):\n",
    "    #do something with item\n",
    "    # if(type(item) == type(\" \")):\n",
    "    #     # this is the 'hello world string'\n",
    "    #     print(item)\n",
    "    # else:\n",
    "    #     # print(f\"Square of {item} is {item **2}\", end = \" \")\n",
    "    #     print(f\"Square of {item} is {item **2}\")\n",
    "    print(f\"item at index {idx} is {item}\")"
   ]
  },
  {
   "cell_type": "code",
   "execution_count": 10,
   "id": "52e5c4c4-a66f-41ad-bc49-334ffda02aac",
   "metadata": {},
   "outputs": [],
   "source": [
    "test_enumerated = enumerate([1,2,3,4])"
   ]
  },
  {
   "cell_type": "code",
   "execution_count": 11,
   "id": "f9fcf05e-e849-40de-b887-9f27757b3aa5",
   "metadata": {},
   "outputs": [
    {
     "data": {
      "text/plain": [
       "enumerate"
      ]
     },
     "execution_count": 11,
     "metadata": {},
     "output_type": "execute_result"
    }
   ],
   "source": [
    "type(test_enumerated)"
   ]
  },
  {
   "cell_type": "code",
   "execution_count": 12,
   "id": "7dbec262-46de-4be1-8a35-20ce071c516b",
   "metadata": {},
   "outputs": [
    {
     "data": {
      "text/plain": [
       "['__class__',\n",
       " '__class_getitem__',\n",
       " '__delattr__',\n",
       " '__dir__',\n",
       " '__doc__',\n",
       " '__eq__',\n",
       " '__format__',\n",
       " '__ge__',\n",
       " '__getattribute__',\n",
       " '__gt__',\n",
       " '__hash__',\n",
       " '__init__',\n",
       " '__init_subclass__',\n",
       " '__iter__',\n",
       " '__le__',\n",
       " '__lt__',\n",
       " '__ne__',\n",
       " '__new__',\n",
       " '__next__',\n",
       " '__reduce__',\n",
       " '__reduce_ex__',\n",
       " '__repr__',\n",
       " '__setattr__',\n",
       " '__sizeof__',\n",
       " '__str__',\n",
       " '__subclasshook__']"
      ]
     },
     "execution_count": 12,
     "metadata": {},
     "output_type": "execute_result"
    }
   ],
   "source": [
    "dir(test_enumerated)"
   ]
  },
  {
   "cell_type": "code",
   "execution_count": null,
   "id": "4b247c93-b462-4c2f-b9ac-92abe9871a06",
   "metadata": {},
   "outputs": [],
   "source": [
    "next(test_enumerated)"
   ]
  },
  {
   "cell_type": "code",
   "execution_count": 1,
   "id": "f18affc4-6938-4e7e-9cbe-07933c669c3c",
   "metadata": {},
   "outputs": [
    {
     "name": "stdout",
     "output_type": "stream",
     "text": [
      "0 0\n",
      "0 1\n",
      "0 2\n",
      "1 0\n",
      "1 1\n",
      "1 2\n",
      "2 0\n",
      "2 1\n",
      "2 2\n"
     ]
    }
   ],
   "source": [
    "for outerVar in range(3):\n",
    "    for innerVar in range(3):\n",
    "        print(outerVar,innerVar)"
   ]
  },
  {
   "cell_type": "code",
   "execution_count": 2,
   "id": "16ffc665-46a9-49c4-8481-b6e29032cb60",
   "metadata": {},
   "outputs": [],
   "source": [
    "# applied version of the nested loop\n",
    "# names =  [{'name': 'kyle', 'grades' : [100,89,90]}, {'name':'andrew', 'grades':[45, 68,50]}, {'name':'john', 'grades': [100,100,99]}]\n",
    "kyle = {'name': 'kyle', 'grades' : [100,89,90], 'final' : 'A'}\n",
    "andrew = {'name':'andrew', 'grades':[45, 68,50], 'final': 'A'}\n",
    "john = {'name':'john', 'grades': [100,100,99], 'final' : 'D'}\n",
    "names = [kyle, andrew, john]"
   ]
  },
  {
   "cell_type": "code",
   "execution_count": 6,
   "id": "0be9d35e-7a69-4e88-abdb-62ad0a5c24b8",
   "metadata": {},
   "outputs": [
    {
     "data": {
      "text/plain": [
       "[{'name': 'kyle', 'grades': [100, 89, 90], 'final': 'A'},\n",
       " {'name': 'andrew', 'grades': [45, 68, 50], 'final': 'A'},\n",
       " {'name': 'john', 'grades': [100, 100, 99], 'final': 'D'}]"
      ]
     },
     "execution_count": 6,
     "metadata": {},
     "output_type": "execute_result"
    }
   ],
   "source": [
    "names"
   ]
  },
  {
   "cell_type": "code",
   "execution_count": 7,
   "id": "02f9abd3-e7a7-48fc-99d4-d6d9f6edb6dc",
   "metadata": {},
   "outputs": [
    {
     "name": "stdout",
     "output_type": "stream",
     "text": [
      "{'name': 'kyle', 'grades': [100, 89, 90], 'final': 'A'}\n",
      "{'name': 'andrew', 'grades': [45, 68, 50], 'final': 'A'}\n",
      "{'name': 'john', 'grades': [100, 100, 99], 'final': 'D'}\n"
     ]
    }
   ],
   "source": [
    "# get students that scored an A\n",
    "for student in names:\n",
    "    print(student)"
   ]
  },
  {
   "cell_type": "code",
   "execution_count": 3,
   "id": "fd521219-35d8-4fb0-b8c5-92b8ce412377",
   "metadata": {},
   "outputs": [
    {
     "name": "stdout",
     "output_type": "stream",
     "text": [
      "kyle, marks: 100\n",
      "kyle, marks: 89\n",
      "kyle, marks: 90\n",
      "andrew, marks: 45\n",
      "andrew, marks: 68\n",
      "andrew, marks: 50\n",
      "john, marks: 100\n",
      "john, marks: 100\n",
      "john, marks: 99\n"
     ]
    }
   ],
   "source": [
    "for student in names:\n",
    "    for grade_item in student['grades']:\n",
    "        print(f\"{student['name']}, marks: {grade_item}\")\n",
    "    "
   ]
  },
  {
   "cell_type": "code",
   "execution_count": 4,
   "id": "a1c54181-7bbe-42d8-98ba-803e6c9d7b5f",
   "metadata": {},
   "outputs": [
    {
     "name": "stdout",
     "output_type": "stream",
     "text": [
      "kyle scored an A!\n",
      "john scored an A!\n"
     ]
    }
   ],
   "source": [
    "# assume we didn't have a final grade\n",
    "#A_students = []\n",
    "for student in names:\n",
    "    # placeholder \n",
    "    # total = 0\n",
    "    # for grade_item in student['grades']:\n",
    "    #     total + = \n",
    "    \n",
    "    #get average\n",
    "    mean_grade = sum(student['grades']) / len(student['grades'])\n",
    "    if (mean_grade) > 90:\n",
    "        print (f\"{student['name']} scored an A!\")\n",
    "        #A_students.append\n"
   ]
  },
  {
   "cell_type": "code",
   "execution_count": 7,
   "id": "89bc57c6-e5f5-4d1f-bc1f-439eddad9cf9",
   "metadata": {},
   "outputs": [
    {
     "name": "stdout",
     "output_type": "stream",
     "text": [
      "kyle scored an A!\n",
      "john scored an A!\n"
     ]
    }
   ],
   "source": [
    "# assume we didn't have a final grade\n",
    "A_students = []\n",
    "for student in names:\n",
    "    # placeholder \n",
    "    # total = 0\n",
    "    # for grade_item in student['grades']:\n",
    "    #     total + = \n",
    "    \n",
    "    #get average\n",
    "    mean_grade = sum(student['grades']) / len(student['grades'])\n",
    "    if (mean_grade) > 90:\n",
    "        print (f\"{student['name']} scored an A!\")\n",
    "        A_students.append(student['name'])"
   ]
  },
  {
   "cell_type": "code",
   "execution_count": 8,
   "id": "31fc1ea0-1a1a-414a-a99b-7c452cbfed7d",
   "metadata": {},
   "outputs": [
    {
     "data": {
      "text/plain": [
       "['kyle', 'john']"
      ]
     },
     "execution_count": 8,
     "metadata": {},
     "output_type": "execute_result"
    }
   ],
   "source": [
    "A_students"
   ]
  },
  {
   "cell_type": "code",
   "execution_count": 10,
   "id": "7ae34549-6bf9-45a5-9090-da4e6cba0728",
   "metadata": {},
   "outputs": [
    {
     "name": "stdout",
     "output_type": "stream",
     "text": [
      "kyle scored an A!\n",
      "john scored an A!\n"
     ]
    }
   ],
   "source": [
    "A_students = []\n",
    "for student in names:\n",
    "    total = 0\n",
    "    for grade_item in student['grades']:\n",
    "        total += grade_item\n",
    "       \n",
    "    #get average\n",
    "    meanG = total/len(student['grades'])\n",
    "    if (meanG) > 90:\n",
    "        print (f\"{student['name']} scored an A!\")\n",
    "        A_students.append(student['name'])\n",
    "    \n"
   ]
  },
  {
   "cell_type": "code",
   "execution_count": null,
   "id": "eb7f692d-af09-4d60-b253-31da8f2f7a11",
   "metadata": {},
   "outputs": [],
   "source": [
    "# create a casino program\n",
    "\n",
    "# games: allow user to pick from a number of games\n",
    "\n",
    "#bets within the games\n",
    "\n",
    "# how much money is in your account \n",
    "\n",
    "# stats/leaderboards: \n",
    "\n",
    "# game rules : min bet, maximum bets etc"
   ]
  },
  {
   "cell_type": "code",
   "execution_count": 7,
   "id": "24ef33a4-ed27-4ddf-abb7-0eb17606873a",
   "metadata": {},
   "outputs": [
    {
     "name": "stdout",
     "output_type": "stream",
     "text": [
      "Would you like to quit? (Q) to quit? n\n"
     ]
    },
    {
     "name": "stdout",
     "output_type": "stream",
     "text": [
      "You're playing in info2000 casino\n"
     ]
    },
    {
     "name": "stdout",
     "output_type": "stream",
     "text": [
      "Would you like to quit? (Q) to quit? n\n"
     ]
    },
    {
     "name": "stdout",
     "output_type": "stream",
     "text": [
      "You're playing in info2000 casino\n"
     ]
    },
    {
     "name": "stdout",
     "output_type": "stream",
     "text": [
      "Would you like to quit? (Q) to quit? n\n"
     ]
    },
    {
     "name": "stdout",
     "output_type": "stream",
     "text": [
      "You're playing in info2000 casino\n"
     ]
    },
    {
     "name": "stdout",
     "output_type": "stream",
     "text": [
      "Would you like to quit? (Q) to quit? n\n"
     ]
    },
    {
     "name": "stdout",
     "output_type": "stream",
     "text": [
      "You're playing in info2000 casino\n"
     ]
    },
    {
     "name": "stdout",
     "output_type": "stream",
     "text": [
      "Would you like to quit? (Q) to quit? n\n"
     ]
    },
    {
     "name": "stdout",
     "output_type": "stream",
     "text": [
      "You're playing in info2000 casino\n"
     ]
    },
    {
     "name": "stdout",
     "output_type": "stream",
     "text": [
      "Would you like to quit? (Q) to quit? checkers\n"
     ]
    },
    {
     "name": "stdout",
     "output_type": "stream",
     "text": [
      "You're playing in info2000 casino\n"
     ]
    },
    {
     "name": "stdout",
     "output_type": "stream",
     "text": [
      "Would you like to quit? (Q) to quit? chess\n"
     ]
    },
    {
     "name": "stdout",
     "output_type": "stream",
     "text": [
      "You're playing in info2000 casino\n"
     ]
    },
    {
     "name": "stdout",
     "output_type": "stream",
     "text": [
      "Would you like to quit? (Q) to quit? q\n"
     ]
    },
    {
     "name": "stdout",
     "output_type": "stream",
     "text": [
      "You're playing in info2000 casino\n",
      "Thanks for playing. Bye!\n"
     ]
    }
   ],
   "source": [
    "#make a while loop that keeps you in the game scene \n",
    "#ask for input\n",
    "quit_conditions = ['Q','QUIT','Y','YES']\n",
    "user_input = 'Dont quit' # for starters doesn't matter what's in this variable \n",
    "#we just need the while loop to run\n",
    "while user_input.upper() not in quit_conditions:\n",
    "    user_input = input(\"Would you like to quit? (Q) to quit?\")\n",
    "    if user_input not in quit_conditions:\n",
    "        print (\"You're playing in info2000 casino\")\n",
    "\n",
    "print(\"Thanks for playing. Bye!\")\n",
    "    \n",
    "    "
   ]
  },
  {
   "cell_type": "code",
   "execution_count": 4,
   "id": "cb7aeff8-c2d3-453a-8769-7e7dba2553f0",
   "metadata": {},
   "outputs": [
    {
     "data": {
      "text/plain": [
       "True"
      ]
     },
     "execution_count": 4,
     "metadata": {},
     "output_type": "execute_result"
    }
   ],
   "source": [
    "'no'.upper() in ['Q','Quit','N','NO']"
   ]
  },
  {
   "cell_type": "code",
   "execution_count": 9,
   "id": "b7120c54-f976-4c2d-bd3a-3d079994cbd2",
   "metadata": {},
   "outputs": [
    {
     "name": "stdout",
     "output_type": "stream",
     "text": [
      "Would you like to quit? (Q) to quit? n\n",
      "What game would you like to play?:\n",
      " BlackJack: 0 \n",
      "Roulette 1 1\n"
     ]
    },
    {
     "name": "stdout",
     "output_type": "stream",
     "text": [
      "you're playing roulette\n"
     ]
    },
    {
     "name": "stdout",
     "output_type": "stream",
     "text": [
      "Would you like to quit? (Q) to quit? n\n",
      "What game would you like to play?:\n",
      " BlackJack: 0 \n",
      "Roulette 1 1\n"
     ]
    },
    {
     "name": "stdout",
     "output_type": "stream",
     "text": [
      "you're playing roulette\n"
     ]
    },
    {
     "name": "stdout",
     "output_type": "stream",
     "text": [
      "Would you like to quit? (Q) to quit? n\n",
      "What game would you like to play?:\n",
      " BlackJack: 0 \n",
      "Roulette 1 0\n"
     ]
    },
    {
     "name": "stdout",
     "output_type": "stream",
     "text": [
      "you are playing blackjack\n"
     ]
    },
    {
     "name": "stdout",
     "output_type": "stream",
     "text": [
      "Would you like to quit? (Q) to quit? q\n"
     ]
    },
    {
     "name": "stdout",
     "output_type": "stream",
     "text": [
      "Thanks for playing. Bye!\n"
     ]
    }
   ],
   "source": [
    "#make a while loop that keeps you in the game scene \n",
    "#ask for input\n",
    "quit_conditions = ['Q','QUIT','Y','YES']\n",
    "user_input = 'Dont quit' # for starters doesn't matter what's in this variable \n",
    "#we just need the while loop to run\n",
    "while user_input.upper() not in quit_conditions:\n",
    "    user_input = input(\"Would you like to quit? (Q) to quit?\")\n",
    "    if user_input.upper() not in quit_conditions:\n",
    "        # ask user what game they would like to play\n",
    "        game_preference = int(input(\"What game would you like to play?:\\n BlackJack: 0 \\nRoulette 1\"))\n",
    "        if(game_preference == 0):\n",
    "            print(\"you are playing blackjack\")\n",
    "        elif( game_preference == 1):\n",
    "            print(\"you're playing roulette\")\n",
    "\n",
    "print(\"Thanks for playing. Bye!\")"
   ]
  },
  {
   "cell_type": "markdown",
   "id": "87659cb5-4703-45dc-862d-ed332216d3b2",
   "metadata": {},
   "source": [
    "## implementing Roulette"
   ]
  },
  {
   "cell_type": "code",
   "execution_count": 14,
   "id": "b6d9e5c8-397a-48d5-a063-ba8434220523",
   "metadata": {},
   "outputs": [
    {
     "name": "stdout",
     "output_type": "stream",
     "text": [
      "Would you like to quit? (Q) to quit? no\n",
      "What game would you like to play?:\n",
      " BlackJack: 0 \n",
      "Roulette 1 1\n",
      "Enter bet 2\n",
      "Enter color :\n",
      "red: 0\n",
      "black:1\n",
      "green:2\n",
      " 0\n"
     ]
    },
    {
     "name": "stdout",
     "output_type": "stream",
     "text": [
      "you placed a $2.0 on color red\n",
      "ball fell on black and you picked red\n",
      "You lost. Give me the money\n"
     ]
    },
    {
     "name": "stdout",
     "output_type": "stream",
     "text": [
      "Would you like to quit? (Q) to quit? q\n"
     ]
    },
    {
     "name": "stdout",
     "output_type": "stream",
     "text": [
      "Thanks for playing. Bye!\n"
     ]
    }
   ],
   "source": [
    "import random\n",
    "\n",
    "#roulette variables\n",
    "spin_table_numbers = {'red':[1,3,5,7,9,12,14,16,18,19,21,23,25,27,30,32,34,36],'black':[2,4,6,8,10,11,13,15,17,20,22,24,26,28,29,31,33,35],'green':[0]}\n",
    "spin_table = ['red','black','green']\n",
    "\n",
    "#make a while loop that keeps you in the game scene \n",
    "#ask for input\n",
    "quit_conditions = ['Q','QUIT','Y','YES']\n",
    "user_input = 'Dont quit' # for starters doesn't matter what's in this variable \n",
    "#we just need the while loop to run\n",
    "while user_input.upper() not in quit_conditions:\n",
    "    user_input = input(\"Would you like to quit? (Q) to quit?\")\n",
    "    if user_input.upper() not in quit_conditions:\n",
    "        # ask user what game they would like to play\n",
    "        game_preference = int(input(\"What game would you like to play?:\\n BlackJack: 0 \\nRoulette 1\"))\n",
    "        if(game_preference == 0):\n",
    "            print(\"you are playing blackjack\")\n",
    "        elif( game_preference == 1): # roulette\n",
    "            # place a bet before spinning a ball\n",
    "            user_bet = float( input(\"Enter bet amount in $\"))\n",
    "            user_color = int(input(\"Enter color :\\nred: 0\\nblack:1\\ngreen:2\\n\"))\n",
    "            print(f\"you placed a ${user_bet} on color {spin_table[user_color]}\")\n",
    "            # spin the table and pick a random \n",
    "            ball_choice = random.choice(spin_table) # where the ball ends up\n",
    "            print(f\"ball fell on {ball_choice} and you picked {spin_table[user_color]}\")\n",
    "            if ball_choice == spin_table[user_color]:\n",
    "                print(f\"Ball fell on {ball_choice}. You won!\")\n",
    "            else:\n",
    "                print(f\"You lost. Ball fell on {ball_choice}. Give me the money!\")        \n",
    "\n",
    "print(\"Thanks for playing. Bye!\")"
   ]
  },
  {
   "cell_type": "markdown",
   "id": "dbbe320c-2ca0-4c97-a711-07dfd1a512fb",
   "metadata": {},
   "source": [
    "## Handle users"
   ]
  },
  {
   "cell_type": "code",
   "execution_count": 20,
   "id": "986fb3fe-3297-46f6-8dc4-2389d48dcc5c",
   "metadata": {},
   "outputs": [
    {
     "data": {
      "text/plain": [
       "'Test'"
      ]
     },
     "execution_count": 20,
     "metadata": {},
     "output_type": "execute_result"
    }
   ],
   "source": [
    "user_database = {0 : {'name': 'Test', 'account_balance':0, 'WLR': None}}\n",
    "user_database[0]['name']"
   ]
  },
  {
   "cell_type": "code",
   "execution_count": 2,
   "id": "96ae6c30-a25e-4b8b-ae26-92ced8dd6479",
   "metadata": {},
   "outputs": [
    {
     "name": "stdout",
     "output_type": "stream",
     "text": [
      "Test, you can play!\n",
      "you placed a $200.0 on color black\n",
      "ball fell on red and you picked black\n",
      "You lost. Ball fell on red. Give me the money!\n",
      "Thanks for playing. Bye!\n"
     ]
    }
   ],
   "source": [
    "import random\n",
    "\n",
    "#roulette variables\n",
    "spin_table_numbers = {'red':[1,3,5,7,9,12,14,16,18,19,21,23,25,27,30,32,34,36],'black':[2,4,6,8,10,11,13,15,17,20,22,24,26,28,29,31,33,35],'green':[0]}\n",
    "spin_table = ['red','black','green']\n",
    "\n",
    "#user details\n",
    "# money in account\n",
    "# win loss ratio\n",
    "# name \n",
    "# unique id\n",
    "\n",
    "user_database = {0 : {'name': 'Test', 'account_balance':0, 'WLR': None}}\n",
    "#ask user for their id & password\n",
    "\n",
    "user_id = int (input(\"Enter user ID: \"))\n",
    "# is user id in the database?\n",
    "if user_id in user_database:\n",
    "    # we the user exists! \n",
    "    user_dict = user_database[user_id]\n",
    "    print(f\"{user_dict['name']}, you can play!\")\n",
    "    # allow them to play\n",
    "else:\n",
    "    # ask them to register with a bet and generate a unique id for them\n",
    "    user_name = input(\"Name:\")\n",
    "    money = input(\"amount to deposit:\")\n",
    "    #keep generating user ID if one already exists in the user database\n",
    "    uniqueID = random.randint(0,99)\n",
    "    while uniqueID in user_database.keys():\n",
    "          uniqueID = random.randint(0,99)\n",
    "    # let's  add them to the user database\n",
    "    user_database[uniqueID] = {'name': user_name, 'account_balance':money, 'WLR': None}\n",
    "    print(f\"Hey {user_name}, you have been assigned {uniqueID} as your ID\")          \n",
    "\n",
    "#make a while loop that keeps you in the game scene \n",
    "#ask for input\n",
    "quit_conditions = ['Q','QUIT','Y','YES']\n",
    "user_input = 'Dont quit' # for starters doesn't matter what's in this variable \n",
    "#we just need the while loop to run\n",
    "while user_input.upper() not in quit_conditions:\n",
    "    user_input = input(\"Would you like to quit? (Q) to quit?\")\n",
    "    if user_input.upper() not in quit_conditions:\n",
    "        # ask user what game they would like to play\n",
    "        game_preference = int(input(\"What game would you like to play?:\\n BlackJack: 0 \\nRoulette 1\"))\n",
    "        if(game_preference == 0):\n",
    "            print(\"you are playing blackjack\")\n",
    "        elif( game_preference == 1): # roulette\n",
    "            # place a bet before spinning a ball\n",
    "            user_bet = float( input(\"Enter bet amount ($)\"))\n",
    "            user_color = int(input(\"Enter color :\\nred: 0\\nblack:1\\ngreen:2\\n\"))\n",
    "            print(f\"you placed a ${user_bet} on color {spin_table[user_color]}\")\n",
    "            # spin the table and pick a random \n",
    "            ball_choice = random.choice(spin_table) # where the ball ends up\n",
    "            print(f\"ball fell on {ball_choice} and you picked {spin_table[user_color]}\")\n",
    "            if ball_choice == spin_table[user_color]:\n",
    "                print(f\"Ball fell on {ball_choice}. You won!\")\n",
    "            else:\n",
    "                print(f\"You lost. Ball fell on {ball_choice}. Give me the money!\")        \n",
    "\n",
    "print(\"Thanks for playing. Bye!\")"
   ]
  },
  {
   "cell_type": "code",
   "execution_count": 2,
   "id": "0bfc3a0b-9f8a-483a-b831-2b4da535c316",
   "metadata": {},
   "outputs": [],
   "source": [
    "deck_of_cards = {'Ace of Spades': 1, '2 of Spades': 2, '3 of Spades': 3,  '4 of Spades': 4, '5 of Spades': 5, '6 of Spades': 6, '7 of Spades': 7, '8 of Spades': 8, '9 of Spades': 9, '10 of Spades': 10, 'Jack of Spades': 10, 'Queen of Spades': 10, 'King of Spades': 10, 'Ace of Diamonds': 1, '2 of Diamonds': 2, '3 of Diamonds': 3,  '4 of Diamonds': 4, '5 of Diamonds': 5, '6 of Diamonds': 6, '7 of Diamonds': 7, '8 of Diamonds': 8, '9 of Diamonds': 9, '10 of Diamonds': 10, 'Jack of Diamonds': 10, 'Queen of Diamonds': 10, 'King of Diamonds': 10, 'Ace of Hearts': 1, '2 of Hearts': 2, '3 of Hearts': 3,  '4 of Hearts': 4, '5 of Hearts': 5, '6 of Hearts': 6, '7 of Hearts': 7, '8 of Hearts': 8, '9 of Hearts': 9, '10 of Hearts': 10, 'Jack of Hearts': 10, 'Queen of Hearts': 10, 'King of Hearts': 10, 'Ace of Clubs': 1, '2 of Clubs': 2, '3 of Clubs': 3,  '4 of Clubs': 4, '5 of Clubs': 5, '6 of Clubs': 6, '7 of Clubs': 7, '8 of Clubs': 8, '9 of Clubs': 9, '10 of Clubs': 10, 'Jack of Clubs': 10, 'Queen of Clubs': 10, 'King of Clubs': 10} \n"
   ]
  },
  {
   "cell_type": "code",
   "execution_count": 3,
   "id": "c3108d71",
   "metadata": {},
   "outputs": [
    {
     "data": {
      "text/plain": [
       "dict_values([1, 2, 3, 4, 5, 6, 7, 8, 9, 10, 10, 10, 10, 1, 2, 3, 4, 5, 6, 7, 8, 9, 10, 10, 10, 10, 1, 2, 3, 4, 5, 6, 7, 8, 9, 10, 10, 10, 10, 1, 2, 3, 4, 5, 6, 7, 8, 9, 10, 10, 10, 10])"
      ]
     },
     "execution_count": 3,
     "metadata": {},
     "output_type": "execute_result"
    }
   ],
   "source": [
    "deck_of_cards.values()"
   ]
  },
  {
   "cell_type": "code",
   "execution_count": 4,
   "id": "86ca0e3b",
   "metadata": {},
   "outputs": [
    {
     "data": {
      "text/plain": [
       "dict_keys(['Ace of Spades', '2 of Spades', '3 of Spades', '4 of Spades', '5 of Spades', '6 of Spades', '7 of Spades', '8 of Spades', '9 of Spades', '10 of Spades', 'Jack of Spades', 'Queen of Spades', 'King of Spades', 'Ace of Diamonds', '2 of Diamonds', '3 of Diamonds', '4 of Diamonds', '5 of Diamonds', '6 of Diamonds', '7 of Diamonds', '8 of Diamonds', '9 of Diamonds', '10 of Diamonds', 'Jack of Diamonds', 'Queen of Diamonds', 'King of Diamonds', 'Ace of Hearts', '2 of Hearts', '3 of Hearts', '4 of Hearts', '5 of Hearts', '6 of Hearts', '7 of Hearts', '8 of Hearts', '9 of Hearts', '10 of Hearts', 'Jack of Hearts', 'Queen of Hearts', 'King of Hearts', 'Ace of Clubs', '2 of Clubs', '3 of Clubs', '4 of Clubs', '5 of Clubs', '6 of Clubs', '7 of Clubs', '8 of Clubs', '9 of Clubs', '10 of Clubs', 'Jack of Clubs', 'Queen of Clubs', 'King of Clubs'])"
      ]
     },
     "execution_count": 4,
     "metadata": {},
     "output_type": "execute_result"
    }
   ],
   "source": [
    "deck_of_cards.keys()"
   ]
  },
  {
   "cell_type": "code",
   "execution_count": 6,
   "id": "5fef2485",
   "metadata": {},
   "outputs": [
    {
     "data": {
      "text/plain": [
       "1"
      ]
     },
     "execution_count": 6,
     "metadata": {},
     "output_type": "execute_result"
    }
   ],
   "source": [
    "deck_of_cards['Ace of Spades']"
   ]
  },
  {
   "cell_type": "code",
   "execution_count": 7,
   "id": "713e8d65",
   "metadata": {},
   "outputs": [],
   "source": [
    "import json"
   ]
  },
  {
   "cell_type": "code",
   "execution_count": 8,
   "id": "167e705d",
   "metadata": {},
   "outputs": [],
   "source": [
    "with open('card_deck.txt','w') as datafile:\n",
    "    json.dump(deck_of_cards, datafile, indent=6)"
   ]
  },
  {
   "cell_type": "code",
   "execution_count": 9,
   "id": "a051ce7e",
   "metadata": {},
   "outputs": [
    {
     "data": {
      "text/plain": [
       "dict"
      ]
     },
     "execution_count": 9,
     "metadata": {},
     "output_type": "execute_result"
    }
   ],
   "source": [
    "with open('card_deck.txt','r') as datafile:\n",
    "    new_deck = json.load(datafile)\n",
    "type(new_deck)"
   ]
  },
  {
   "cell_type": "code",
   "execution_count": 10,
   "id": "ac671f6c",
   "metadata": {},
   "outputs": [
    {
     "data": {
      "text/plain": [
       "{'Ace of Spades': 1,\n",
       " '2 of Spades': 2,\n",
       " '3 of Spades': 3,\n",
       " '4 of Spades': 4,\n",
       " '5 of Spades': 5,\n",
       " '6 of Spades': 6,\n",
       " '7 of Spades': 7,\n",
       " '8 of Spades': 8,\n",
       " '9 of Spades': 9,\n",
       " '10 of Spades': 10,\n",
       " 'Jack of Spades': 10,\n",
       " 'Queen of Spades': 10,\n",
       " 'King of Spades': 10,\n",
       " 'Ace of Diamonds': 1,\n",
       " '2 of Diamonds': 2,\n",
       " '3 of Diamonds': 3,\n",
       " '4 of Diamonds': 4,\n",
       " '5 of Diamonds': 5,\n",
       " '6 of Diamonds': 6,\n",
       " '7 of Diamonds': 7,\n",
       " '8 of Diamonds': 8,\n",
       " '9 of Diamonds': 9,\n",
       " '10 of Diamonds': 10,\n",
       " 'Jack of Diamonds': 10,\n",
       " 'Queen of Diamonds': 10,\n",
       " 'King of Diamonds': 10,\n",
       " 'Ace of Hearts': 1,\n",
       " '2 of Hearts': 2,\n",
       " '3 of Hearts': 3,\n",
       " '4 of Hearts': 4,\n",
       " '5 of Hearts': 5,\n",
       " '6 of Hearts': 6,\n",
       " '7 of Hearts': 7,\n",
       " '8 of Hearts': 8,\n",
       " '9 of Hearts': 9,\n",
       " '10 of Hearts': 10,\n",
       " 'Jack of Hearts': 10,\n",
       " 'Queen of Hearts': 10,\n",
       " 'King of Hearts': 10,\n",
       " 'Ace of Clubs': 1,\n",
       " '2 of Clubs': 2,\n",
       " '3 of Clubs': 3,\n",
       " '4 of Clubs': 4,\n",
       " '5 of Clubs': 5,\n",
       " '6 of Clubs': 6,\n",
       " '7 of Clubs': 7,\n",
       " '8 of Clubs': 8,\n",
       " '9 of Clubs': 9,\n",
       " '10 of Clubs': 10,\n",
       " 'Jack of Clubs': 10,\n",
       " 'Queen of Clubs': 10,\n",
       " 'King of Clubs': 10}"
      ]
     },
     "execution_count": 10,
     "metadata": {},
     "output_type": "execute_result"
    }
   ],
   "source": [
    "new_deck"
   ]
  }
 ],
 "metadata": {
  "kernelspec": {
   "display_name": "info2000",
   "language": "python",
   "name": "python3"
  },
  "language_info": {
   "codemirror_mode": {
    "name": "ipython",
    "version": 3
   },
   "file_extension": ".py",
   "mimetype": "text/x-python",
   "name": "python",
   "nbconvert_exporter": "python",
   "pygments_lexer": "ipython3",
   "version": "3.9.16"
  }
 },
 "nbformat": 4,
 "nbformat_minor": 5
}
