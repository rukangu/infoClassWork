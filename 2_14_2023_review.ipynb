{
 "cells": [
  {
   "cell_type": "code",
   "execution_count": 2,
   "id": "bc60c625-ee05-420f-b641-4c73c71f8a4f",
   "metadata": {},
   "outputs": [
    {
     "name": "stdout",
     "output_type": "stream",
     "text": [
      "0\n",
      "1\n",
      "2\n",
      "3\n",
      "4\n",
      "5\n",
      "6\n",
      "7\n",
      "8\n",
      "9\n"
     ]
    }
   ],
   "source": [
    "# For loops\n",
    "\n",
    "# loop a determined number of times\n",
    "\n",
    "for i in range(10):\n",
    "    print(i)"
   ]
  },
  {
   "cell_type": "code",
   "execution_count": 3,
   "id": "ad5cfb2e-f7ce-441e-9a09-4c0d4efca566",
   "metadata": {},
   "outputs": [
    {
     "name": "stdout",
     "output_type": "stream",
     "text": [
      "0 1 2 3 4 5 6 7 8 9 "
     ]
    }
   ],
   "source": [
    "for indexVar in range(10):\n",
    "    print(indexVar, end = \" \")"
   ]
  },
  {
   "cell_type": "code",
   "execution_count": 4,
   "id": "95f90646-1ddc-49e5-8dda-6df1d67706ea",
   "metadata": {},
   "outputs": [
    {
     "name": "stdout",
     "output_type": "stream",
     "text": [
      "9\n",
      "9\n",
      "9\n",
      "9\n",
      "9\n",
      "9\n",
      "9\n",
      "9\n",
      "9\n",
      "9\n"
     ]
    }
   ],
   "source": [
    "for indexVar2 in range(10):\n",
    "    print(i)"
   ]
  },
  {
   "cell_type": "code",
   "execution_count": 6,
   "id": "7a7436a1-6318-4174-86c5-4c35f5a96ee7",
   "metadata": {},
   "outputs": [
    {
     "name": "stdout",
     "output_type": "stream",
     "text": [
      "0 2 4 6 8 "
     ]
    }
   ],
   "source": [
    "for i in range(0,10,2):\n",
    "    print(i, end = \" \")"
   ]
  },
  {
   "cell_type": "code",
   "execution_count": 3,
   "id": "dac7d8f4-73c8-4f00-a032-1bfa9e37f4d4",
   "metadata": {},
   "outputs": [
    {
     "name": "stdout",
     "output_type": "stream",
     "text": [
      "Square of 1 is 1\n",
      "Square of 2 is 4\n",
      "Square of 3 is 9\n",
      "Square of 4 is 16\n",
      "Square of 5 is 25\n",
      "Square of 6 is 36\n",
      "Square of 7 is 49\n",
      "Square of 8 is 64\n",
      "hello info\n"
     ]
    }
   ],
   "source": [
    "# looping through container data\n",
    "# create a list \n",
    "\n",
    "my_list = [1,2,3,4,5,6,7,8,\"hello info\"]\n",
    "for item in my_list:\n",
    "    #do something with item\n",
    "    if(type(item) == type(\" \")):\n",
    "        # this is the 'hello world string'\n",
    "        print(item)\n",
    "    else:\n",
    "        # print(f\"Square of {item} is {item **2}\", end = \" \")\n",
    "        print(f\"Square of {item} is {item **2}\")\n",
    "    "
   ]
  },
  {
   "cell_type": "code",
   "execution_count": 8,
   "id": "c559950e-dc45-45d3-af07-4e9cd17ae8eb",
   "metadata": {},
   "outputs": [
    {
     "data": {
      "text/plain": [
       "str"
      ]
     },
     "execution_count": 8,
     "metadata": {},
     "output_type": "execute_result"
    }
   ],
   "source": [
    "type(\" \")"
   ]
  },
  {
   "cell_type": "code",
   "execution_count": 11,
   "id": "d2127ffc-eff4-4ca9-b4b5-228595370994",
   "metadata": {},
   "outputs": [
    {
     "data": {
      "text/plain": [
       "5"
      ]
     },
     "execution_count": 11,
     "metadata": {},
     "output_type": "execute_result"
    }
   ],
   "source": [
    "# assigning int to a value (not advisable)\n",
    "int(5.2)"
   ]
  },
  {
   "cell_type": "code",
   "execution_count": 12,
   "id": "5110d525-f2b0-41e4-8f3e-9e4a228af8d0",
   "metadata": {},
   "outputs": [],
   "source": [
    "int = 10"
   ]
  },
  {
   "cell_type": "code",
   "execution_count": 13,
   "id": "5db82f57-7999-499e-8950-e20a64679ef8",
   "metadata": {},
   "outputs": [
    {
     "ename": "TypeError",
     "evalue": "'int' object is not callable",
     "output_type": "error",
     "traceback": [
      "\u001b[1;31m--------------------------------------------------\u001b[0m",
      "\u001b[1;31mTypeError\u001b[0m        Traceback (most recent call last)",
      "Cell \u001b[1;32mIn[13], line 1\u001b[0m\n\u001b[1;32m----> 1\u001b[0m \u001b[38;5;28;43mint\u001b[39;49m\u001b[43m(\u001b[49m\u001b[38;5;241;43m5.2\u001b[39;49m\u001b[43m)\u001b[49m\n",
      "\u001b[1;31mTypeError\u001b[0m: 'int' object is not callable"
     ]
    }
   ],
   "source": [
    "int(5.2)"
   ]
  },
  {
   "cell_type": "code",
   "execution_count": 14,
   "id": "4424246a-79bd-4407-b194-d010a3ec5305",
   "metadata": {},
   "outputs": [
    {
     "data": {
      "text/plain": [
       "int"
      ]
     },
     "execution_count": 14,
     "metadata": {},
     "output_type": "execute_result"
    }
   ],
   "source": [
    "type(int)"
   ]
  },
  {
   "cell_type": "code",
   "execution_count": 15,
   "id": "6655aeb4-6673-4d54-937a-dcfb3d510520",
   "metadata": {},
   "outputs": [
    {
     "data": {
      "text/plain": [
       "type"
      ]
     },
     "execution_count": 15,
     "metadata": {},
     "output_type": "execute_result"
    }
   ],
   "source": [
    "type(float)"
   ]
  },
  {
   "cell_type": "code",
   "execution_count": 2,
   "id": "b6b005ca-46a7-4a47-9130-ecc2d7429da1",
   "metadata": {},
   "outputs": [
    {
     "data": {
      "text/plain": [
       "type"
      ]
     },
     "execution_count": 2,
     "metadata": {},
     "output_type": "execute_result"
    }
   ],
   "source": [
    "# after restarting the kernel and clearing the variables\n",
    "type(int)"
   ]
  },
  {
   "cell_type": "code",
   "execution_count": 8,
   "id": "0499b418-491a-470c-b5fd-d5f88d6bb4d4",
   "metadata": {},
   "outputs": [
    {
     "name": "stdout",
     "output_type": "stream",
     "text": [
      "1 2\n"
     ]
    }
   ],
   "source": [
    "t = (1,2)\n",
    "type(t)\n",
    "idx,value = t\n",
    "print(idx,value)"
   ]
  },
  {
   "cell_type": "code",
   "execution_count": 9,
   "id": "b41435b9-a66b-4dca-8b73-1c5cc318814f",
   "metadata": {},
   "outputs": [
    {
     "name": "stdout",
     "output_type": "stream",
     "text": [
      "item at index 0 is 1\n",
      "item at index 1 is 2\n",
      "item at index 2 is 3\n",
      "item at index 3 is 4\n",
      "item at index 4 is 5\n",
      "item at index 5 is 6\n",
      "item at index 6 is 7\n",
      "item at index 7 is 8\n",
      "item at index 8 is hello info\n"
     ]
    }
   ],
   "source": [
    "# looping through container data\n",
    "# create a list using enumerate\n",
    "\n",
    "my_list = [1,2,3,4,5,6,7,8,\"hello info\"]\n",
    "\n",
    "for idx,item in enumerate(my_list):\n",
    "    #do something with item\n",
    "    # if(type(item) == type(\" \")):\n",
    "    #     # this is the 'hello world string'\n",
    "    #     print(item)\n",
    "    # else:\n",
    "    #     # print(f\"Square of {item} is {item **2}\", end = \" \")\n",
    "    #     print(f\"Square of {item} is {item **2}\")\n",
    "    print(f\"item at index {idx} is {item}\")"
   ]
  },
  {
   "cell_type": "code",
   "execution_count": 10,
   "id": "52e5c4c4-a66f-41ad-bc49-334ffda02aac",
   "metadata": {},
   "outputs": [],
   "source": [
    "test_enumerated = enumerate([1,2,3,4])"
   ]
  },
  {
   "cell_type": "code",
   "execution_count": 11,
   "id": "f9fcf05e-e849-40de-b887-9f27757b3aa5",
   "metadata": {},
   "outputs": [
    {
     "data": {
      "text/plain": [
       "enumerate"
      ]
     },
     "execution_count": 11,
     "metadata": {},
     "output_type": "execute_result"
    }
   ],
   "source": [
    "type(test_enumerated)"
   ]
  },
  {
   "cell_type": "code",
   "execution_count": 12,
   "id": "7dbec262-46de-4be1-8a35-20ce071c516b",
   "metadata": {},
   "outputs": [
    {
     "data": {
      "text/plain": [
       "['__class__',\n",
       " '__class_getitem__',\n",
       " '__delattr__',\n",
       " '__dir__',\n",
       " '__doc__',\n",
       " '__eq__',\n",
       " '__format__',\n",
       " '__ge__',\n",
       " '__getattribute__',\n",
       " '__gt__',\n",
       " '__hash__',\n",
       " '__init__',\n",
       " '__init_subclass__',\n",
       " '__iter__',\n",
       " '__le__',\n",
       " '__lt__',\n",
       " '__ne__',\n",
       " '__new__',\n",
       " '__next__',\n",
       " '__reduce__',\n",
       " '__reduce_ex__',\n",
       " '__repr__',\n",
       " '__setattr__',\n",
       " '__sizeof__',\n",
       " '__str__',\n",
       " '__subclasshook__']"
      ]
     },
     "execution_count": 12,
     "metadata": {},
     "output_type": "execute_result"
    }
   ],
   "source": [
    "dir(test_enumerated)"
   ]
  },
  {
   "cell_type": "code",
   "execution_count": null,
   "id": "4b247c93-b462-4c2f-b9ac-92abe9871a06",
   "metadata": {},
   "outputs": [],
   "source": [
    "next(test_enumerated)"
   ]
  },
  {
   "cell_type": "code",
   "execution_count": 1,
   "id": "f18affc4-6938-4e7e-9cbe-07933c669c3c",
   "metadata": {},
   "outputs": [
    {
     "name": "stdout",
     "output_type": "stream",
     "text": [
      "0 0\n",
      "0 1\n",
      "0 2\n",
      "1 0\n",
      "1 1\n",
      "1 2\n",
      "2 0\n",
      "2 1\n",
      "2 2\n"
     ]
    }
   ],
   "source": [
    "for outerVar in range(3):\n",
    "    for innerVar in range(3):\n",
    "        print(outerVar,innerVar)"
   ]
  },
  {
   "cell_type": "code",
   "execution_count": 2,
   "id": "16ffc665-46a9-49c4-8481-b6e29032cb60",
   "metadata": {},
   "outputs": [],
   "source": [
    "# applied version of the nested loop\n",
    "# names =  [{'name': 'kyle', 'grades' : [100,89,90]}, {'name':'andrew', 'grades':[45, 68,50]}, {'name':'john', 'grades': [100,100,99]}]\n",
    "kyle = {'name': 'kyle', 'grades' : [100,89,90], 'final' : 'A'}\n",
    "andrew = {'name':'andrew', 'grades':[45, 68,50], 'final': 'A'}\n",
    "john = {'name':'john', 'grades': [100,100,99], 'final' : 'D'}\n",
    "names = [kyle, andrew, john]"
   ]
  },
  {
   "cell_type": "code",
   "execution_count": 6,
   "id": "0be9d35e-7a69-4e88-abdb-62ad0a5c24b8",
   "metadata": {},
   "outputs": [
    {
     "data": {
      "text/plain": [
       "[{'name': 'kyle', 'grades': [100, 89, 90], 'final': 'A'},\n",
       " {'name': 'andrew', 'grades': [45, 68, 50], 'final': 'A'},\n",
       " {'name': 'john', 'grades': [100, 100, 99], 'final': 'D'}]"
      ]
     },
     "execution_count": 6,
     "metadata": {},
     "output_type": "execute_result"
    }
   ],
   "source": [
    "names"
   ]
  },
  {
   "cell_type": "code",
   "execution_count": 7,
   "id": "02f9abd3-e7a7-48fc-99d4-d6d9f6edb6dc",
   "metadata": {},
   "outputs": [
    {
     "name": "stdout",
     "output_type": "stream",
     "text": [
      "{'name': 'kyle', 'grades': [100, 89, 90], 'final': 'A'}\n",
      "{'name': 'andrew', 'grades': [45, 68, 50], 'final': 'A'}\n",
      "{'name': 'john', 'grades': [100, 100, 99], 'final': 'D'}\n"
     ]
    }
   ],
   "source": [
    "# get students that scored an A\n",
    "for student in names:\n",
    "    print(student)"
   ]
  },
  {
   "cell_type": "code",
   "execution_count": 3,
   "id": "fd521219-35d8-4fb0-b8c5-92b8ce412377",
   "metadata": {},
   "outputs": [
    {
     "name": "stdout",
     "output_type": "stream",
     "text": [
      "kyle, marks: 100\n",
      "kyle, marks: 89\n",
      "kyle, marks: 90\n",
      "andrew, marks: 45\n",
      "andrew, marks: 68\n",
      "andrew, marks: 50\n",
      "john, marks: 100\n",
      "john, marks: 100\n",
      "john, marks: 99\n"
     ]
    }
   ],
   "source": [
    "for student in names:\n",
    "    for grade_item in student['grades']:\n",
    "        print(f\"{student['name']}, marks: {grade_item}\")\n",
    "    "
   ]
  },
  {
   "cell_type": "code",
   "execution_count": 4,
   "id": "a1c54181-7bbe-42d8-98ba-803e6c9d7b5f",
   "metadata": {},
   "outputs": [
    {
     "name": "stdout",
     "output_type": "stream",
     "text": [
      "kyle scored an A!\n",
      "john scored an A!\n"
     ]
    }
   ],
   "source": [
    "# assume we didn't have a final grade\n",
    "#A_students = []\n",
    "for student in names:\n",
    "    # placeholder \n",
    "    # total = 0\n",
    "    # for grade_item in student['grades']:\n",
    "    #     total + = \n",
    "    \n",
    "    #get average\n",
    "    mean_grade = sum(student['grades']) / len(student['grades'])\n",
    "    if (mean_grade) > 90:\n",
    "        print (f\"{student['name']} scored an A!\")\n",
    "        #A_students.append\n"
   ]
  },
  {
   "cell_type": "code",
   "execution_count": 7,
   "id": "89bc57c6-e5f5-4d1f-bc1f-439eddad9cf9",
   "metadata": {},
   "outputs": [
    {
     "name": "stdout",
     "output_type": "stream",
     "text": [
      "kyle scored an A!\n",
      "john scored an A!\n"
     ]
    }
   ],
   "source": [
    "# assume we didn't have a final grade\n",
    "A_students = []\n",
    "for student in names:\n",
    "    # placeholder \n",
    "    # total = 0\n",
    "    # for grade_item in student['grades']:\n",
    "    #     total + = \n",
    "    \n",
    "    #get average\n",
    "    mean_grade = sum(student['grades']) / len(student['grades'])\n",
    "    if (mean_grade) > 90:\n",
    "        print (f\"{student['name']} scored an A!\")\n",
    "        A_students.append(student['name'])"
   ]
  },
  {
   "cell_type": "code",
   "execution_count": 8,
   "id": "31fc1ea0-1a1a-414a-a99b-7c452cbfed7d",
   "metadata": {},
   "outputs": [
    {
     "data": {
      "text/plain": [
       "['kyle', 'john']"
      ]
     },
     "execution_count": 8,
     "metadata": {},
     "output_type": "execute_result"
    }
   ],
   "source": [
    "A_students"
   ]
  },
  {
   "cell_type": "code",
   "execution_count": 10,
   "id": "7ae34549-6bf9-45a5-9090-da4e6cba0728",
   "metadata": {},
   "outputs": [
    {
     "name": "stdout",
     "output_type": "stream",
     "text": [
      "kyle scored an A!\n",
      "john scored an A!\n"
     ]
    }
   ],
   "source": [
    "A_students = []\n",
    "for student in names:\n",
    "    total = 0\n",
    "    for grade_item in student['grades']:\n",
    "        total += grade_item\n",
    "       \n",
    "    #get average\n",
    "    meanG = total/len(student['grades'])\n",
    "    if (meanG) > 90:\n",
    "        print (f\"{student['name']} scored an A!\")\n",
    "        A_students.append(student['name'])\n",
    "    \n"
   ]
  },
  {
   "cell_type": "code",
   "execution_count": null,
   "id": "eb7f692d-af09-4d60-b253-31da8f2f7a11",
   "metadata": {},
   "outputs": [],
   "source": [
    "# create a casino program\n",
    "\n",
    "# games: allow user to pick from a number of games\n",
    "\n",
    "#bets within the games\n",
    "\n",
    "# how much money is in your account \n",
    "\n",
    "# stats/leaderboards: \n",
    "\n",
    "# game rules : min bet, maximum bets etc"
   ]
  }
 ],
 "metadata": {
  "kernelspec": {
   "display_name": "info2000",
   "language": "python",
   "name": "info2000"
  },
  "language_info": {
   "codemirror_mode": {
    "name": "ipython",
    "version": 3
   },
   "file_extension": ".py",
   "mimetype": "text/x-python",
   "name": "python",
   "nbconvert_exporter": "python",
   "pygments_lexer": "ipython3",
   "version": "3.9.16"
  }
 },
 "nbformat": 4,
 "nbformat_minor": 5
}
