{
 "cells": [
  {
   "cell_type": "code",
   "execution_count": 1,
   "id": "064b0fb1-987a-45f7-8c25-a40291ba11a1",
   "metadata": {},
   "outputs": [],
   "source": [
    "myFile = open(\"exampleFile.txt\", 'w')"
   ]
  },
  {
   "cell_type": "code",
   "execution_count": 2,
   "id": "42499a95-be67-4534-bd05-5067d4f0349e",
   "metadata": {},
   "outputs": [
    {
     "data": {
      "text/plain": [
       "<_io.TextIOWrapper name='exampleFile.txt' mode='w' encoding='cp1252'>"
      ]
     },
     "execution_count": 2,
     "metadata": {},
     "output_type": "execute_result"
    }
   ],
   "source": [
    "myFile\n"
   ]
  },
  {
   "cell_type": "code",
   "execution_count": 3,
   "id": "e5257eb2-7926-406f-b187-4dd0bd6e2412",
   "metadata": {},
   "outputs": [
    {
     "data": {
      "text/plain": [
       "11"
      ]
     },
     "execution_count": 3,
     "metadata": {},
     "output_type": "execute_result"
    }
   ],
   "source": [
    "myFile.write(\"Hello world\")"
   ]
  },
  {
   "cell_type": "code",
   "execution_count": 4,
   "id": "908339b2-47b0-4a97-a832-999e3ef25af2",
   "metadata": {},
   "outputs": [],
   "source": [
    "myFile.close()"
   ]
  },
  {
   "cell_type": "code",
   "execution_count": 5,
   "id": "52608f81-81cd-4975-82e7-f9d6aa30bc63",
   "metadata": {},
   "outputs": [],
   "source": [
    "myFile = open(\"exampleFile.txt\", 'a')"
   ]
  },
  {
   "cell_type": "code",
   "execution_count": 6,
   "id": "88772d6a-58a8-4e36-8e00-e31aca9d64bf",
   "metadata": {},
   "outputs": [
    {
     "data": {
      "text/plain": [
       "16"
      ]
     },
     "execution_count": 6,
     "metadata": {},
     "output_type": "execute_result"
    }
   ],
   "source": [
    "myFile.write(\"\\nHello world X 2\")"
   ]
  },
  {
   "cell_type": "code",
   "execution_count": 7,
   "id": "3a516060-3998-44cb-a47a-19f70dd52959",
   "metadata": {},
   "outputs": [],
   "source": [
    "myFile.flush()"
   ]
  },
  {
   "cell_type": "code",
   "execution_count": 8,
   "id": "2f880bfe-5400-46bb-82fb-503b68f1a632",
   "metadata": {},
   "outputs": [],
   "source": [
    "myFile.close()"
   ]
  },
  {
   "cell_type": "code",
   "execution_count": 9,
   "id": "94af1e09-0724-4030-9267-376dbaa8cc99",
   "metadata": {},
   "outputs": [],
   "source": [
    "with open (\"exampleFile.txt\", 'r') as workingFile:\n",
    "    # anything that's in this block can access the file \n",
    "    # using the variable name : in this case wotkingFile\n",
    "    fileContents = workingFile.read()\n",
    "    "
   ]
  },
  {
   "cell_type": "code",
   "execution_count": 10,
   "id": "bf25a0c4-4579-4f8d-9fb1-d5987048df5d",
   "metadata": {},
   "outputs": [
    {
     "data": {
      "text/plain": [
       "'Hello world\\nHello world X 2'"
      ]
     },
     "execution_count": 10,
     "metadata": {},
     "output_type": "execute_result"
    }
   ],
   "source": [
    "fileContents"
   ]
  },
  {
   "cell_type": "code",
   "execution_count": 11,
   "id": "f7ca6b80-6210-42da-bd3c-7ea14fac98fa",
   "metadata": {},
   "outputs": [],
   "source": [
    "with open (\"exampleFile.txt\", 'r') as workingFile:\n",
    "    # anything that's in this block can access the file \n",
    "    # using the variable name : in this case wotkingFile\n",
    "    #demontrating readlines()\n",
    "    fileContentsReadlines = workingFile.readlines()"
   ]
  },
  {
   "cell_type": "code",
   "execution_count": 12,
   "id": "4b885422-bd62-417e-90d2-e3b5503f3e35",
   "metadata": {},
   "outputs": [
    {
     "data": {
      "text/plain": [
       "list"
      ]
     },
     "execution_count": 12,
     "metadata": {},
     "output_type": "execute_result"
    }
   ],
   "source": [
    "type(fileContentsReadlines)"
   ]
  },
  {
   "cell_type": "code",
   "execution_count": 13,
   "id": "43e97ac2-90d0-4bfa-bf72-9ef93a9b3b51",
   "metadata": {},
   "outputs": [
    {
     "data": {
      "text/plain": [
       "['Hello world\\n', 'Hello world X 2']"
      ]
     },
     "execution_count": 13,
     "metadata": {},
     "output_type": "execute_result"
    }
   ],
   "source": [
    "fileContentsReadlines"
   ]
  },
  {
   "cell_type": "code",
   "execution_count": 14,
   "id": "de0a05df-7e99-48d3-b4a6-ed4d371416d1",
   "metadata": {},
   "outputs": [
    {
     "name": "stdout",
     "output_type": "stream",
     "text": [
      "Hello World\n",
      "\n",
      "Hello World X 2\n"
     ]
    }
   ],
   "source": [
    "for line in fileContentsReadlines:\n",
    "    print(line.title())"
   ]
  },
  {
   "cell_type": "code",
   "execution_count": 15,
   "id": "0a471213-800a-476f-a28d-777f6b7a842f",
   "metadata": {},
   "outputs": [
    {
     "name": "stdout",
     "output_type": "stream",
     "text": [
      "Hello world\n",
      "\n",
      "Hello world X 2\n"
     ]
    }
   ],
   "source": [
    "with open (\"exampleFile.txt\", 'r') as workingFile:\n",
    "    # anything that's in this block can access the file \n",
    "    # using the variable name : in this case wotkingFile\n",
    "    for line in workingFile:\n",
    "        # do something with line\n",
    "        print(line)"
   ]
  },
  {
   "cell_type": "code",
   "execution_count": 16,
   "id": "84154e8f-a845-48da-9870-4166c135b88c",
   "metadata": {},
   "outputs": [
    {
     "name": "stdout",
     "output_type": "stream",
     "text": [
      "Hello world\n",
      "\n",
      "Hello world X 2\n"
     ]
    }
   ],
   "source": [
    "with open (\"exampleFile.txt\", 'r') as workingFile:\n",
    "    # anything that's in this block can access the file \n",
    "    # using the variable name : in this case wotkingFile\n",
    "    #demontrating readline()\n",
    "    line = workingFile.readline()\n",
    "    while not line == '':\n",
    "        # do something with line\n",
    "        print(line)\n",
    "        line = workingFile.readline()"
   ]
  },
  {
   "cell_type": "code",
   "execution_count": 17,
   "id": "60ef4844-4fa7-493a-ad92-13a7187b8d21",
   "metadata": {},
   "outputs": [],
   "source": [
    "with open (\"exampleFile.txt\", 'a') as workingFile:\n",
    "    l = [\"line 1\" ,\"line2\", \"line3\" ,\"line4\", \"line5\"]\n",
    "    for item in l:\n",
    "        workingFile.write(\"\\n\" + item )"
   ]
  },
  {
   "cell_type": "code",
   "execution_count": 18,
   "id": "c93b2f21-28c5-4741-9086-c95b8640c2db",
   "metadata": {},
   "outputs": [],
   "source": [
    "with open (\"exampleFile.txt\", 'a') as workingFile:\n",
    "    l = [\"line 1\" ,\"line2\", \"line3\" ,\"line4\", \"line5\"]\n",
    "    workingFile.writelines(l)"
   ]
  },
  {
   "cell_type": "code",
   "execution_count": 19,
   "id": "f52b9589-531b-4a4f-9871-9204afc2e41b",
   "metadata": {},
   "outputs": [],
   "source": [
    "kyle = {'name': 'kyle', 'grades' : [100,89,90], 'final' : 'A'}\n",
    "andrew = {'name':'andrew', 'grades':[45, 68,50], 'final': 'D'}\n",
    "john = {'name':'john', 'grades': [100,100,99], 'final' : 'A'}\n",
    "names = [kyle, andrew, john]"
   ]
  },
  {
   "cell_type": "code",
   "execution_count": 20,
   "id": "7416d225-47f9-4d14-82f4-f30f6e6851af",
   "metadata": {},
   "outputs": [
    {
     "data": {
      "text/plain": [
       "[{'name': 'kyle', 'grades': [100, 89, 90], 'final': 'A'},\n",
       " {'name': 'andrew', 'grades': [45, 68, 50], 'final': 'D'},\n",
       " {'name': 'john', 'grades': [100, 100, 99], 'final': 'A'}]"
      ]
     },
     "execution_count": 20,
     "metadata": {},
     "output_type": "execute_result"
    }
   ],
   "source": [
    "names"
   ]
  },
  {
   "cell_type": "code",
   "execution_count": 21,
   "id": "5f409a74-0238-4cf0-9353-be0dfc9b3c11",
   "metadata": {},
   "outputs": [],
   "source": [
    "import json"
   ]
  },
  {
   "cell_type": "code",
   "execution_count": 22,
   "id": "809621e9-b776-41a6-91f9-02be4ad296ae",
   "metadata": {},
   "outputs": [],
   "source": [
    "with open('students.txt','w') as studentFile:\n",
    "    json.dump(names, studentFile, indent= 6)"
   ]
  },
  {
   "cell_type": "code",
   "execution_count": 23,
   "id": "6ff68703-47c4-4e20-b4d8-fb33d5322c76",
   "metadata": {},
   "outputs": [],
   "source": [
    "with open('students.txt','r') as studentFile:\n",
    "    myReadStudents = json.load(studentFile)"
   ]
  },
  {
   "cell_type": "code",
   "execution_count": 24,
   "id": "ed115b51-2bd1-4c6a-be23-2ff6f74a2373",
   "metadata": {},
   "outputs": [
    {
     "data": {
      "text/plain": [
       "[{'name': 'kyle', 'grades': [100, 89, 90], 'final': 'A'},\n",
       " {'name': 'andrew', 'grades': [45, 68, 50], 'final': 'D'},\n",
       " {'name': 'john', 'grades': [100, 100, 99], 'final': 'A'}]"
      ]
     },
     "execution_count": 24,
     "metadata": {},
     "output_type": "execute_result"
    }
   ],
   "source": [
    "myReadStudents"
   ]
  },
  {
   "cell_type": "code",
   "execution_count": 25,
   "id": "5d08d8cb-a0b7-4b0f-bd49-fad704bd8e73",
   "metadata": {},
   "outputs": [
    {
     "data": {
      "text/plain": [
       "list"
      ]
     },
     "execution_count": 25,
     "metadata": {},
     "output_type": "execute_result"
    }
   ],
   "source": [
    "type(myReadStudents)"
   ]
  },
  {
   "cell_type": "code",
   "execution_count": 26,
   "id": "0f3b12d4-b537-4bdc-bdcd-894073cffa9e",
   "metadata": {},
   "outputs": [],
   "source": [
    "# create a function for BMI calculation\n",
    "\n",
    "def BMICalculator(height, weight):\n",
    "    myBMI = weight / (height**2)\n",
    "    return myBMI"
   ]
  },
  {
   "cell_type": "code",
   "execution_count": 27,
   "id": "eee3436e-3faa-45cf-89f5-ebeac38bb913",
   "metadata": {},
   "outputs": [
    {
     "data": {
      "text/plain": [
       "26.666666666666668"
      ]
     },
     "execution_count": 27,
     "metadata": {},
     "output_type": "execute_result"
    }
   ],
   "source": [
    "BMICalculator(1.5, 60)"
   ]
  },
  {
   "cell_type": "code",
   "execution_count": 28,
   "id": "9004c363-a8fa-4db3-bcec-304f6b86e1d1",
   "metadata": {},
   "outputs": [
    {
     "ename": "NameError",
     "evalue": "name 'height' is not defined",
     "output_type": "error",
     "traceback": [
      "\u001b[1;31m--------------------------------\u001b[0m",
      "\u001b[1;31mNameError\u001b[0mTraceback (most recent call last)",
      "Cell \u001b[1;32mIn[28], line 1\u001b[0m\n\u001b[1;32m----> 1\u001b[0m \u001b[43mheight\u001b[49m\n",
      "\u001b[1;31mNameError\u001b[0m: name 'height' is not defined"
     ]
    }
   ],
   "source": [
    "height"
   ]
  },
  {
   "cell_type": "code",
   "execution_count": 29,
   "id": "4dce43b9-8c61-469a-a7d1-790a27d66513",
   "metadata": {},
   "outputs": [],
   "source": [
    "# demonstrate default arguments\n",
    "def BMICalculator2(height, weight, units = \"metric\"):\n",
    "    if units == 'imperial':\n",
    "        # convert height and weight into metric\n",
    "        height = height * 0.254 # convert to meters \n",
    "        weight = weight * 0.5 # conver to kgs\n",
    "    myBMI = weight / (height**2)\n",
    "    return myBMI"
   ]
  },
  {
   "cell_type": "code",
   "execution_count": 30,
   "id": "fe826d03-52f4-4a40-9f62-8f167c6250c9",
   "metadata": {},
   "outputs": [
    {
     "data": {
      "text/plain": [
       "26.666666666666668"
      ]
     },
     "execution_count": 30,
     "metadata": {},
     "output_type": "execute_result"
    }
   ],
   "source": [
    "BMICalculator2(1.5, 60)"
   ]
  },
  {
   "cell_type": "code",
   "execution_count": 31,
   "id": "b29d54e2-e612-474b-9d72-5b4795189e22",
   "metadata": {},
   "outputs": [
    {
     "data": {
      "text/plain": [
       "206.66708000082664"
      ]
     },
     "execution_count": 31,
     "metadata": {},
     "output_type": "execute_result"
    }
   ],
   "source": [
    "BMICalculator2(1.5, 60, 'imperial')"
   ]
  },
  {
   "cell_type": "code",
   "execution_count": 32,
   "id": "b19f0c16-8ffd-4691-8bea-b26e14556417",
   "metadata": {},
   "outputs": [],
   "source": [
    "# demonstrate default arguments\n",
    "def BMICalculator2(height, weight, units ):\n",
    "    if units == 'imperial':\n",
    "        # convert height and weight into metric\n",
    "        height = height * 0.254 # convert to meters \n",
    "        weight = weight * 0.5 # conver to kgs\n",
    "    myBMI = weight / (height**2)\n",
    "    return myBMI"
   ]
  },
  {
   "cell_type": "code",
   "execution_count": 33,
   "id": "33031f90-e8ee-4525-8a6c-d350c5e1a9f2",
   "metadata": {},
   "outputs": [
    {
     "ename": "TypeError",
     "evalue": "BMICalculator2() missing 1 required positional argument: 'units'",
     "output_type": "error",
     "traceback": [
      "\u001b[1;31m--------------------------------\u001b[0m",
      "\u001b[1;31mTypeError\u001b[0mTraceback (most recent call last)",
      "Cell \u001b[1;32mIn[33], line 1\u001b[0m\n\u001b[1;32m----> 1\u001b[0m \u001b[43mBMICalculator2\u001b[49m\u001b[43m(\u001b[49m\u001b[38;5;241;43m1.5\u001b[39;49m\u001b[43m,\u001b[49m\u001b[43m \u001b[49m\u001b[38;5;241;43m60\u001b[39;49m\u001b[43m)\u001b[49m\n",
      "\u001b[1;31mTypeError\u001b[0m: BMICalculator2() missing 1 required positional argument: 'units'"
     ]
    }
   ],
   "source": [
    "BMICalculator2(1.5, 60)"
   ]
  },
  {
   "cell_type": "code",
   "execution_count": 34,
   "id": "c983b53a-2dae-4f61-ae12-c9dfa8e35bc0",
   "metadata": {},
   "outputs": [],
   "source": [
    "# demonstrate default arguments\n",
    "def BMICalculator2(height = 5, weight = 6, units = 'metric'):\n",
    "    if units == 'imperial':\n",
    "        # convert height and weight into metric\n",
    "        height = height * 0.254 # convert to meters \n",
    "        weight = weight * 0.5 # conver to kgs\n",
    "    myBMI = weight / (height**2)\n",
    "    return myBMI"
   ]
  },
  {
   "cell_type": "code",
   "execution_count": 35,
   "id": "37b849af-872e-477c-a095-b8c9fcab9a46",
   "metadata": {},
   "outputs": [
    {
     "data": {
      "text/plain": [
       "0.24"
      ]
     },
     "execution_count": 35,
     "metadata": {},
     "output_type": "execute_result"
    }
   ],
   "source": [
    "BMICalculator2()"
   ]
  },
  {
   "cell_type": "code",
   "execution_count": 36,
   "id": "f185f890-6661-47dd-8626-75720a98d71c",
   "metadata": {},
   "outputs": [],
   "source": [
    "myNewList = [x for x in range (0,5)]"
   ]
  },
  {
   "cell_type": "code",
   "execution_count": 37,
   "id": "df69c1a0-2bdc-429a-be50-43f6e9209b73",
   "metadata": {},
   "outputs": [],
   "source": [
    "myNewList2 = [x+5 for x in range (0,5)]"
   ]
  },
  {
   "cell_type": "code",
   "execution_count": 38,
   "id": "7278a9a0-c7de-48c7-a8c3-f8c55614cede",
   "metadata": {},
   "outputs": [
    {
     "data": {
      "text/plain": [
       "[5, 6, 7, 8, 9]"
      ]
     },
     "execution_count": 38,
     "metadata": {},
     "output_type": "execute_result"
    }
   ],
   "source": [
    "myNewList2"
   ]
  },
  {
   "cell_type": "code",
   "execution_count": 39,
   "id": "6426dac9-7d6b-4cdb-99f4-fea1a8ee5da4",
   "metadata": {},
   "outputs": [],
   "source": [
    "myNewList2 = [x+5 for x in [1,3,5,67,8,90]]"
   ]
  },
  {
   "cell_type": "code",
   "execution_count": 40,
   "id": "d455e64f-d384-4902-8510-2440e2148a47",
   "metadata": {},
   "outputs": [
    {
     "data": {
      "text/plain": [
       "[6, 8, 10, 72, 13, 95]"
      ]
     },
     "execution_count": 40,
     "metadata": {},
     "output_type": "execute_result"
    }
   ],
   "source": [
    "myNewList2"
   ]
  },
  {
   "cell_type": "code",
   "execution_count": 41,
   "id": "d764fa28-c533-4cd3-9b4b-aa97fcb76237",
   "metadata": {},
   "outputs": [
    {
     "data": {
      "text/plain": [
       "[{'name': 'kyle', 'grades': [100, 89, 90], 'final': 'A'},\n",
       " {'name': 'andrew', 'grades': [45, 68, 50], 'final': 'D'},\n",
       " {'name': 'john', 'grades': [100, 100, 99], 'final': 'A'}]"
      ]
     },
     "execution_count": 41,
     "metadata": {},
     "output_type": "execute_result"
    }
   ],
   "source": [
    "names"
   ]
  },
  {
   "cell_type": "code",
   "execution_count": 42,
   "id": "0c1ed4ab-2776-4b14-aede-cbfa87e5b970",
   "metadata": {},
   "outputs": [
    {
     "data": {
      "text/plain": [
       "'kyle'"
      ]
     },
     "execution_count": 42,
     "metadata": {},
     "output_type": "execute_result"
    }
   ],
   "source": [
    "names[0]['name']"
   ]
  },
  {
   "cell_type": "code",
   "execution_count": 43,
   "id": "aad3ec34-8590-429d-96c8-2da43530c48a",
   "metadata": {},
   "outputs": [],
   "source": [
    "studentList = [student['name'] for student in names]"
   ]
  },
  {
   "cell_type": "code",
   "execution_count": 44,
   "id": "0cbefd89-f466-4d24-95a4-27c3959f6f79",
   "metadata": {},
   "outputs": [
    {
     "data": {
      "text/plain": [
       "['kyle', 'andrew', 'john']"
      ]
     },
     "execution_count": 44,
     "metadata": {},
     "output_type": "execute_result"
    }
   ],
   "source": [
    "studentList"
   ]
  },
  {
   "cell_type": "code",
   "execution_count": 45,
   "id": "3e83224b-1db4-4ebc-8614-d5ec914c7303",
   "metadata": {},
   "outputs": [],
   "source": [
    "A_students = [notFriendlyVariableName['final'] for notFriendlyVariableName in names ]"
   ]
  },
  {
   "cell_type": "code",
   "execution_count": 46,
   "id": "bed82556-b9ca-4722-8b11-baab6b09f77e",
   "metadata": {},
   "outputs": [
    {
     "data": {
      "text/plain": [
       "['A', 'D', 'A']"
      ]
     },
     "execution_count": 46,
     "metadata": {},
     "output_type": "execute_result"
    }
   ],
   "source": [
    "A_students"
   ]
  },
  {
   "cell_type": "code",
   "execution_count": 47,
   "id": "e524a37d-2a3d-4f71-b494-33ae40783347",
   "metadata": {},
   "outputs": [],
   "source": [
    "A_students = [student['name'] for student in names if student['final'] == 'A']"
   ]
  },
  {
   "cell_type": "code",
   "execution_count": 48,
   "id": "91ff9dfc-3ee5-475a-b6eb-76207272e61d",
   "metadata": {},
   "outputs": [
    {
     "data": {
      "text/plain": [
       "['kyle', 'john']"
      ]
     },
     "execution_count": 48,
     "metadata": {},
     "output_type": "execute_result"
    }
   ],
   "source": [
    "A_students"
   ]
  },
  {
   "cell_type": "code",
   "execution_count": 49,
   "id": "6855edd0-75c7-4527-afd2-6cd06f09d55b",
   "metadata": {},
   "outputs": [],
   "source": [
    "l1 = [1,2,3,4,5]\n",
    "l2 = [6,7,8,9,10]\n",
    "\n",
    "l3 = [x+y for x,y in zip(l1,l2)]"
   ]
  },
  {
   "cell_type": "code",
   "execution_count": 50,
   "id": "7b084b7d-54bd-407a-943f-7457a9cfcd3c",
   "metadata": {},
   "outputs": [
    {
     "data": {
      "text/plain": [
       "[7, 9, 11, 13, 15]"
      ]
     },
     "execution_count": 50,
     "metadata": {},
     "output_type": "execute_result"
    }
   ],
   "source": [
    "l3"
   ]
  },
  {
   "cell_type": "code",
   "execution_count": 51,
   "id": "60510565-98d6-4936-9bc6-19baa076e242",
   "metadata": {},
   "outputs": [],
   "source": [
    "f = lambda x,y:x+y"
   ]
  },
  {
   "cell_type": "code",
   "execution_count": 52,
   "id": "00998069-9547-4fc6-bf96-c58990e6be08",
   "metadata": {},
   "outputs": [
    {
     "data": {
      "text/plain": [
       "3"
      ]
     },
     "execution_count": 52,
     "metadata": {},
     "output_type": "execute_result"
    }
   ],
   "source": [
    "f(1,2)"
   ]
  },
  {
   "cell_type": "code",
   "execution_count": 55,
   "id": "9fef6fe5-3962-4104-a276-5be19dbe4172",
   "metadata": {},
   "outputs": [
    {
     "ename": "TypeError",
     "evalue": "<lambda>() missing 1 required positional argument: 'y'",
     "output_type": "error",
     "traceback": [
      "\u001b[1;31m--------------------------------\u001b[0m",
      "\u001b[1;31mTypeError\u001b[0mTraceback (most recent call last)",
      "Cell \u001b[1;32mIn[55], line 1\u001b[0m\n\u001b[1;32m----> 1\u001b[0m \u001b[38;5;28;43mlist\u001b[39;49m\u001b[43m(\u001b[49m\u001b[38;5;28;43mmap\u001b[39;49m\u001b[43m(\u001b[49m\u001b[43mf\u001b[49m\u001b[43m,\u001b[49m\u001b[43m \u001b[49m\u001b[43m(\u001b[49m\u001b[38;5;241;43m1\u001b[39;49m\u001b[43m,\u001b[49m\u001b[38;5;241;43m2\u001b[39;49m\u001b[43m)\u001b[49m\u001b[43m)\u001b[49m\u001b[43m)\u001b[49m\n",
      "\u001b[1;31mTypeError\u001b[0m: <lambda>() missing 1 required positional argument: 'y'"
     ]
    }
   ],
   "source": [
    "list(map(f, (1,2)))"
   ]
  },
  {
   "cell_type": "code",
   "execution_count": 53,
   "id": "f98876b3-8b15-40c2-9e11-f31f6908105b",
   "metadata": {},
   "outputs": [
    {
     "data": {
      "text/plain": [
       "<map at 0x1538da6ff40>"
      ]
     },
     "execution_count": 53,
     "metadata": {},
     "output_type": "execute_result"
    }
   ],
   "source": [
    "map(f, (1,2),(2,3))"
   ]
  },
  {
   "cell_type": "code",
   "execution_count": 56,
   "id": "a209b5a2-9493-493d-af93-01b3c624b0f8",
   "metadata": {},
   "outputs": [
    {
     "data": {
      "text/plain": [
       "[3, 5]"
      ]
     },
     "execution_count": 56,
     "metadata": {},
     "output_type": "execute_result"
    }
   ],
   "source": [
    "list(map(f, (1,2),(2,3))) # fixed the error in class. we needed more than one pair of arguments to map onto the function"
   ]
  },
  {
   "cell_type": "code",
   "execution_count": 57,
   "id": "52a761d9-ab78-486c-8085-cc6ec55595e0",
   "metadata": {},
   "outputs": [
    {
     "data": {
      "text/plain": [
       "[3, 5]"
      ]
     },
     "execution_count": 57,
     "metadata": {},
     "output_type": "execute_result"
    }
   ],
   "source": [
    "list(map(f, [1,2],[2,3])) # this works too"
   ]
  },
  {
   "cell_type": "markdown",
   "id": "a9a8038f-a1d7-4840-bfda-6b7591caa7f7",
   "metadata": {},
   "source": [
    "## we need to read user details from file if they exist and put them into file if they don't exist"
   ]
  },
  {
   "cell_type": "markdown",
   "id": "ca28fe1e-a6cb-450e-a48f-bfbeaa199c92",
   "metadata": {},
   "source": [
    "## 1) First way: with each user's details going into individual files"
   ]
  },
  {
   "cell_type": "code",
   "execution_count": null,
   "id": "d5b50365-0754-45ef-a19b-36dba01bd986",
   "metadata": {},
   "outputs": [],
   "source": [
    "import os"
   ]
  },
  {
   "cell_type": "code",
   "execution_count": null,
   "id": "58388172-ec75-4e1e-8ca8-eb5c7d949c28",
   "metadata": {},
   "outputs": [],
   "source": [
    "username = input(\"enter name\")\n",
    "filename = username+'.txt' #e.g andrew.txt\n",
    "if os.path.exists(filename): #user already exists \n",
    "    #another way to check if the file exists is through if filename in os.listdir()\n",
    "    with open( filename, 'r') as myFile:\n",
    "        contents = myFile.read()\n",
    "        height,age,major = contents.split(',') # height,age,major is the format we're using to store the values\n",
    "        print(f\"hello {username}, we have you on file already! \\n your height is {height} cm, your age is {age} years, and your major is {major}!\")\n",
    "else:\n",
    "    # doesn't exist \n",
    "    #ask user to input their height,age,major sperated by a comma\n",
    "    # we'll split on the comma to get the values\n",
    "    userIn = input(\"Enter height, age and major exactly like this: height,age,major\")\n",
    "    height, age, major = userIn.split(\",\")\n",
    "    # since user doesn't exist, let's create file for them\n",
    "    #by opening a file by their name in 'w' mode\n",
    "    with open( filename, 'w') as myFile:\n",
    "    #let's create the string to write in the file \n",
    "        toWrite = \",\".join([height,age,major]) \n",
    "        # you could also do toWrite = height+',' + age + ',' + major\n",
    "        # in fact, since the user entered them in this format to begin with\n",
    "        # we can: toWrite = userIn\n",
    "        \n",
    "        myFile.write(toWrite) # actually write information to the file\n",
    "        \n"
   ]
  },
  {
   "cell_type": "code",
   "execution_count": null,
   "id": "ac3de3b0-65d4-4ab3-8543-60c65fe829e7",
   "metadata": {},
   "outputs": [],
   "source": [
    "# let's doublecheck that our code worked by reading the file and outputting the contents\n",
    "with open(filename,'r') as f:\n",
    "    contents = f.read()\n",
    "    print(contents)"
   ]
  },
  {
   "cell_type": "markdown",
   "id": "a55df237-e32f-48a6-98ac-c419f99f6615",
   "metadata": {},
   "source": [
    "## 2) Second way : with all the users getting stored in a dictionary and json dumping the dictionary into a file"
   ]
  },
  {
   "cell_type": "code",
   "execution_count": null,
   "id": "4d860ea5-fc4f-4042-923b-08ad95c2462b",
   "metadata": {},
   "outputs": [],
   "source": [
    "# let's use this dictionary format to hold the user information:\n",
    "# {name, height, weight, age}\n",
    "# wew need to think a little bit about our data structure. i.e how do we store multiple values?\n",
    "\n",
    "# we can do this in a variety of ways: \n",
    "\n",
    "# e.g. a dictionary of dictionaries, where the keys are the usernames and the values are dictionaries containing the user info\n",
    "#or a dictionary with names as the keys and the height, age and major as values in a list\n",
    "# or a list, containing dictionaries, where each dictionary represents a single student --> let's go with this \n",
    "#because it poses challenges when trying to figure out if user exists\n",
    "\n",
    "import json # we'll use json.dump and json.load for our file operations\n",
    "import os\n",
    "# writing an intializing function for the first time that we run the program. i.e. if no users on file yet\n",
    "# recall, the body of code under the initiDatabase function doesn't run until we call it from our code through initDatabase()\n",
    "\n",
    "def initDatabase(func_file):\n",
    "    \"\"\"This function initializes a database file with just the current user\n",
    "    if it doesn't exist\"\"\"\n",
    "    with open(func_file, 'w') as f:\n",
    "        data = [] # empty string to hold students' dictionaries\n",
    "        userIn = input(\"Enter name, height, age and major exactly like this: height,age,major\")\n",
    "        name, height, age, major = userIn.split(\",\")\n",
    "        newStudent = {\"name\":userName, \"height\":float(height), \"age\":float(age), \"major\":major}\n",
    "        data.append(newStudent) # add new user to students list\n",
    "        json.dump(data, f) # put it into the file\n",
    "        print(f\"Hey {userName}, you're our very first user! Bye\")\n",
    "        exit() # do not run the following code since we've just added a new user\n",
    "\n",
    "# we'll be storing the users in one file, say database.txt, or db.txt\n",
    "fileName = 'database.txt'\n",
    "if os.path.exists(fileName):\n",
    "    # do nothing, we already have the database file\n",
    "    print(\"You're good, database exists already\")\n",
    "else:\n",
    "    print(f\"Initializing the database in {fileName}\")\n",
    "    #call the function to initialize the database\n",
    "    initDatabase(fileName) \n",
    "    ### NOTE THIS IS WHERE THE CODE UNDER THE initDatabase() FUNCTION RUNS!!!\n",
    "    ### NOT SCREAMING, BUT I COULDN\"T THINK OF A BETTER WAY TO CATCH YOUR ATTENTION\n",
    "\n",
    "# ask user for their name\n",
    "userName = input(\"Enter name: \")\n",
    "\n",
    "# let's load the user details that are currently in our database file and see if this user is there\n",
    "with open (fileName, 'r') as DBfile:\n",
    "    user_data = json.load(DBfile)\n",
    "    \n",
    "    \n",
    "# since this is a list of dictionaries, we have no way of acccessing the usernames in all the dictionaries cleanly\n",
    "# recall [{\"name\":\"test\", \"height\":170, \"age\":20 \"major\":\"English\"}, {\"name\":\"student1\", \"height\":200, \"age\":21 \"major\": \"Business Admininstration\"}] is the format\n",
    "# there's no easy way to pull out the keys from all the dictionaries at once, so we use list comprehension\n",
    "\n",
    "# is dictionary empty? check using 'if dictionary' --> student below is a dictionary. and the statement 'if student' confirms that it's not empty\n",
    "\n",
    "namesOnRecord = [student['name'] for student in user_data if student] \n",
    "# we are going through the list 'user_data' and extracting the name from each student in the list\n",
    "# it would look something like this ['test', student1']\n",
    "\n",
    "#now check if user who's just entered their name (userName) exists\n",
    "if userName in namesOnRecord:\n",
    "    # user exists. \n",
    "    # print a greeting and confirmation message\n",
    "    # because of the way we're storing our data, we have to do another list comprehension to access the user data\n",
    "    # in the list comprehension, we want to obtain our current user by name\n",
    "    user = [student for student in user_data  if student['name'] == userName] # list of length 1 (if longer than 1, we have problem)\n",
    "    if len(user) >1:\n",
    "        print(\"we have a problem. Duplicate exists!\")\n",
    "    else:\n",
    "        currentStudent = user[0] # only one in the list\n",
    "    \n",
    "    print(f\"hello {currentStudent['name']}, we have you on file already! \\n your height is {currentStudent['height']} cm, your age is {currentStudent['age']} years, and your major is {currentStudent['major']}!\")\n",
    "else:\n",
    "    #user doesn't exist\n",
    "    userIn = input(\"Enter height, age and major exactly like this: height,age,major\")\n",
    "    height, age, major = userIn.split(\",\")\n",
    "    newStudent = {\"name\":userName, \"height\":float(height), \"age\":float(age), \"major\":major}\n",
    "    user_data.append(newStudent) # add new user to student list\n",
    "\n",
    "    # write it to file\n",
    "with open (fileName, 'w') as DBfile:\n",
    "    user_data = json.dump(user_data, DBfile)"
   ]
  },
  {
   "cell_type": "code",
   "execution_count": null,
   "id": "bf8830ad-d3b5-41e9-8d08-5fa847f29c88",
   "metadata": {},
   "outputs": [],
   "source": []
  }
 ],
 "metadata": {
  "kernelspec": {
   "display_name": "info2000",
   "language": "python",
   "name": "info2000"
  },
  "language_info": {
   "codemirror_mode": {
    "name": "ipython",
    "version": 3
   },
   "file_extension": ".py",
   "mimetype": "text/x-python",
   "name": "python",
   "nbconvert_exporter": "python",
   "pygments_lexer": "ipython3",
   "version": "3.9.16"
  }
 },
 "nbformat": 4,
 "nbformat_minor": 5
}
