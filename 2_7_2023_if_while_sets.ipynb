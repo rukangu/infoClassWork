{
 "cells": [
  {
   "cell_type": "code",
   "execution_count": 5,
   "id": "6b63c4ff-d8f6-437a-af47-858b25b4afe6",
   "metadata": {},
   "outputs": [
    {
     "name": "stdout",
     "output_type": "stream",
     "text": [
      "you get 1, oranges\n",
      "you get 2, pineapples\n",
      "you get 3, apples\n",
      "you get 4, bananas\n",
      "you get 5, strawberries\n"
     ]
    }
   ],
   "source": [
    "# demonstrating C-type vs python\n",
    "fruits = ['oranges','pineapples', 'apples','bananas','strawberries']\n",
    "numbers = [1,2,3,4,5]\n",
    "\n",
    "# c-type\n",
    "index_var = 0\n",
    "\n",
    "for i in range(len(numbers)):\n",
    "    fruit = fruits[index_var]\n",
    "    number = numbers[index_var]\n",
    "    #index_var = index_var + 1\n",
    "    index_var += 1\n",
    "    print(f\"you get {number}, {fruit}\")"
   ]
  },
  {
   "cell_type": "code",
   "execution_count": 3,
   "id": "76581cf3-78b2-40e7-8663-fee92d418b32",
   "metadata": {},
   "outputs": [
    {
     "data": {
      "text/plain": [
       "5"
      ]
     },
     "execution_count": 3,
     "metadata": {},
     "output_type": "execute_result"
    }
   ],
   "source": [
    "len(numbers)\n"
   ]
  },
  {
   "cell_type": "code",
   "execution_count": 6,
   "id": "a8520778-b648-44dd-be30-dc297d79c049",
   "metadata": {},
   "outputs": [
    {
     "name": "stdout",
     "output_type": "stream",
     "text": [
      "you get 1, oranges\n",
      "you get 2, pineapples\n",
      "you get 3, apples\n",
      "you get 4, bananas\n",
      "you get 5, strawberries\n"
     ]
    }
   ],
   "source": [
    "for fruit, number in zip(fruits,numbers):\n",
    "    print(f\"you get {number}, {fruit}\")"
   ]
  },
  {
   "cell_type": "code",
   "execution_count": 16,
   "id": "0ea46a48-69af-4ab9-a4e3-00e67879f90f",
   "metadata": {},
   "outputs": [
    {
     "name": "stdout",
     "output_type": "stream",
     "text": [
      "we are in the if statement block!\n"
     ]
    }
   ],
   "source": [
    "# if statements\n",
    "condition1 = True\n",
    "condition2 = True\n",
    "condition3 = True\n",
    "condition4 = False\n",
    "\n",
    "if condition1: # condition1 == True\n",
    "    # body of if block\n",
    "    print(\"we are in the if statement block!\")\n",
    "elif condition2 == True:\n",
    "    print(\"we are in the first elif statement block!\")\n",
    "elif condition3 == True:\n",
    "    print(\"we are in the third elif statement block!\")\n",
    "else:\n",
    "    print(\"None was true!\")\n",
    "    "
   ]
  },
  {
   "cell_type": "code",
   "execution_count": 9,
   "id": "970151b7-27d3-4613-b47e-845be345e61a",
   "metadata": {},
   "outputs": [
    {
     "data": {
      "text/plain": [
       "True"
      ]
     },
     "execution_count": 9,
     "metadata": {},
     "output_type": "execute_result"
    }
   ],
   "source": [
    "condition1 == True"
   ]
  },
  {
   "cell_type": "code",
   "execution_count": 17,
   "id": "617c8262-0598-4333-9799-affb96f4cfe5",
   "metadata": {},
   "outputs": [
    {
     "data": {
      "text/plain": [
       "True"
      ]
     },
     "execution_count": 17,
     "metadata": {},
     "output_type": "execute_result"
    }
   ],
   "source": [
    "5 > 1"
   ]
  },
  {
   "cell_type": "code",
   "execution_count": 18,
   "id": "37c4df2e-3ed8-4053-bae4-18510a9498f2",
   "metadata": {},
   "outputs": [
    {
     "data": {
      "text/plain": [
       "False"
      ]
     },
     "execution_count": 18,
     "metadata": {},
     "output_type": "execute_result"
    }
   ],
   "source": [
    "'hello' == \"Hello\""
   ]
  },
  {
   "cell_type": "code",
   "execution_count": 19,
   "id": "26018a08-ffdc-4906-9e16-6694b6eae049",
   "metadata": {},
   "outputs": [
    {
     "data": {
      "text/plain": [
       "True"
      ]
     },
     "execution_count": 19,
     "metadata": {},
     "output_type": "execute_result"
    }
   ],
   "source": [
    "'hello' == \"hello\""
   ]
  },
  {
   "cell_type": "code",
   "execution_count": 20,
   "id": "47bc38d9-9273-4570-9393-e87edcb42359",
   "metadata": {},
   "outputs": [
    {
     "data": {
      "text/plain": [
       "True"
      ]
     },
     "execution_count": 20,
     "metadata": {},
     "output_type": "execute_result"
    }
   ],
   "source": [
    "1>=0"
   ]
  },
  {
   "cell_type": "code",
   "execution_count": 21,
   "id": "46a59792-a22c-4757-ae1f-b5d7daa33aa0",
   "metadata": {},
   "outputs": [],
   "source": [
    "my_age = 19"
   ]
  },
  {
   "cell_type": "code",
   "execution_count": 23,
   "id": "e29da06e-b500-4602-8a23-6a8b43962230",
   "metadata": {},
   "outputs": [
    {
     "data": {
      "text/plain": [
       "True"
      ]
     },
     "execution_count": 23,
     "metadata": {},
     "output_type": "execute_result"
    }
   ],
   "source": [
    "my_age >=18 and my_age<25 "
   ]
  },
  {
   "cell_type": "code",
   "execution_count": 28,
   "id": "08b37d92-76f7-4769-a61f-b637b016fae5",
   "metadata": {},
   "outputs": [
    {
     "data": {
      "text/plain": [
       "True"
      ]
     },
     "execution_count": 28,
     "metadata": {},
     "output_type": "execute_result"
    }
   ],
   "source": [
    "(my_age >=18 and my_age<25) or (my_age%2) == 0"
   ]
  },
  {
   "cell_type": "code",
   "execution_count": 24,
   "id": "588eaf6a-75b6-495d-9dbe-858e0cc0c373",
   "metadata": {},
   "outputs": [
    {
     "data": {
      "text/plain": [
       "1"
      ]
     },
     "execution_count": 24,
     "metadata": {},
     "output_type": "execute_result"
    }
   ],
   "source": [
    "my_age%2"
   ]
  },
  {
   "cell_type": "code",
   "execution_count": 27,
   "id": "74a4fa7b-e299-4174-8ab2-ee1c6d57655f",
   "metadata": {},
   "outputs": [
    {
     "data": {
      "text/plain": [
       "False"
      ]
     },
     "execution_count": 27,
     "metadata": {},
     "output_type": "execute_result"
    }
   ],
   "source": [
    "(my_age >=18 and my_age<25) and (my_age%2) == 0"
   ]
  },
  {
   "cell_type": "code",
   "execution_count": 29,
   "id": "d88318c4-ec53-4694-b626-ac3dd0572f29",
   "metadata": {},
   "outputs": [
    {
     "data": {
      "text/plain": [
       "False"
      ]
     },
     "execution_count": 29,
     "metadata": {},
     "output_type": "execute_result"
    }
   ],
   "source": [
    "5 != 5"
   ]
  },
  {
   "cell_type": "code",
   "execution_count": 30,
   "id": "3c27e693-1b6f-4c59-8315-d1a57c993947",
   "metadata": {},
   "outputs": [
    {
     "data": {
      "text/plain": [
       "True"
      ]
     },
     "execution_count": 30,
     "metadata": {},
     "output_type": "execute_result"
    }
   ],
   "source": [
    "5==5"
   ]
  },
  {
   "cell_type": "code",
   "execution_count": 31,
   "id": "99220273-d744-40e7-a7d2-fa32e5d1c89c",
   "metadata": {},
   "outputs": [
    {
     "data": {
      "text/plain": [
       "False"
      ]
     },
     "execution_count": 31,
     "metadata": {},
     "output_type": "execute_result"
    }
   ],
   "source": [
    "not 5==5"
   ]
  },
  {
   "cell_type": "code",
   "execution_count": 33,
   "id": "388d99e4-16f2-420a-a177-62a0ac945d20",
   "metadata": {},
   "outputs": [],
   "source": [
    "my_age2 = 4"
   ]
  },
  {
   "cell_type": "code",
   "execution_count": 39,
   "id": "ac1cbb5f-73d5-4f7f-8e1d-b6d91d628e2d",
   "metadata": {},
   "outputs": [
    {
     "name": "stdout",
     "output_type": "stream",
     "text": [
      "True\n"
     ]
    }
   ],
   "source": [
    "if (-1) or False:\n",
    "    print(\"True\")\n",
    "else:\n",
    "    print(\"Not true\")"
   ]
  },
  {
   "cell_type": "code",
   "execution_count": 40,
   "id": "f60b89ec-79a2-4e0e-9e41-fc3a034c21d8",
   "metadata": {},
   "outputs": [],
   "source": [
    "import numpy as np"
   ]
  },
  {
   "cell_type": "code",
   "execution_count": 41,
   "id": "fb299377-48f9-4098-8b1d-71a64b8e15d2",
   "metadata": {},
   "outputs": [
    {
     "data": {
      "text/plain": [
       "array([0.80285199, 0.4280548 , 0.68884273, 0.16796992, 0.80177694,\n",
       "       0.232418  , 0.5928286 , 0.37357015, 0.68678321, 0.42558025])"
      ]
     },
     "execution_count": 41,
     "metadata": {},
     "output_type": "execute_result"
    }
   ],
   "source": [
    "my_array = np.random.rand(10)\n",
    "my_array"
   ]
  },
  {
   "cell_type": "code",
   "execution_count": 43,
   "id": "e23ca628-da35-4f12-a22e-061eb3bad068",
   "metadata": {},
   "outputs": [
    {
     "data": {
      "text/plain": [
       "array([80.28519855, 42.80547977, 68.8842733 , 16.79699233, 80.1776945 ,\n",
       "       23.24180009, 59.28286037, 37.35701455, 68.6783212 , 42.55802527])"
      ]
     },
     "execution_count": 43,
     "metadata": {},
     "output_type": "execute_result"
    }
   ],
   "source": [
    "my_array *= 100\n",
    "my_array"
   ]
  },
  {
   "cell_type": "code",
   "execution_count": 44,
   "id": "85cebbb1-4095-4d69-9842-98cfb5ab7f71",
   "metadata": {},
   "outputs": [
    {
     "name": "stdout",
     "output_type": "stream",
     "text": [
      "80.28519854606914 80.28519854606914\n",
      "42.805479771457875 123.09067831752702\n",
      "68.88427330455447 191.9749516220815\n",
      "16.79699232835741 208.77194395043892\n",
      "80.17769449735285 288.94963844779176\n",
      "23.24180009181902 312.1914385396108\n",
      "59.282860366695324 371.4742989063061\n",
      "37.35701455045392 408.83131345676003\n",
      "68.67832119768705 477.5096346544471\n",
      "42.55802527392218 520.0676599283693\n"
     ]
    }
   ],
   "source": [
    "total = 0 #accumulator\n",
    "for item in my_array:\n",
    "    total += item\n",
    "    print(f\"{item} {total}\")"
   ]
  },
  {
   "cell_type": "code",
   "execution_count": 45,
   "id": "99e09b79-9020-4c38-a6f5-466eb7fd94eb",
   "metadata": {},
   "outputs": [
    {
     "name": "stdout",
     "output_type": "stream",
     "text": [
      "520.0676599283693\n"
     ]
    }
   ],
   "source": [
    "total = sum(my_array)\n",
    "print(total)"
   ]
  },
  {
   "cell_type": "code",
   "execution_count": 47,
   "id": "72f3ff46-31bf-4d20-a6c6-fad727b6f4a7",
   "metadata": {},
   "outputs": [
    {
     "name": "stdout",
     "output_type": "stream",
     "text": [
      "80.28519854606914 80.28519854606914\n",
      "68.88427330455447 149.1694718506236\n",
      "80.17769449735285 229.34716634797644\n",
      "59.282860366695324 288.63002671467177\n",
      "68.67832119768705 357.30834791235884\n",
      "357.30834791235884\n"
     ]
    }
   ],
   "source": [
    "total = 0\n",
    "for item in my_array:\n",
    "    if item >= 50:\n",
    "        total+=item\n",
    "        print(f\"{item} {total}\")    \n",
    "        \n",
    "print(total)"
   ]
  },
  {
   "cell_type": "code",
   "execution_count": 48,
   "id": "dcc99557-a381-4bd2-adee-af0af305419c",
   "metadata": {},
   "outputs": [
    {
     "name": "stdout",
     "output_type": "stream",
     "text": [
      "80.28519854606914 80.28519854606914\n",
      "68.88427330455447 149.1694718506236\n",
      "80.17769449735285 229.34716634797644\n",
      "59.282860366695324 288.63002671467177\n",
      "68.67832119768705 357.30834791235884\n"
     ]
    }
   ],
   "source": [
    "total = 0\n",
    "for item in my_array:\n",
    "    if item < 50:\n",
    "        continue # goes to next iteration\n",
    "    total+=item\n",
    "    print(f\"{item} {total}\") "
   ]
  },
  {
   "cell_type": "code",
   "execution_count": 50,
   "id": "1300ac66-584a-4783-8989-753393cef17f",
   "metadata": {},
   "outputs": [
    {
     "name": "stdout",
     "output_type": "stream",
     "text": [
      "80.28519854606914 80.28519854606914\n",
      "42.805479771457875 42.805479771457875\n",
      "68.88427330455447 68.88427330455447\n",
      "16.79699232835741 16.79699232835741\n",
      "80.17769449735285 80.17769449735285\n",
      "Bad egg!\n",
      "0\n"
     ]
    }
   ],
   "source": [
    "# total = 0 if we have a zero!\n",
    "my_array[5] = 0\n",
    "total = 0\n",
    "for item in my_array:\n",
    "    if item == 0:\n",
    "        print(\"Bad egg!\")\n",
    "        break\n",
    "    else:\n",
    "        total+=item\n",
    "        print(f\"{item} {total}\") \n",
    "        total = 0\n",
    "print(total)\n",
    "        "
   ]
  },
  {
   "cell_type": "code",
   "execution_count": 51,
   "id": "296ddd94-7509-4d71-98c2-2f091266480c",
   "metadata": {},
   "outputs": [
    {
     "data": {
      "text/plain": [
       "array([80.28519855, 42.80547977, 68.8842733 , 16.79699233, 80.1776945 ,\n",
       "        0.        , 59.28286037, 37.35701455, 68.6783212 , 42.55802527])"
      ]
     },
     "execution_count": 51,
     "metadata": {},
     "output_type": "execute_result"
    }
   ],
   "source": [
    "my_array"
   ]
  },
  {
   "cell_type": "code",
   "execution_count": 52,
   "id": "c690d3a0-6b21-4a14-8ee9-2adcf4bec49e",
   "metadata": {},
   "outputs": [],
   "source": [
    "import numpy as np"
   ]
  },
  {
   "cell_type": "code",
   "execution_count": 53,
   "id": "cd9c8b47-ae0d-4c2c-9925-b15d659d51d7",
   "metadata": {},
   "outputs": [],
   "source": [
    "#conda install numpy"
   ]
  },
  {
   "cell_type": "code",
   "execution_count": 54,
   "id": "3f8c7f89-e0e5-4f69-a621-200e7fddc7c5",
   "metadata": {},
   "outputs": [
    {
     "name": "stdout",
     "output_type": "stream",
     "text": [
      "51 0\n",
      "89 0\n",
      "104 0\n",
      "198 0\n",
      "245 0\n",
      "303 0\n",
      "334 0\n",
      "347 0\n",
      "375 0\n",
      "383 0\n",
      "385 0\n",
      "406 0\n",
      "439 0\n",
      "537 0\n",
      "we are outside the while loop\n",
      "500 37\n"
     ]
    }
   ],
   "source": [
    "total = 0\n",
    "remainder = 0\n",
    "while total < 500:\n",
    "    total += np.random.randint(0,100)\n",
    "    print(f\"{total} {remainder}\")\n",
    "    if total > 500:\n",
    "        remainder = total - 500\n",
    "        total = 500\n",
    "print (\"we are outside the while loop\")\n",
    "print(f\"{total} {remainder}\")\n",
    "    "
   ]
  },
  {
   "cell_type": "code",
   "execution_count": 55,
   "id": "2bc1531f-095d-4e65-b415-5f36fcfe3d13",
   "metadata": {},
   "outputs": [],
   "source": [
    "myset = {1,2,3}\n",
    "myset2 = {3,4,5}"
   ]
  },
  {
   "cell_type": "code",
   "execution_count": 56,
   "id": "8fc313f2-47e1-423a-9cdf-fe2cc07ab481",
   "metadata": {},
   "outputs": [],
   "source": [
    "my_dict = {1:'one', 2:'hello', 3:'three', 4:[1,2,3,4,5]}"
   ]
  },
  {
   "cell_type": "code",
   "execution_count": 57,
   "id": "da92a402-3920-436a-b6c1-75000f567148",
   "metadata": {},
   "outputs": [
    {
     "data": {
      "text/plain": [
       "{1: 'one', 2: 'hello', 3: 'three', 4: [1, 2, 3, 4, 5]}"
      ]
     },
     "execution_count": 57,
     "metadata": {},
     "output_type": "execute_result"
    }
   ],
   "source": [
    "my_dict"
   ]
  },
  {
   "cell_type": "code",
   "execution_count": 58,
   "id": "ab606c1a-3f37-4e60-acae-793f95fdb82b",
   "metadata": {},
   "outputs": [],
   "source": [
    "my_dict['string_key'] = 'new_value'"
   ]
  },
  {
   "cell_type": "code",
   "execution_count": 59,
   "id": "dd9b2a07-ce51-45d6-b1c1-2a9359077acb",
   "metadata": {},
   "outputs": [
    {
     "data": {
      "text/plain": [
       "{1: 'one',\n",
       " 2: 'hello',\n",
       " 3: 'three',\n",
       " 4: [1, 2, 3, 4, 5],\n",
       " 'string_key': 'new_value'}"
      ]
     },
     "execution_count": 59,
     "metadata": {},
     "output_type": "execute_result"
    }
   ],
   "source": [
    "my_dict"
   ]
  },
  {
   "cell_type": "code",
   "execution_count": 60,
   "id": "485af48e-1d64-4356-ab31-778f60bc6454",
   "metadata": {},
   "outputs": [],
   "source": [
    "my_dict[1] = 1"
   ]
  },
  {
   "cell_type": "code",
   "execution_count": 61,
   "id": "a3aae4d2-cd98-4bdd-bfb8-f77609a045ce",
   "metadata": {},
   "outputs": [
    {
     "data": {
      "text/plain": [
       "{1: 1, 2: 'hello', 3: 'three', 4: [1, 2, 3, 4, 5], 'string_key': 'new_value'}"
      ]
     },
     "execution_count": 61,
     "metadata": {},
     "output_type": "execute_result"
    }
   ],
   "source": [
    "my_dict"
   ]
  },
  {
   "cell_type": "code",
   "execution_count": 62,
   "id": "6c6db84b-5272-4515-8f21-4f4d285fda96",
   "metadata": {},
   "outputs": [
    {
     "data": {
      "text/plain": [
       "['oranges', 'pineapples', 'apples', 'bananas', 'strawberries']"
      ]
     },
     "execution_count": 62,
     "metadata": {},
     "output_type": "execute_result"
    }
   ],
   "source": [
    "fruits\n"
   ]
  },
  {
   "cell_type": "code",
   "execution_count": 63,
   "id": "5f8371cc-465a-4c75-b3cf-e806419d592d",
   "metadata": {},
   "outputs": [
    {
     "data": {
      "text/plain": [
       "[1, 2, 3, 4, 5]"
      ]
     },
     "execution_count": 63,
     "metadata": {},
     "output_type": "execute_result"
    }
   ],
   "source": [
    "numbers"
   ]
  },
  {
   "cell_type": "code",
   "execution_count": 64,
   "id": "dfd55a95-f5f2-4399-9678-173bfd1db0d7",
   "metadata": {},
   "outputs": [],
   "source": [
    "dict2 = dict(zip(numbers, fruits))"
   ]
  },
  {
   "cell_type": "code",
   "execution_count": 65,
   "id": "86ef2751-2459-4705-8316-0bdcc4f889ef",
   "metadata": {},
   "outputs": [
    {
     "data": {
      "text/plain": [
       "{1: 'oranges', 2: 'pineapples', 3: 'apples', 4: 'bananas', 5: 'strawberries'}"
      ]
     },
     "execution_count": 65,
     "metadata": {},
     "output_type": "execute_result"
    }
   ],
   "source": [
    "dict2"
   ]
  },
  {
   "cell_type": "code",
   "execution_count": 66,
   "id": "324c312e-f22a-4a50-87c7-cf5cd941e2ce",
   "metadata": {},
   "outputs": [],
   "source": [
    "keys = dict2.keys()"
   ]
  },
  {
   "cell_type": "code",
   "execution_count": 67,
   "id": "d0729a31-8629-404a-bbab-a2c3ab2121b1",
   "metadata": {},
   "outputs": [
    {
     "data": {
      "text/plain": [
       "dict_keys([1, 2, 3, 4, 5])"
      ]
     },
     "execution_count": 67,
     "metadata": {},
     "output_type": "execute_result"
    }
   ],
   "source": [
    "keys"
   ]
  },
  {
   "cell_type": "code",
   "execution_count": 69,
   "id": "8b619bcd-e2f7-4216-a779-b1059dc46e51",
   "metadata": {},
   "outputs": [],
   "source": [
    "keylist = list(keys)"
   ]
  },
  {
   "cell_type": "code",
   "execution_count": 70,
   "id": "eb598077-b02f-4da2-b2e0-2b83d6b82482",
   "metadata": {},
   "outputs": [
    {
     "data": {
      "text/plain": [
       "[1, 2, 3, 4, 5]"
      ]
     },
     "execution_count": 70,
     "metadata": {},
     "output_type": "execute_result"
    }
   ],
   "source": [
    "keylist"
   ]
  },
  {
   "cell_type": "code",
   "execution_count": 71,
   "id": "b34b6e5f-9a87-45a5-ab0c-afd7a25391e1",
   "metadata": {},
   "outputs": [
    {
     "data": {
      "text/plain": [
       "dict_values(['oranges', 'pineapples', 'apples', 'bananas', 'strawberries'])"
      ]
     },
     "execution_count": 71,
     "metadata": {},
     "output_type": "execute_result"
    }
   ],
   "source": [
    "dict2.values()"
   ]
  },
  {
   "cell_type": "code",
   "execution_count": 72,
   "id": "3a85fc51-b37d-4fe3-85f2-05fe11721bce",
   "metadata": {},
   "outputs": [
    {
     "name": "stdout",
     "output_type": "stream",
     "text": [
      "1 oranges\n",
      "2 pineapples\n",
      "3 apples\n",
      "4 bananas\n",
      "5 strawberries\n"
     ]
    }
   ],
   "source": [
    "#iterate through a dictionary\n",
    "for keyVar, valueVar in dict2.items():\n",
    "    print(keyVar, valueVar)"
   ]
  },
  {
   "cell_type": "code",
   "execution_count": 73,
   "id": "19ac0ddf-f5c7-4636-b3f5-e34ed4978851",
   "metadata": {},
   "outputs": [],
   "source": [
    "# class exercise\n",
    "\n",
    "destinations = {'New York': 821, 'New orleans': 540.7, 'Chicago':779, 'Victoria':2872}"
   ]
  },
  {
   "cell_type": "code",
   "execution_count": 74,
   "id": "5b7ac936-1677-4614-8a83-3146c3cfb285",
   "metadata": {},
   "outputs": [
    {
     "data": {
      "text/plain": [
       "{'New York': 821, 'New orleans': 540.7, 'Chicago': 779, 'Victoria': 2872}"
      ]
     },
     "execution_count": 74,
     "metadata": {},
     "output_type": "execute_result"
    }
   ],
   "source": [
    "destinations\n"
   ]
  },
  {
   "cell_type": "code",
   "execution_count": 75,
   "id": "ddef23d5-f17c-40a0-9146-60f361e3f0cd",
   "metadata": {},
   "outputs": [],
   "source": [
    "cost_per_mile = 0.01 # $ "
   ]
  },
  {
   "cell_type": "code",
   "execution_count": 2,
   "id": "ae5330e2-ca2d-463d-99bb-0806fb42b7cf",
   "metadata": {},
   "outputs": [
    {
     "name": "stdout",
     "output_type": "stream",
     "text": [
      "Where would you like to travel to? Q|q to quit New YOrk\n"
     ]
    },
    {
     "name": "stdout",
     "output_type": "stream",
     "text": [
      "Athens to NEW YORK costs 8.21 $\n"
     ]
    },
    {
     "name": "stdout",
     "output_type": "stream",
     "text": [
      "Where would you like to travel to? Q|q to quit Gainesville\n"
     ]
    },
    {
     "name": "stdout",
     "output_type": "stream",
     "text": [
      "Destination not available, yet!\n"
     ]
    },
    {
     "name": "stdout",
     "output_type": "stream",
     "text": [
      "Where would you like to travel to? Q|q to quit q\n"
     ]
    },
    {
     "name": "stdout",
     "output_type": "stream",
     "text": [
      "Thanks for flying INFO2000!\n"
     ]
    }
   ],
   "source": [
    "# get input from user. quit if q or Q\n",
    "cost_per_mile = 0.01 # $ \n",
    "destinations = {'New York': 821, 'New orleans': 540.7, 'Chicago':779, 'Victoria':2872}\n",
    "user_destination = input(\"Where would you like to travel to? Q|q to quit\").upper()\n",
    "upper_destinations = {} \n",
    "# convert keys to uppercase\n",
    "for key,value in destinations.items():\n",
    "    upper_destinations[key.upper()] = value\n",
    "while user_destination != 'Q':\n",
    "    if user_destination in upper_destinations:\n",
    "        print(f\"Athens to {user_destination} costs {cost_per_mile * upper_destinations[user_destination]} $\")\n",
    "    else:\n",
    "        print(f\"Destination not available, yet!\")\n",
    "    \n",
    "    user_destination = input(\"Where would you like to travel to? Q|q to quit\").upper()\n",
    "    \n",
    "    \n",
    "print(\"Thanks for flying INFO2000!\")"
   ]
  },
  {
   "cell_type": "code",
   "execution_count": 79,
   "id": "57c1c57c-228f-4b23-b30c-999e889b33d5",
   "metadata": {},
   "outputs": [
    {
     "data": {
      "text/plain": [
       "False"
      ]
     },
     "execution_count": 79,
     "metadata": {},
     "output_type": "execute_result"
    }
   ],
   "source": [
    "821 in destinations"
   ]
  },
  {
   "cell_type": "code",
   "execution_count": 82,
   "id": "d1edb87d-48c3-4d32-8a8e-05a074120940",
   "metadata": {},
   "outputs": [
    {
     "data": {
      "text/plain": [
       "False"
      ]
     },
     "execution_count": 82,
     "metadata": {},
     "output_type": "execute_result"
    }
   ],
   "source": [
    "'NEW YORK' in destinations"
   ]
  },
  {
   "cell_type": "code",
   "execution_count": null,
   "id": "e1302656-dc8e-41f2-be5f-ee88e87f1e73",
   "metadata": {},
   "outputs": [
    {
     "name": "stdout",
     "output_type": "stream",
     "text": [
      "Where would you like to travel to? Q|q to quit Gainesville\n"
     ]
    },
    {
     "name": "stdout",
     "output_type": "stream",
     "text": [
      "Destination not available, yet!\n"
     ]
    },
    {
     "name": "stdout",
     "output_type": "stream",
     "text": [
      "Add destination? y|N  n\n",
      "Where would you like to travel next? Q|q to quit Gainesville\n"
     ]
    },
    {
     "name": "stdout",
     "output_type": "stream",
     "text": [
      "Destination not available, yet!\n"
     ]
    },
    {
     "name": "stdout",
     "output_type": "stream",
     "text": [
      "Add destination? y|N  y\n",
      "What's the distance between Athens and GAINESVILLE in miles? 45\n",
      "Where would you like to travel next? Q|q to quit gainesville\n"
     ]
    },
    {
     "name": "stdout",
     "output_type": "stream",
     "text": [
      "Athens to GAINESVILLE costs 0.45 $\n"
     ]
    }
   ],
   "source": [
    "# get input from user. quit if q or Q\n",
    "destinations = {'New York': 821, 'New orleans': 540.7, 'Chicago':779, 'Victoria':2872}\n",
    "user_destination = input(\"Where would you like to travel to? Q|q to quit\").upper()\n",
    "upper_destinations = {} \n",
    "# convert keys to uppercase\n",
    "for key,value in destinations.items():\n",
    "    upper_destinations[key.upper()] = value\n",
    "while user_destination != 'Q':\n",
    "    if user_destination in upper_destinations:\n",
    "        print(f\"Athens to {user_destination} costs {cost_per_mile * upper_destinations[user_destination]} $\")\n",
    "    else:\n",
    "        print(f\"Destination not available, yet!\")\n",
    "        add = input(\"Add destination? y \")\n",
    "        # get user input\n",
    "        \n",
    "        # if user input == 'Y':\n",
    "           # dest = userinput\n",
    "            #miles = userinput\n",
    "            #dest[userinput] = miles\n",
    "        else:\n",
    "        \n",
    "    \n",
    "    user_destination = input(\"Where would you like to travel to? Q|q to quit\").upper()\n",
    "    \n",
    "    \n",
    "print(\"Thanks for flying INFO2000!\")"
   ]
  },
  {
   "cell_type": "code",
   "execution_count": null,
   "id": "965b84cd-5836-4c73-8816-08966c462657",
   "metadata": {},
   "outputs": [],
   "source": []
  }
 ],
 "metadata": {
  "kernelspec": {
   "display_name": "info2000",
   "language": "python",
   "name": "info2000"
  },
  "language_info": {
   "codemirror_mode": {
    "name": "ipython",
    "version": 3
   },
   "file_extension": ".py",
   "mimetype": "text/x-python",
   "name": "python",
   "nbconvert_exporter": "python",
   "pygments_lexer": "ipython3",
   "version": "3.9.16"
  }
 },
 "nbformat": 4,
 "nbformat_minor": 5
}
