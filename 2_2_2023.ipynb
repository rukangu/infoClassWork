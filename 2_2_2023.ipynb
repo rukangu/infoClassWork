{
 "cells": [
  {
   "cell_type": "code",
   "execution_count": 1,
   "id": "5b3340a3-13ad-4412-8d10-ef733a55c635",
   "metadata": {},
   "outputs": [],
   "source": [
    "import pytz\n",
    "from datetime import datetime, time, timedelta, date"
   ]
  },
  {
   "cell_type": "code",
   "execution_count": 2,
   "id": "58326b1a-5a49-4144-a26f-fe0e5ae5dc0a",
   "metadata": {},
   "outputs": [],
   "source": [
    "tz_newyork = pytz.timezone(\"America/New_york\")"
   ]
  },
  {
   "cell_type": "code",
   "execution_count": 3,
   "id": "9bf57301-7ce7-47a2-aecc-187db9c6286d",
   "metadata": {},
   "outputs": [
    {
     "name": "stdout",
     "output_type": "stream",
     "text": [
      "America/New_York\n"
     ]
    }
   ],
   "source": [
    "print(tz_newyork)"
   ]
  },
  {
   "cell_type": "code",
   "execution_count": 5,
   "id": "04c7ffb7-d6ed-4dd7-8713-66d4cd2ae941",
   "metadata": {},
   "outputs": [],
   "source": [
    "dt_NY = tz_newyork.localize(datetime(2022,10,5,12,0,6))"
   ]
  },
  {
   "cell_type": "code",
   "execution_count": 6,
   "id": "4c7dc301-297c-41bc-8810-d3e72fc6b443",
   "metadata": {},
   "outputs": [
    {
     "name": "stdout",
     "output_type": "stream",
     "text": [
      "2022-10-05 12:00:06-04:00\n"
     ]
    }
   ],
   "source": [
    "print(dt_NY)"
   ]
  },
  {
   "cell_type": "code",
   "execution_count": 7,
   "id": "a272f44e-a8a1-4ef2-80ff-0e66d52c6fce",
   "metadata": {},
   "outputs": [
    {
     "name": "stdout",
     "output_type": "stream",
     "text": [
      "2022-10-11 12:37:29.017775+00:00\n"
     ]
    }
   ],
   "source": [
    "print(datetime.now(pytz.utc))"
   ]
  },
  {
   "cell_type": "code",
   "execution_count": 8,
   "id": "36efc496-f987-4878-a103-0c709cf07d75",
   "metadata": {},
   "outputs": [
    {
     "data": {
      "text/plain": [
       "datetime.datetime(2022, 10, 11, 8, 37, 55, 860038)"
      ]
     },
     "execution_count": 8,
     "metadata": {},
     "output_type": "execute_result"
    }
   ],
   "source": [
    "datetime.now()"
   ]
  },
  {
   "cell_type": "code",
   "execution_count": 10,
   "id": "e7cd2b1c-8fda-426c-ad4a-1b4b2894d512",
   "metadata": {},
   "outputs": [
    {
     "name": "stdout",
     "output_type": "stream",
     "text": [
      "2022-10-11 08:38:49.252882-04:00\n"
     ]
    }
   ],
   "source": [
    "print(datetime.now(tz_newyork))"
   ]
  },
  {
   "cell_type": "code",
   "execution_count": 14,
   "id": "99d2d01c-5b23-49b9-b5f4-43465ee2975c",
   "metadata": {},
   "outputs": [],
   "source": [
    "dt = datetime.strptime(\"January 1, 2012 12:00AM\", \"%B %d, %Y %I:%M%p\")"
   ]
  },
  {
   "cell_type": "code",
   "execution_count": 15,
   "id": "eaef5404-59a5-471c-b98e-269900243249",
   "metadata": {},
   "outputs": [
    {
     "name": "stdout",
     "output_type": "stream",
     "text": [
      "2012-01-01 00:00:00\n"
     ]
    }
   ],
   "source": [
    "print(dt)"
   ]
  },
  {
   "cell_type": "code",
   "execution_count": 16,
   "id": "f009f6a1-d9eb-4e7e-8b0c-fe24a20ecb2f",
   "metadata": {},
   "outputs": [],
   "source": [
    "import dateutil"
   ]
  },
  {
   "cell_type": "code",
   "execution_count": 20,
   "id": "64114da6-097b-441a-ac05-52abcfa6cb2d",
   "metadata": {},
   "outputs": [
    {
     "name": "stdout",
     "output_type": "stream",
     "text": [
      "2012-01-01 12:00:00\n"
     ]
    }
   ],
   "source": [
    "dt = dateutil.parser.parse(\"January 1st 2012 12:00PM\")\n",
    "print(dt)"
   ]
  },
  {
   "cell_type": "code",
   "execution_count": 21,
   "id": "f2c166d5-b042-46da-bca0-3b30002e5007",
   "metadata": {},
   "outputs": [
    {
     "data": {
      "text/plain": [
       "2012"
      ]
     },
     "execution_count": 21,
     "metadata": {},
     "output_type": "execute_result"
    }
   ],
   "source": [
    "dt.year"
   ]
  },
  {
   "cell_type": "code",
   "execution_count": 23,
   "id": "4b31c037-d4d4-494d-9b42-44a15d17700e",
   "metadata": {},
   "outputs": [
    {
     "data": {
      "text/plain": [
       "0"
      ]
     },
     "execution_count": 23,
     "metadata": {},
     "output_type": "execute_result"
    }
   ],
   "source": [
    "dt.second\n"
   ]
  },
  {
   "cell_type": "code",
   "execution_count": 28,
   "id": "9ddba81f-443b-44c5-b2d3-c85938f5dc3b",
   "metadata": {},
   "outputs": [
    {
     "data": {
      "text/plain": [
       "'Sunday 2012 2012'"
      ]
     },
     "execution_count": 28,
     "metadata": {},
     "output_type": "execute_result"
    }
   ],
   "source": [
    "dt.weekday()\n",
    "dt.strftime(\"%A %Y %Y\")"
   ]
  },
  {
   "cell_type": "code",
   "execution_count": 29,
   "id": "82e5ca47-d8b7-4dbb-b753-da01b9928b18",
   "metadata": {},
   "outputs": [
    {
     "data": {
      "text/plain": [
       "1325437200.0"
      ]
     },
     "execution_count": 29,
     "metadata": {},
     "output_type": "execute_result"
    }
   ],
   "source": [
    "dt.timestamp()"
   ]
  },
  {
   "cell_type": "code",
   "execution_count": 31,
   "id": "d4f75700-674e-4cc5-8e66-ac1590f57cd3",
   "metadata": {},
   "outputs": [
    {
     "name": "stdout",
     "output_type": "stream",
     "text": [
      "2012-01-01 18:00:00+01:00\n"
     ]
    }
   ],
   "source": [
    "print(dt.astimezone(pytz.timezone(\"Europe/Paris\")))"
   ]
  },
  {
   "cell_type": "code",
   "execution_count": 32,
   "id": "7cc5ccd1-f4a8-45b9-8a77-57ff9babcc49",
   "metadata": {},
   "outputs": [],
   "source": [
    "dt = dt.replace(hour = 12)"
   ]
  },
  {
   "cell_type": "code",
   "execution_count": 33,
   "id": "1fe44ce1-fafd-4d31-8e2d-d0a287e2ae4c",
   "metadata": {},
   "outputs": [
    {
     "name": "stdout",
     "output_type": "stream",
     "text": [
      "2025-07-07 08:55:46.768082\n"
     ]
    }
   ],
   "source": [
    "print(datetime.now() + timedelta(days=1000))"
   ]
  },
  {
   "cell_type": "code",
   "execution_count": 40,
   "id": "9389f823-6d31-42b4-92ec-1a08a622c7ce",
   "metadata": {},
   "outputs": [
    {
     "name": "stdout",
     "output_type": "stream",
     "text": [
      "24483482.519238\n"
     ]
    }
   ],
   "source": [
    "print((datetime.now() - datetime(2022,1,1)).total_seconds())"
   ]
  },
  {
   "cell_type": "code",
   "execution_count": 41,
   "id": "ccadbe5a-1c1d-4238-9277-1578d858f877",
   "metadata": {},
   "outputs": [],
   "source": [
    "d = dateutil.parser.parse(\"Apr 25 2020 4:20PM\")"
   ]
  },
  {
   "cell_type": "code",
   "execution_count": 42,
   "id": "f4eda9e9-7dfe-4e85-bbe4-3a596e67a685",
   "metadata": {},
   "outputs": [
    {
     "name": "stdout",
     "output_type": "stream",
     "text": [
      "2020-04-25 16:20:00\n"
     ]
    }
   ],
   "source": [
    "print(d)"
   ]
  },
  {
   "cell_type": "code",
   "execution_count": 43,
   "id": "124b3d21-22f4-499c-be02-5f3ef2cb8f42",
   "metadata": {},
   "outputs": [],
   "source": [
    "a = ['a' ,  'b', 'c', 'd']"
   ]
  },
  {
   "cell_type": "code",
   "execution_count": 45,
   "id": "cfd5c5fe-6350-4bc3-9e14-375ce9013303",
   "metadata": {},
   "outputs": [
    {
     "data": {
      "text/plain": [
       "'a b c d'"
      ]
     },
     "execution_count": 45,
     "metadata": {},
     "output_type": "execute_result"
    }
   ],
   "source": [
    "\" \".join(a)"
   ]
  },
  {
   "cell_type": "code",
   "execution_count": null,
   "id": "94a6fac4-8be3-4fc3-8bdf-e6d5f1ee26c0",
   "metadata": {},
   "outputs": [],
   "source": []
  }
 ],
 "metadata": {
  "kernelspec": {
   "display_name": "Python 3 (ipykernel)",
   "language": "python",
   "name": "python3"
  },
  "language_info": {
   "codemirror_mode": {
    "name": "ipython",
    "version": 3
   },
   "file_extension": ".py",
   "mimetype": "text/x-python",
   "name": "python",
   "nbconvert_exporter": "python",
   "pygments_lexer": "ipython3",
   "version": "3.8.3"
  }
 },
 "nbformat": 4,
 "nbformat_minor": 5
}
