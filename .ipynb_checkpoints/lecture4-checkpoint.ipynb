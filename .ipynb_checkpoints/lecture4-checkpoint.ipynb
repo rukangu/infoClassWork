{
 "cells": [
  {
   "cell_type": "code",
   "execution_count": null,
   "id": "a610742b-de87-436a-97ac-fe9b95fc4011",
   "metadata": {},
   "outputs": [],
   "source": [
    "\n",
    "from = 6"
   ]
  },
  {
   "cell_type": "code",
   "execution_count": null,
   "id": "8aca0a9c-5d5a-4eff-b897-a4566a4f91a0",
   "metadata": {},
   "outputs": [],
   "source": [
    "print(new_variable)"
   ]
  },
  {
   "cell_type": "code",
   "execution_count": null,
   "id": "d0493bc4-98e6-4479-8b28-74c65ec8dfaf",
   "metadata": {},
   "outputs": [],
   "source": [
    "int = 5"
   ]
  },
  {
   "cell_type": "code",
   "execution_count": null,
   "id": "c3f606cb-2015-4882-b3f2-4ba9b5393269",
   "metadata": {},
   "outputs": [],
   "source": [
    "int(5)\n"
   ]
  },
  {
   "cell_type": "code",
   "execution_count": null,
   "id": "5f9be2fc-44b6-41d3-9de4-c8695750b54c",
   "metadata": {},
   "outputs": [],
   "source": [
    "int(8.4)"
   ]
  },
  {
   "cell_type": "code",
   "execution_count": null,
   "id": "77070aa6-dbc7-4b42-92f1-2e670e9f79f6",
   "metadata": {},
   "outputs": [],
   "source": [
    "5%2"
   ]
  },
  {
   "cell_type": "code",
   "execution_count": null,
   "id": "8603cca6-6aa9-4fbe-9715-c95a023c2f9d",
   "metadata": {},
   "outputs": [],
   "source": [
    "5//2"
   ]
  },
  {
   "cell_type": "code",
   "execution_count": null,
   "id": "ccc71bab-7498-4ea4-b867-dcee2f9b27de",
   "metadata": {},
   "outputs": [],
   "source": [
    "3**3"
   ]
  },
  {
   "cell_type": "code",
   "execution_count": null,
   "id": "82f6dc09-c83e-4a58-835b-e8964200d983",
   "metadata": {},
   "outputs": [],
   "source": [
    "3**2"
   ]
  },
  {
   "cell_type": "code",
   "execution_count": null,
   "id": "d73f1b61-cbf8-4e46-9efd-443ee926aaf0",
   "metadata": {},
   "outputs": [],
   "source": [
    "\"Speed\" == \"speed\""
   ]
  },
  {
   "cell_type": "code",
   "execution_count": null,
   "id": "3f5be81e-93db-43b7-90eb-2012e842c49f",
   "metadata": {},
   "outputs": [],
   "source": [
    "'speed' == 'speed'"
   ]
  },
  {
   "cell_type": "code",
   "execution_count": null,
   "id": "9c375fd4-c6b1-4d05-ad67-da5f4d2ae21f",
   "metadata": {},
   "outputs": [],
   "source": [
    "#Casting\n",
    "\n",
    "age = 22\n"
   ]
  },
  {
   "cell_type": "code",
   "execution_count": null,
   "id": "75c498a9-cf3d-4dcb-bd6c-83df0410c45f",
   "metadata": {},
   "outputs": [],
   "source": [
    "type(age)"
   ]
  },
  {
   "cell_type": "code",
   "execution_count": null,
   "id": "fa406541-9be7-4103-887c-57102b0cdb2f",
   "metadata": {},
   "outputs": [],
   "source": [
    "float(age)"
   ]
  },
  {
   "cell_type": "code",
   "execution_count": null,
   "id": "e60e6ebd-8dcb-42bb-9fa2-f7cae3add534",
   "metadata": {},
   "outputs": [],
   "source": [
    "type(age)\n"
   ]
  },
  {
   "cell_type": "code",
   "execution_count": null,
   "id": "eeff2f4f-5845-4b48-ab4d-35847d63dd7d",
   "metadata": {},
   "outputs": [],
   "source": [
    "age = float(age)"
   ]
  },
  {
   "cell_type": "code",
   "execution_count": null,
   "id": "aaa089a0-cff9-4e56-a651-5f7cc1cd7214",
   "metadata": {},
   "outputs": [],
   "source": [
    "id(age)"
   ]
  },
  {
   "cell_type": "code",
   "execution_count": null,
   "id": "d47d43e5-a2b4-48db-80f3-8654b81efb46",
   "metadata": {},
   "outputs": [],
   "source": [
    "id(22)"
   ]
  },
  {
   "cell_type": "code",
   "execution_count": null,
   "id": "a57716ed-e190-4f32-8675-fe31ab6559aa",
   "metadata": {},
   "outputs": [],
   "source": [
    "id(22.0)"
   ]
  },
  {
   "cell_type": "code",
   "execution_count": null,
   "id": "86e72651-1491-480f-b4e3-a30b3ca8beea",
   "metadata": {},
   "outputs": [],
   "source": [
    "age = 22"
   ]
  },
  {
   "cell_type": "code",
   "execution_count": null,
   "id": "a72b83ae-9333-4b0e-905b-851ee3fca1cb",
   "metadata": {},
   "outputs": [],
   "source": [
    "id(age)\n"
   ]
  },
  {
   "cell_type": "code",
   "execution_count": null,
   "id": "2cfeaed8-9d40-4e71-ab1e-35170027a6ae",
   "metadata": {},
   "outputs": [],
   "source": [
    "float(age)"
   ]
  },
  {
   "cell_type": "code",
   "execution_count": null,
   "id": "98803385-b2f0-4e98-85a3-2873c667047a",
   "metadata": {},
   "outputs": [],
   "source": [
    "id(age)"
   ]
  },
  {
   "cell_type": "code",
   "execution_count": null,
   "id": "0d50e7cf-0d11-40b5-8a91-f8c8259f1e9f",
   "metadata": {},
   "outputs": [],
   "source": [
    "age = float(age)"
   ]
  },
  {
   "cell_type": "code",
   "execution_count": null,
   "id": "d22acd60-8001-439d-84ca-5e7601111724",
   "metadata": {},
   "outputs": [],
   "source": [
    "id(age)"
   ]
  },
  {
   "cell_type": "code",
   "execution_count": null,
   "id": "2c8fbad1-fbfa-4072-b32b-ad44a5a54aaf",
   "metadata": {},
   "outputs": [],
   "source": [
    "#This is a commment\n",
    "a = 22\n",
    "'''\n",
    "This is \n",
    "a multi line \n",
    "comment'''\n",
    "#\n",
    "#\n",
    "#\n",
    "\n",
    "#\n",
    "#\n",
    "\n",
    "print(a)"
   ]
  },
  {
   "cell_type": "code",
   "execution_count": null,
   "id": "e8572433-ffc0-4cb5-b80c-894f0e0a84a9",
   "metadata": {},
   "outputs": [],
   "source": [
    "new_variable = \"helloo\""
   ]
  },
  {
   "cell_type": "code",
   "execution_count": null,
   "id": "885b94e7-0554-44f3-9447-867a347dc6d6",
   "metadata": {},
   "outputs": [],
   "source": [
    "my_list = [1,2,3,4, \"hello\"]"
   ]
  },
  {
   "cell_type": "code",
   "execution_count": null,
   "id": "4e180da5-2b47-47ac-9577-a5aeb2b7ae1a",
   "metadata": {},
   "outputs": [],
   "source": [
    "my_list[0]"
   ]
  },
  {
   "cell_type": "code",
   "execution_count": null,
   "id": "5ff945f7-5a80-4a92-bd15-2e04a20033b5",
   "metadata": {},
   "outputs": [],
   "source": [
    "my_list[1]"
   ]
  },
  {
   "cell_type": "code",
   "execution_count": null,
   "id": "ea2ccfb8-3dd5-4ad0-9f1a-67c02b8667fc",
   "metadata": {},
   "outputs": [],
   "source": [
    "my_list[-1]"
   ]
  },
  {
   "cell_type": "code",
   "execution_count": null,
   "id": "5d19c182-4d06-4682-a722-6675a99448be",
   "metadata": {},
   "outputs": [],
   "source": [
    "num_list = [1,2,3,4,5,6,7,8,9,10]"
   ]
  },
  {
   "cell_type": "code",
   "execution_count": null,
   "id": "6a8b31f3-b2a9-46a7-aa17-843741d84fe5",
   "metadata": {},
   "outputs": [],
   "source": [
    "num_list.append(11)"
   ]
  },
  {
   "cell_type": "code",
   "execution_count": null,
   "id": "4b804d1b-db89-4790-bb0a-38b6421fd197",
   "metadata": {},
   "outputs": [],
   "source": [
    "print(num_list)"
   ]
  },
  {
   "cell_type": "code",
   "execution_count": null,
   "id": "6d32587d-3f44-4bed-8f47-8ab25964acb3",
   "metadata": {},
   "outputs": [],
   "source": [
    "num_list.extend([12,13,14])"
   ]
  },
  {
   "cell_type": "code",
   "execution_count": null,
   "id": "161c467f-254e-4a59-88c2-e71670b10c16",
   "metadata": {},
   "outputs": [],
   "source": [
    "my_list\n"
   ]
  },
  {
   "cell_type": "code",
   "execution_count": null,
   "id": "0f8e421a-1c0b-4345-adbb-9a70d8ade006",
   "metadata": {},
   "outputs": [],
   "source": [
    "num_list\n"
   ]
  },
  {
   "cell_type": "code",
   "execution_count": null,
   "id": "055796b7-af26-4bcb-956e-626f76e0d1bc",
   "metadata": {},
   "outputs": [],
   "source": [
    "num_list.append([12,13,14])"
   ]
  },
  {
   "cell_type": "code",
   "execution_count": null,
   "id": "a20ce6e1-f8fa-4c5e-b3e3-05b4a5f69897",
   "metadata": {},
   "outputs": [],
   "source": [
    "num_list"
   ]
  },
  {
   "cell_type": "code",
   "execution_count": null,
   "id": "c0fe4fe2-f565-4a8f-8b48-072e81d70796",
   "metadata": {},
   "outputs": [],
   "source": [
    "dir(num_list)"
   ]
  },
  {
   "cell_type": "code",
   "execution_count": 18,
   "id": "2301976e-431f-45e2-becb-556dda1c8b2a",
   "metadata": {},
   "outputs": [
    {
     "data": {
      "text/plain": [
       "list"
      ]
     },
     "execution_count": 18,
     "metadata": {},
     "output_type": "execute_result"
    }
   ],
   "source": [
    "type(num_list)"
   ]
  },
  {
   "cell_type": "code",
   "execution_count": 20,
   "id": "54929368-70ea-4905-a955-5925db8c1065",
   "metadata": {},
   "outputs": [
    {
     "data": {
      "text/plain": [
       "15"
      ]
     },
     "execution_count": 20,
     "metadata": {},
     "output_type": "execute_result"
    }
   ],
   "source": [
    "len(num_list)"
   ]
  },
  {
   "cell_type": "code",
   "execution_count": 22,
   "id": "d1c7f1c0-5f9c-4dc4-82a6-2cd14e2acfa1",
   "metadata": {},
   "outputs": [
    {
     "data": {
      "text/plain": [
       "[1, 2, 3, 4, 5, 6, 7, 8, 9, 10, 11, 12, 13, 14, [12, 13, 14]]"
      ]
     },
     "execution_count": 22,
     "metadata": {},
     "output_type": "execute_result"
    }
   ],
   "source": [
    "num_list"
   ]
  },
  {
   "cell_type": "code",
   "execution_count": 23,
   "id": "e854519c-e471-4162-8723-5d3c6f685768",
   "metadata": {},
   "outputs": [],
   "source": [
    "del num_list[-1]"
   ]
  },
  {
   "cell_type": "code",
   "execution_count": 24,
   "id": "07cb18c5-ea8b-436a-93ea-c4ce3650cb2d",
   "metadata": {},
   "outputs": [
    {
     "data": {
      "text/plain": [
       "[1, 2, 3, 4, 5, 6, 7, 8, 9, 10, 11, 12, 13, 14]"
      ]
     },
     "execution_count": 24,
     "metadata": {},
     "output_type": "execute_result"
    }
   ],
   "source": [
    "num_list"
   ]
  },
  {
   "cell_type": "code",
   "execution_count": 25,
   "id": "97bcd4e6-2c5f-4efb-9f1f-b50bf8cf8b5c",
   "metadata": {},
   "outputs": [
    {
     "data": {
      "text/plain": [
       "[1, 2, 3, 4, 5, 6, 7, 8, 9, 10, 11, 12, 13, 14]"
      ]
     },
     "execution_count": 25,
     "metadata": {},
     "output_type": "execute_result"
    }
   ],
   "source": [
    "sorted(num_list)"
   ]
  },
  {
   "cell_type": "code",
   "execution_count": 26,
   "id": "8f2439c5-3d7b-4420-a6b1-2615c8769911",
   "metadata": {},
   "outputs": [],
   "source": [
    "myString = f\"this is a string\""
   ]
  },
  {
   "cell_type": "code",
   "execution_count": 27,
   "id": "05435a7e-fbc0-4771-8656-069837ba7dd4",
   "metadata": {},
   "outputs": [
    {
     "name": "stdout",
     "output_type": "stream",
     "text": [
      "this is a string\n"
     ]
    }
   ],
   "source": [
    "print(myString)"
   ]
  },
  {
   "cell_type": "code",
   "execution_count": 28,
   "id": "f62e6c22-e45b-48d8-8089-be0521c4b835",
   "metadata": {},
   "outputs": [],
   "source": [
    "a = 10\n",
    "myString = f\"this is a string. and this is a variable {a}\""
   ]
  },
  {
   "cell_type": "code",
   "execution_count": 29,
   "id": "c9a20aa8-16d0-4b74-9770-9c4bd2d98b68",
   "metadata": {},
   "outputs": [
    {
     "data": {
      "text/plain": [
       "'this is a string. and this is a variable 10'"
      ]
     },
     "execution_count": 29,
     "metadata": {},
     "output_type": "execute_result"
    }
   ],
   "source": [
    "myString"
   ]
  },
  {
   "cell_type": "code",
   "execution_count": 30,
   "id": "a6423d42-e84c-4a02-9813-3e5cbaf78bb7",
   "metadata": {},
   "outputs": [],
   "source": [
    "import random"
   ]
  },
  {
   "cell_type": "code",
   "execution_count": 31,
   "id": "1b0920b0-5218-4fe8-9c71-07b516973642",
   "metadata": {},
   "outputs": [
    {
     "data": {
      "text/plain": [
       "['BPF',\n",
       " 'LOG4',\n",
       " 'NV_MAGICCONST',\n",
       " 'RECIP_BPF',\n",
       " 'Random',\n",
       " 'SG_MAGICCONST',\n",
       " 'SystemRandom',\n",
       " 'TWOPI',\n",
       " '_Sequence',\n",
       " '_Set',\n",
       " '__all__',\n",
       " '__builtins__',\n",
       " '__cached__',\n",
       " '__doc__',\n",
       " '__file__',\n",
       " '__loader__',\n",
       " '__name__',\n",
       " '__package__',\n",
       " '__spec__',\n",
       " '_accumulate',\n",
       " '_acos',\n",
       " '_bisect',\n",
       " '_ceil',\n",
       " '_cos',\n",
       " '_e',\n",
       " '_exp',\n",
       " '_floor',\n",
       " '_inst',\n",
       " '_log',\n",
       " '_os',\n",
       " '_pi',\n",
       " '_random',\n",
       " '_repeat',\n",
       " '_sha512',\n",
       " '_sin',\n",
       " '_sqrt',\n",
       " '_test',\n",
       " '_test_generator',\n",
       " '_urandom',\n",
       " '_warn',\n",
       " 'betavariate',\n",
       " 'choice',\n",
       " 'choices',\n",
       " 'expovariate',\n",
       " 'gammavariate',\n",
       " 'gauss',\n",
       " 'getrandbits',\n",
       " 'getstate',\n",
       " 'lognormvariate',\n",
       " 'normalvariate',\n",
       " 'paretovariate',\n",
       " 'randbytes',\n",
       " 'randint',\n",
       " 'random',\n",
       " 'randrange',\n",
       " 'sample',\n",
       " 'seed',\n",
       " 'setstate',\n",
       " 'shuffle',\n",
       " 'triangular',\n",
       " 'uniform',\n",
       " 'vonmisesvariate',\n",
       " 'weibullvariate']"
      ]
     },
     "execution_count": 31,
     "metadata": {},
     "output_type": "execute_result"
    }
   ],
   "source": [
    "dir(random)"
   ]
  },
  {
   "cell_type": "code",
   "execution_count": 38,
   "id": "0a1154f2-1740-4432-ab05-b223fc2fb327",
   "metadata": {},
   "outputs": [
    {
     "name": "stdout",
     "output_type": "stream",
     "text": [
      "9\n"
     ]
    }
   ],
   "source": [
    "num = random.randint(0,10)\n",
    "print(num)"
   ]
  },
  {
   "cell_type": "code",
   "execution_count": 45,
   "id": "dd69a2ec-6cab-4ee6-80a5-8c1fe515f481",
   "metadata": {},
   "outputs": [
    {
     "data": {
      "text/plain": [
       "1"
      ]
     },
     "execution_count": 45,
     "metadata": {},
     "output_type": "execute_result"
    }
   ],
   "source": [
    "random.choice(my_list)"
   ]
  },
  {
   "cell_type": "code",
   "execution_count": 46,
   "id": "216d6505-e306-4617-91cb-8d2e8b5f0828",
   "metadata": {},
   "outputs": [
    {
     "data": {
      "text/plain": [
       "[1, 2, 3, 4, 'hello']"
      ]
     },
     "execution_count": 46,
     "metadata": {},
     "output_type": "execute_result"
    }
   ],
   "source": [
    "my_list"
   ]
  },
  {
   "cell_type": "code",
   "execution_count": 47,
   "id": "7265bbd2-aff5-4198-bf69-43a2bfc75a6b",
   "metadata": {},
   "outputs": [],
   "source": [
    "random.shuffle(my_list)"
   ]
  },
  {
   "cell_type": "code",
   "execution_count": 48,
   "id": "86691b7f-48e7-40c6-aa0c-72b1a37be946",
   "metadata": {},
   "outputs": [
    {
     "data": {
      "text/plain": [
       "[3, 4, 'hello', 2, 1]"
      ]
     },
     "execution_count": 48,
     "metadata": {},
     "output_type": "execute_result"
    }
   ],
   "source": [
    "my_list"
   ]
  },
  {
   "cell_type": "code",
   "execution_count": 49,
   "id": "b73bae3d-5133-4b84-b134-2150cb03bd9e",
   "metadata": {},
   "outputs": [
    {
     "name": "stdin",
     "output_type": "stream",
     "text": [
      "enter name:  John Morelock\n",
      "enter name:  Andrew Rukangu\n",
      "enter name:  Kyle Johnsen\n"
     ]
    }
   ],
   "source": [
    "names = []\n",
    "#get names from user\n",
    "names.append (input(\"enter name: \"))\n",
    "names.append (input(\"enter name: \"))\n",
    "names.append (input(\"enter name: \"))"
   ]
  },
  {
   "cell_type": "code",
   "execution_count": 50,
   "id": "bf6f21c7-6b96-4b2d-9537-398adb6f770c",
   "metadata": {},
   "outputs": [
    {
     "data": {
      "text/plain": [
       "['John Morelock', 'Andrew Rukangu', 'Kyle Johnsen']"
      ]
     },
     "execution_count": 50,
     "metadata": {},
     "output_type": "execute_result"
    }
   ],
   "source": [
    "names"
   ]
  },
  {
   "cell_type": "code",
   "execution_count": 55,
   "id": "278a93f4-acf6-43a6-a2eb-d807b28ba8d6",
   "metadata": {},
   "outputs": [],
   "source": [
    "nameC = random.randint(0,3)\n",
    "winner = names[nameC]"
   ]
  },
  {
   "cell_type": "code",
   "execution_count": 56,
   "id": "2ed67418-af9a-40d0-a836-e83e1630e74b",
   "metadata": {},
   "outputs": [
    {
     "data": {
      "text/plain": [
       "'Kyle Johnsen'"
      ]
     },
     "execution_count": 56,
     "metadata": {},
     "output_type": "execute_result"
    }
   ],
   "source": [
    "winner"
   ]
  },
  {
   "cell_type": "code",
   "execution_count": 57,
   "id": "519c15ff-a1ee-47ed-a8ef-7fd349522ae1",
   "metadata": {},
   "outputs": [
    {
     "name": "stdin",
     "output_type": "stream",
     "text": [
      "Enter names separated by comma John Morelock, Andrew Rukangu, Kyle Johnsen\n"
     ]
    }
   ],
   "source": [
    "names = input(\"Enter names separated by comma\")"
   ]
  },
  {
   "cell_type": "code",
   "execution_count": 58,
   "id": "abdf1689-39bd-4ec1-9035-2c2866852f7e",
   "metadata": {},
   "outputs": [
    {
     "data": {
      "text/plain": [
       "'John Morelock, Andrew Rukangu, Kyle Johnsen'"
      ]
     },
     "execution_count": 58,
     "metadata": {},
     "output_type": "execute_result"
    }
   ],
   "source": [
    "names"
   ]
  },
  {
   "cell_type": "code",
   "execution_count": 59,
   "id": "8d1e4642-5473-4e06-83e2-513640564618",
   "metadata": {},
   "outputs": [],
   "source": [
    "namelist = names.split(\",\")"
   ]
  },
  {
   "cell_type": "code",
   "execution_count": 60,
   "id": "db193653-78e1-4eb0-8f15-4b573e98bdff",
   "metadata": {},
   "outputs": [
    {
     "data": {
      "text/plain": [
       "['John Morelock', ' Andrew Rukangu', ' Kyle Johnsen']"
      ]
     },
     "execution_count": 60,
     "metadata": {},
     "output_type": "execute_result"
    }
   ],
   "source": [
    "namelist"
   ]
  },
  {
   "cell_type": "code",
   "execution_count": 61,
   "id": "b8fa86f9-c08f-49ff-98c1-dba8232bc58b",
   "metadata": {},
   "outputs": [],
   "source": [
    "winner = random.choice(namelist)"
   ]
  },
  {
   "cell_type": "code",
   "execution_count": 62,
   "id": "d27200ab-0d8b-444d-998b-1401ab0b059c",
   "metadata": {},
   "outputs": [
    {
     "data": {
      "text/plain": [
       "' Andrew Rukangu'"
      ]
     },
     "execution_count": 62,
     "metadata": {},
     "output_type": "execute_result"
    }
   ],
   "source": [
    "winner"
   ]
  },
  {
   "cell_type": "code",
   "execution_count": null,
   "id": "518bbc52-1907-4be4-a6dd-940935187948",
   "metadata": {},
   "outputs": [],
   "source": []
  }
 ],
 "metadata": {
  "kernelspec": {
   "display_name": "info2000",
   "language": "python",
   "name": "info2000"
  },
  "language_info": {
   "codemirror_mode": {
    "name": "ipython",
    "version": 3
   },
   "file_extension": ".py",
   "mimetype": "text/x-python",
   "name": "python",
   "nbconvert_exporter": "python",
   "pygments_lexer": "ipython3",
   "version": "3.9.16"
  }
 },
 "nbformat": 4,
 "nbformat_minor": 5
}
