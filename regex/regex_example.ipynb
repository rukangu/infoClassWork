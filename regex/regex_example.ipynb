{
 "cells": [
  {
   "cell_type": "code",
   "execution_count": null,
   "metadata": {},
   "outputs": [],
   "source": [
    "# [(]*\\d{3}[)]*[-\\s]\\d{3}[-\\s]\\d{4}   # from regex101.com in class for phone numbers"
   ]
  },
  {
   "cell_type": "code",
   "execution_count": 75,
   "metadata": {},
   "outputs": [],
   "source": [
    "# function that determines whether an email is valid?\n",
    "\n",
    "def valid_email(email:str):   \n",
    "    username,domain = email.split('@') \n",
    "    if not username or not domain:\n",
    "        return False\n",
    "    # return true if valid\n",
    "    if '@' in email and '.' in email and len(email) >= 6 and email.endswith(\".edu\"):\n",
    "        return True\n",
    "    else:\n",
    "        return False"
   ]
  },
  {
   "cell_type": "code",
   "execution_count": 77,
   "metadata": {},
   "outputs": [
    {
     "name": "stdout",
     "output_type": "stream",
     "text": [
      "False\n"
     ]
    }
   ],
   "source": [
    "email_in = input(\"what's your email address\")\n",
    "print (valid_email(email_in.strip()))"
   ]
  },
  {
   "cell_type": "code",
   "execution_count": 74,
   "metadata": {},
   "outputs": [
    {
     "name": "stdout",
     "output_type": "stream",
     "text": [
      "email domain.edu\n"
     ]
    }
   ],
   "source": [
    "# testing\n",
    "s = 'email@domain.edu'\n",
    "\n",
    "username, domain = s.split('@')\n",
    "print(username, domain)"
   ]
  },
  {
   "cell_type": "code",
   "execution_count": 78,
   "metadata": {},
   "outputs": [],
   "source": [
    "import re"
   ]
  },
  {
   "cell_type": "code",
   "execution_count": 98,
   "metadata": {},
   "outputs": [],
   "source": [
    "def regex_valid_email(email):\n",
    "    # re.search (pattern we're interested in, string we're searching, flags)\n",
    "    # general form of an email address?\n",
    "    # username@domain\n",
    "    if re.search(r'^\\S+@.+\\.edu$', email):\n",
    "        return True\n",
    "    else:\n",
    "        return False"
   ]
  },
  {
   "cell_type": "code",
   "execution_count": 100,
   "metadata": {},
   "outputs": [
    {
     "name": "stdout",
     "output_type": "stream",
     "text": [
      "True\n"
     ]
    }
   ],
   "source": [
    "email_in = input(\"what's your email address\")\n",
    "print (regex_valid_email(email_in.strip()))"
   ]
  },
  {
   "cell_type": "code",
   "execution_count": 101,
   "metadata": {},
   "outputs": [],
   "source": [
    "import re\n",
    "import pandas as pd"
   ]
  },
  {
   "cell_type": "code",
   "execution_count": 103,
   "metadata": {},
   "outputs": [
    {
     "name": "stdout",
     "output_type": "stream",
     "text": [
      "True\n",
      "['1Ff0', '1Ff0']\n",
      "[]\n",
      "False\n"
     ]
    }
   ],
   "source": [
    "my_string1 = r\"The codes we use are 1Ff1 and 1Ff5\"\n",
    "my_string2 = r\" 1Ff0 We sometimes use only 1Ff0 \"\n",
    "pattern = re.compile(r'1Ff0')\n",
    "\n",
    "x = re.findall('1Ff0', my_string2)\n",
    "x2 = re.findall('1Ff0', my_string1)\n",
    "print(bool( x))\n",
    "print(x)\n",
    "print(x2)\n",
    "print(bool(x2))"
   ]
  },
  {
   "cell_type": "code",
   "execution_count": 104,
   "metadata": {},
   "outputs": [
    {
     "data": {
      "text/plain": [
       "[]"
      ]
     },
     "execution_count": 104,
     "metadata": {},
     "output_type": "execute_result"
    }
   ],
   "source": [
    "pattern.findall(my_string1)\n"
   ]
  },
  {
   "cell_type": "code",
   "execution_count": 105,
   "metadata": {},
   "outputs": [
    {
     "data": {
      "text/plain": [
       "<re.Match object; span=(1, 5), match='1Ff0'>"
      ]
     },
     "execution_count": 105,
     "metadata": {},
     "output_type": "execute_result"
    }
   ],
   "source": [
    "pattern.search(my_string2)"
   ]
  },
  {
   "cell_type": "code",
   "execution_count": 106,
   "metadata": {},
   "outputs": [
    {
     "data": {
      "text/plain": [
       "'nine,nine,nine,nine,nine,nine,nine,nine,nine'"
      ]
     },
     "execution_count": 106,
     "metadata": {},
     "output_type": "execute_result"
    }
   ],
   "source": [
    "# use regex to substitute\n",
    "re.sub(r'9',r'nine',r'9,9,9,9,9,9,9,9,9')"
   ]
  },
  {
   "cell_type": "code",
   "execution_count": 107,
   "metadata": {},
   "outputs": [],
   "source": [
    "s = r'Download the data into your own tools and systems to analyze the virus’s spread or decline, investigate COVID-related deaths, study the effects of different vaccines, and more in 20,000-plus locations worldwide.'"
   ]
  },
  {
   "cell_type": "code",
   "execution_count": 108,
   "metadata": {},
   "outputs": [],
   "source": [
    "def fourLetterWords(s):\n",
    "    return re.findall(r'\\b[a-zA-Z]{4}\\b',s)\n",
    "def fourLetterWords_2(s):\n",
    "    return re.findall(r'\\b\\w{4}\\b',s)"
   ]
  },
  {
   "cell_type": "code",
   "execution_count": 109,
   "metadata": {},
   "outputs": [
    {
     "data": {
      "text/plain": [
       "['data', 'into', 'your', 'more', 'plus']"
      ]
     },
     "execution_count": 109,
     "metadata": {},
     "output_type": "execute_result"
    }
   ],
   "source": [
    "fourLetterWords(s)"
   ]
  },
  {
   "cell_type": "code",
   "execution_count": 110,
   "metadata": {},
   "outputs": [
    {
     "data": {
      "text/plain": [
       "['data', 'into', 'your', 'more', 'plus']"
      ]
     },
     "execution_count": 110,
     "metadata": {},
     "output_type": "execute_result"
    }
   ],
   "source": [
    "fourLetterWords_2(s)"
   ]
  },
  {
   "cell_type": "code",
   "execution_count": 111,
   "metadata": {},
   "outputs": [
    {
     "data": {
      "text/html": [
       "<div>\n",
       "<style scoped>\n",
       "    .dataframe tbody tr th:only-of-type {\n",
       "        vertical-align: middle;\n",
       "    }\n",
       "\n",
       "    .dataframe tbody tr th {\n",
       "        vertical-align: top;\n",
       "    }\n",
       "\n",
       "    .dataframe thead th {\n",
       "        text-align: right;\n",
       "    }\n",
       "</style>\n",
       "<table border=\"1\" class=\"dataframe\">\n",
       "  <thead>\n",
       "    <tr style=\"text-align: right;\">\n",
       "      <th></th>\n",
       "      <th>Country (region)</th>\n",
       "      <th>Ladder</th>\n",
       "      <th>SD of Ladder</th>\n",
       "      <th>Positive affect</th>\n",
       "      <th>Negative affect</th>\n",
       "      <th>Social support</th>\n",
       "      <th>Freedom</th>\n",
       "      <th>Corruption</th>\n",
       "      <th>Generosity</th>\n",
       "      <th>Log of GDP\\nper capita</th>\n",
       "      <th>Healthy life\\nexpectancy</th>\n",
       "    </tr>\n",
       "  </thead>\n",
       "  <tbody>\n",
       "    <tr>\n",
       "      <th>0</th>\n",
       "      <td>Finland</td>\n",
       "      <td>1</td>\n",
       "      <td>4</td>\n",
       "      <td>41.0</td>\n",
       "      <td>10.0</td>\n",
       "      <td>2.0</td>\n",
       "      <td>5.0</td>\n",
       "      <td>4.0</td>\n",
       "      <td>47.0</td>\n",
       "      <td>22.0</td>\n",
       "      <td>27.0</td>\n",
       "    </tr>\n",
       "    <tr>\n",
       "      <th>1</th>\n",
       "      <td>Denmark</td>\n",
       "      <td>2</td>\n",
       "      <td>13</td>\n",
       "      <td>24.0</td>\n",
       "      <td>26.0</td>\n",
       "      <td>4.0</td>\n",
       "      <td>6.0</td>\n",
       "      <td>3.0</td>\n",
       "      <td>22.0</td>\n",
       "      <td>14.0</td>\n",
       "      <td>23.0</td>\n",
       "    </tr>\n",
       "    <tr>\n",
       "      <th>2</th>\n",
       "      <td>Norway</td>\n",
       "      <td>3</td>\n",
       "      <td>8</td>\n",
       "      <td>16.0</td>\n",
       "      <td>29.0</td>\n",
       "      <td>3.0</td>\n",
       "      <td>3.0</td>\n",
       "      <td>8.0</td>\n",
       "      <td>11.0</td>\n",
       "      <td>7.0</td>\n",
       "      <td>12.0</td>\n",
       "    </tr>\n",
       "    <tr>\n",
       "      <th>3</th>\n",
       "      <td>Iceland</td>\n",
       "      <td>4</td>\n",
       "      <td>9</td>\n",
       "      <td>3.0</td>\n",
       "      <td>3.0</td>\n",
       "      <td>1.0</td>\n",
       "      <td>7.0</td>\n",
       "      <td>45.0</td>\n",
       "      <td>3.0</td>\n",
       "      <td>15.0</td>\n",
       "      <td>13.0</td>\n",
       "    </tr>\n",
       "    <tr>\n",
       "      <th>4</th>\n",
       "      <td>Netherlands</td>\n",
       "      <td>5</td>\n",
       "      <td>1</td>\n",
       "      <td>12.0</td>\n",
       "      <td>25.0</td>\n",
       "      <td>15.0</td>\n",
       "      <td>19.0</td>\n",
       "      <td>12.0</td>\n",
       "      <td>7.0</td>\n",
       "      <td>12.0</td>\n",
       "      <td>18.0</td>\n",
       "    </tr>\n",
       "  </tbody>\n",
       "</table>\n",
       "</div>"
      ],
      "text/plain": [
       "  Country (region)  Ladder  SD of Ladder  Positive affect  Negative affect  \\\n",
       "0          Finland       1             4             41.0             10.0   \n",
       "1          Denmark       2            13             24.0             26.0   \n",
       "2           Norway       3             8             16.0             29.0   \n",
       "3          Iceland       4             9              3.0              3.0   \n",
       "4      Netherlands       5             1             12.0             25.0   \n",
       "\n",
       "   Social support  Freedom  Corruption  Generosity  Log of GDP\\nper capita  \\\n",
       "0             2.0      5.0         4.0        47.0                    22.0   \n",
       "1             4.0      6.0         3.0        22.0                    14.0   \n",
       "2             3.0      3.0         8.0        11.0                     7.0   \n",
       "3             1.0      7.0        45.0         3.0                    15.0   \n",
       "4            15.0     19.0        12.0         7.0                    12.0   \n",
       "\n",
       "   Healthy life\\nexpectancy  \n",
       "0                      27.0  \n",
       "1                      23.0  \n",
       "2                      12.0  \n",
       "3                      13.0  \n",
       "4                      18.0  "
      ]
     },
     "execution_count": 111,
     "metadata": {},
     "output_type": "execute_result"
    }
   ],
   "source": [
    "df = pd.read_csv('data/report.csv')\n",
    "df.head(5)"
   ]
  },
  {
   "cell_type": "code",
   "execution_count": 112,
   "metadata": {},
   "outputs": [
    {
     "data": {
      "text/plain": [
       "pandas.core.indexes.base.Index"
      ]
     },
     "execution_count": 112,
     "metadata": {},
     "output_type": "execute_result"
    }
   ],
   "source": [
    "type(df.columns)"
   ]
  },
  {
   "cell_type": "code",
   "execution_count": 113,
   "metadata": {},
   "outputs": [],
   "source": [
    "# convert columns into a list\n",
    "col_list = df.columns.to_list()"
   ]
  },
  {
   "cell_type": "code",
   "execution_count": 114,
   "metadata": {},
   "outputs": [],
   "source": [
    "# get rid of all special characters in the columns\n",
    "new_cols = []\n",
    "for col in col_list:\n",
    "    new_cols.append(re.sub(r'\\W','',col))"
   ]
  },
  {
   "cell_type": "code",
   "execution_count": 53,
   "metadata": {},
   "outputs": [
    {
     "data": {
      "text/plain": [
       "['Countryregion',\n",
       " 'Ladder',\n",
       " 'SDofLadder',\n",
       " 'Positiveaffect',\n",
       " 'Negativeaffect',\n",
       " 'Socialsupport',\n",
       " 'Freedom',\n",
       " 'Corruption',\n",
       " 'Generosity',\n",
       " 'LogofGDPpercapita',\n",
       " 'Healthylifeexpectancy']"
      ]
     },
     "execution_count": 53,
     "metadata": {},
     "output_type": "execute_result"
    }
   ],
   "source": [
    "new_cols"
   ]
  },
  {
   "cell_type": "code",
   "execution_count": 115,
   "metadata": {},
   "outputs": [
    {
     "data": {
      "text/html": [
       "<div>\n",
       "<style scoped>\n",
       "    .dataframe tbody tr th:only-of-type {\n",
       "        vertical-align: middle;\n",
       "    }\n",
       "\n",
       "    .dataframe tbody tr th {\n",
       "        vertical-align: top;\n",
       "    }\n",
       "\n",
       "    .dataframe thead th {\n",
       "        text-align: right;\n",
       "    }\n",
       "</style>\n",
       "<table border=\"1\" class=\"dataframe\">\n",
       "  <thead>\n",
       "    <tr style=\"text-align: right;\">\n",
       "      <th></th>\n",
       "      <th>Countryregion</th>\n",
       "      <th>Ladder</th>\n",
       "      <th>SDofLadder</th>\n",
       "      <th>Positiveaffect</th>\n",
       "      <th>Negativeaffect</th>\n",
       "      <th>Socialsupport</th>\n",
       "      <th>Freedom</th>\n",
       "      <th>Corruption</th>\n",
       "      <th>Generosity</th>\n",
       "      <th>LogofGDPpercapita</th>\n",
       "      <th>Healthylifeexpectancy</th>\n",
       "    </tr>\n",
       "  </thead>\n",
       "  <tbody>\n",
       "    <tr>\n",
       "      <th>0</th>\n",
       "      <td>Finland</td>\n",
       "      <td>1</td>\n",
       "      <td>4</td>\n",
       "      <td>41.0</td>\n",
       "      <td>10.0</td>\n",
       "      <td>2.0</td>\n",
       "      <td>5.0</td>\n",
       "      <td>4.0</td>\n",
       "      <td>47.0</td>\n",
       "      <td>22.0</td>\n",
       "      <td>27.0</td>\n",
       "    </tr>\n",
       "    <tr>\n",
       "      <th>1</th>\n",
       "      <td>Denmark</td>\n",
       "      <td>2</td>\n",
       "      <td>13</td>\n",
       "      <td>24.0</td>\n",
       "      <td>26.0</td>\n",
       "      <td>4.0</td>\n",
       "      <td>6.0</td>\n",
       "      <td>3.0</td>\n",
       "      <td>22.0</td>\n",
       "      <td>14.0</td>\n",
       "      <td>23.0</td>\n",
       "    </tr>\n",
       "    <tr>\n",
       "      <th>2</th>\n",
       "      <td>Norway</td>\n",
       "      <td>3</td>\n",
       "      <td>8</td>\n",
       "      <td>16.0</td>\n",
       "      <td>29.0</td>\n",
       "      <td>3.0</td>\n",
       "      <td>3.0</td>\n",
       "      <td>8.0</td>\n",
       "      <td>11.0</td>\n",
       "      <td>7.0</td>\n",
       "      <td>12.0</td>\n",
       "    </tr>\n",
       "    <tr>\n",
       "      <th>3</th>\n",
       "      <td>Iceland</td>\n",
       "      <td>4</td>\n",
       "      <td>9</td>\n",
       "      <td>3.0</td>\n",
       "      <td>3.0</td>\n",
       "      <td>1.0</td>\n",
       "      <td>7.0</td>\n",
       "      <td>45.0</td>\n",
       "      <td>3.0</td>\n",
       "      <td>15.0</td>\n",
       "      <td>13.0</td>\n",
       "    </tr>\n",
       "    <tr>\n",
       "      <th>4</th>\n",
       "      <td>Netherlands</td>\n",
       "      <td>5</td>\n",
       "      <td>1</td>\n",
       "      <td>12.0</td>\n",
       "      <td>25.0</td>\n",
       "      <td>15.0</td>\n",
       "      <td>19.0</td>\n",
       "      <td>12.0</td>\n",
       "      <td>7.0</td>\n",
       "      <td>12.0</td>\n",
       "      <td>18.0</td>\n",
       "    </tr>\n",
       "  </tbody>\n",
       "</table>\n",
       "</div>"
      ],
      "text/plain": [
       "  Countryregion  Ladder  SDofLadder  Positiveaffect  Negativeaffect  \\\n",
       "0       Finland       1           4            41.0            10.0   \n",
       "1       Denmark       2          13            24.0            26.0   \n",
       "2        Norway       3           8            16.0            29.0   \n",
       "3       Iceland       4           9             3.0             3.0   \n",
       "4   Netherlands       5           1            12.0            25.0   \n",
       "\n",
       "   Socialsupport  Freedom  Corruption  Generosity  LogofGDPpercapita  \\\n",
       "0            2.0      5.0         4.0        47.0               22.0   \n",
       "1            4.0      6.0         3.0        22.0               14.0   \n",
       "2            3.0      3.0         8.0        11.0                7.0   \n",
       "3            1.0      7.0        45.0         3.0               15.0   \n",
       "4           15.0     19.0        12.0         7.0               12.0   \n",
       "\n",
       "   Healthylifeexpectancy  \n",
       "0                   27.0  \n",
       "1                   23.0  \n",
       "2                   12.0  \n",
       "3                   13.0  \n",
       "4                   18.0  "
      ]
     },
     "execution_count": 115,
     "metadata": {},
     "output_type": "execute_result"
    }
   ],
   "source": [
    "df.columns=new_cols\n",
    "df.head(5)"
   ]
  },
  {
   "cell_type": "code",
   "execution_count": 116,
   "metadata": {},
   "outputs": [
    {
     "data": {
      "text/html": [
       "<div>\n",
       "<style scoped>\n",
       "    .dataframe tbody tr th:only-of-type {\n",
       "        vertical-align: middle;\n",
       "    }\n",
       "\n",
       "    .dataframe tbody tr th {\n",
       "        vertical-align: top;\n",
       "    }\n",
       "\n",
       "    .dataframe thead th {\n",
       "        text-align: right;\n",
       "    }\n",
       "</style>\n",
       "<table border=\"1\" class=\"dataframe\">\n",
       "  <thead>\n",
       "    <tr style=\"text-align: right;\">\n",
       "      <th></th>\n",
       "      <th>0</th>\n",
       "    </tr>\n",
       "  </thead>\n",
       "  <tbody>\n",
       "    <tr>\n",
       "      <th>2</th>\n",
       "      <td>Norway</td>\n",
       "    </tr>\n",
       "    <tr>\n",
       "      <th>4</th>\n",
       "      <td>Netherlands</td>\n",
       "    </tr>\n",
       "    <tr>\n",
       "      <th>7</th>\n",
       "      <td>New</td>\n",
       "    </tr>\n",
       "    <tr>\n",
       "      <th>44</th>\n",
       "      <td>Nicaragua</td>\n",
       "    </tr>\n",
       "    <tr>\n",
       "      <th>63</th>\n",
       "      <td>Northern</td>\n",
       "    </tr>\n",
       "    <tr>\n",
       "      <th>84</th>\n",
       "      <td>Nigeria</td>\n",
       "    </tr>\n",
       "    <tr>\n",
       "      <th>99</th>\n",
       "      <td>Nepal</td>\n",
       "    </tr>\n",
       "    <tr>\n",
       "      <th>112</th>\n",
       "      <td>Namibia</td>\n",
       "    </tr>\n",
       "    <tr>\n",
       "      <th>113</th>\n",
       "      <td>Niger</td>\n",
       "    </tr>\n",
       "  </tbody>\n",
       "</table>\n",
       "</div>"
      ],
      "text/plain": [
       "               0\n",
       "2         Norway\n",
       "4    Netherlands\n",
       "7            New\n",
       "44     Nicaragua\n",
       "63      Northern\n",
       "84       Nigeria\n",
       "99         Nepal\n",
       "112      Namibia\n",
       "113        Niger"
      ]
     },
     "execution_count": 116,
     "metadata": {},
     "output_type": "execute_result"
    }
   ],
   "source": [
    "# countries that start with an N\n",
    "df.Countryregion.str.extract(r\"(^N\\w*)\").dropna()"
   ]
  },
  {
   "cell_type": "code",
   "execution_count": 120,
   "metadata": {},
   "outputs": [
    {
     "data": {
      "text/plain": [
       "0          Finland\n",
       "1          Denmark\n",
       "2           Norway\n",
       "3          Iceland\n",
       "4      Netherlands\n",
       "          ...     \n",
       "151         Rwanda\n",
       "152       Tanzania\n",
       "153    Afghanistan\n",
       "154        Central\n",
       "155          South\n",
       "Name: longCountries, Length: 156, dtype: object"
      ]
     },
     "execution_count": 120,
     "metadata": {},
     "output_type": "execute_result"
    }
   ],
   "source": [
    "df['longCountries'] = df.Countryregion.str.extract(r\"(\\w{5,})\")\n",
    "df.longCountries"
   ]
  },
  {
   "cell_type": "code",
   "execution_count": 119,
   "metadata": {},
   "outputs": [
    {
     "data": {
      "text/plain": [
       "0      Fin\n",
       "1      Den\n",
       "2      Nor\n",
       "3      Ice\n",
       "4      Net\n",
       "      ... \n",
       "151    Rwa\n",
       "152    Tan\n",
       "153    Afg\n",
       "154    Cen\n",
       "155    Sou\n",
       "Name: countryCode, Length: 156, dtype: object"
      ]
     },
     "execution_count": 119,
     "metadata": {},
     "output_type": "execute_result"
    }
   ],
   "source": [
    "df['countryCode'] = df['Countryregion'].str.extract(r'(\\w{3})')\n",
    "df.countryCode"
   ]
  },
  {
   "cell_type": "code",
   "execution_count": 121,
   "metadata": {},
   "outputs": [
    {
     "data": {
      "text/html": [
       "<div>\n",
       "<style scoped>\n",
       "    .dataframe tbody tr th:only-of-type {\n",
       "        vertical-align: middle;\n",
       "    }\n",
       "\n",
       "    .dataframe tbody tr th {\n",
       "        vertical-align: top;\n",
       "    }\n",
       "\n",
       "    .dataframe thead th {\n",
       "        text-align: right;\n",
       "    }\n",
       "</style>\n",
       "<table border=\"1\" class=\"dataframe\">\n",
       "  <thead>\n",
       "    <tr style=\"text-align: right;\">\n",
       "      <th></th>\n",
       "      <th>Countryregion</th>\n",
       "      <th>Ladder</th>\n",
       "      <th>SDofLadder</th>\n",
       "      <th>Positiveaffect</th>\n",
       "      <th>Negativeaffect</th>\n",
       "      <th>Socialsupport</th>\n",
       "      <th>Freedom</th>\n",
       "      <th>Corruption</th>\n",
       "      <th>Generosity</th>\n",
       "      <th>LogofGDPpercapita</th>\n",
       "      <th>Healthylifeexpectancy</th>\n",
       "      <th>longCountries</th>\n",
       "      <th>countryCode</th>\n",
       "    </tr>\n",
       "  </thead>\n",
       "  <tbody>\n",
       "    <tr>\n",
       "      <th>9</th>\n",
       "      <td>Austria</td>\n",
       "      <td>10</td>\n",
       "      <td>10</td>\n",
       "      <td>64.0</td>\n",
       "      <td>24.0</td>\n",
       "      <td>31.0</td>\n",
       "      <td>26.0</td>\n",
       "      <td>19.0</td>\n",
       "      <td>25.0</td>\n",
       "      <td>16.0</td>\n",
       "      <td>15.0</td>\n",
       "      <td>Austria</td>\n",
       "      <td>Aus</td>\n",
       "    </tr>\n",
       "    <tr>\n",
       "      <th>10</th>\n",
       "      <td>Australia</td>\n",
       "      <td>11</td>\n",
       "      <td>26</td>\n",
       "      <td>47.0</td>\n",
       "      <td>37.0</td>\n",
       "      <td>7.0</td>\n",
       "      <td>17.0</td>\n",
       "      <td>13.0</td>\n",
       "      <td>6.0</td>\n",
       "      <td>18.0</td>\n",
       "      <td>10.0</td>\n",
       "      <td>Australia</td>\n",
       "      <td>Aus</td>\n",
       "    </tr>\n",
       "    <tr>\n",
       "      <th>46</th>\n",
       "      <td>Argentina</td>\n",
       "      <td>47</td>\n",
       "      <td>97</td>\n",
       "      <td>28.0</td>\n",
       "      <td>93.0</td>\n",
       "      <td>46.0</td>\n",
       "      <td>54.0</td>\n",
       "      <td>109.0</td>\n",
       "      <td>123.0</td>\n",
       "      <td>55.0</td>\n",
       "      <td>37.0</td>\n",
       "      <td>Argentina</td>\n",
       "      <td>Arg</td>\n",
       "    </tr>\n",
       "    <tr>\n",
       "      <th>87</th>\n",
       "      <td>Algeria</td>\n",
       "      <td>88</td>\n",
       "      <td>56</td>\n",
       "      <td>113.0</td>\n",
       "      <td>106.0</td>\n",
       "      <td>101.0</td>\n",
       "      <td>149.0</td>\n",
       "      <td>46.0</td>\n",
       "      <td>128.0</td>\n",
       "      <td>72.0</td>\n",
       "      <td>78.0</td>\n",
       "      <td>Algeria</td>\n",
       "      <td>Alg</td>\n",
       "    </tr>\n",
       "    <tr>\n",
       "      <th>89</th>\n",
       "      <td>Azerbaijan</td>\n",
       "      <td>90</td>\n",
       "      <td>24</td>\n",
       "      <td>134.0</td>\n",
       "      <td>20.0</td>\n",
       "      <td>104.0</td>\n",
       "      <td>101.0</td>\n",
       "      <td>22.0</td>\n",
       "      <td>146.0</td>\n",
       "      <td>65.0</td>\n",
       "      <td>82.0</td>\n",
       "      <td>Azerbaijan</td>\n",
       "      <td>Aze</td>\n",
       "    </tr>\n",
       "    <tr>\n",
       "      <th>106</th>\n",
       "      <td>Albania</td>\n",
       "      <td>107</td>\n",
       "      <td>126</td>\n",
       "      <td>90.0</td>\n",
       "      <td>108.0</td>\n",
       "      <td>133.0</td>\n",
       "      <td>87.0</td>\n",
       "      <td>134.0</td>\n",
       "      <td>60.0</td>\n",
       "      <td>81.0</td>\n",
       "      <td>40.0</td>\n",
       "      <td>Albania</td>\n",
       "      <td>Alb</td>\n",
       "    </tr>\n",
       "    <tr>\n",
       "      <th>115</th>\n",
       "      <td>Armenia</td>\n",
       "      <td>116</td>\n",
       "      <td>82</td>\n",
       "      <td>126.0</td>\n",
       "      <td>145.0</td>\n",
       "      <td>117.0</td>\n",
       "      <td>123.0</td>\n",
       "      <td>93.0</td>\n",
       "      <td>129.0</td>\n",
       "      <td>91.0</td>\n",
       "      <td>64.0</td>\n",
       "      <td>Armenia</td>\n",
       "      <td>Arm</td>\n",
       "    </tr>\n",
       "    <tr>\n",
       "      <th>153</th>\n",
       "      <td>Afghanistan</td>\n",
       "      <td>154</td>\n",
       "      <td>25</td>\n",
       "      <td>152.0</td>\n",
       "      <td>133.0</td>\n",
       "      <td>151.0</td>\n",
       "      <td>155.0</td>\n",
       "      <td>136.0</td>\n",
       "      <td>137.0</td>\n",
       "      <td>134.0</td>\n",
       "      <td>139.0</td>\n",
       "      <td>Afghanistan</td>\n",
       "      <td>Afg</td>\n",
       "    </tr>\n",
       "  </tbody>\n",
       "</table>\n",
       "</div>"
      ],
      "text/plain": [
       "    Countryregion  Ladder  SDofLadder  Positiveaffect  Negativeaffect  \\\n",
       "9         Austria      10          10            64.0            24.0   \n",
       "10      Australia      11          26            47.0            37.0   \n",
       "46      Argentina      47          97            28.0            93.0   \n",
       "87        Algeria      88          56           113.0           106.0   \n",
       "89     Azerbaijan      90          24           134.0            20.0   \n",
       "106       Albania     107         126            90.0           108.0   \n",
       "115       Armenia     116          82           126.0           145.0   \n",
       "153   Afghanistan     154          25           152.0           133.0   \n",
       "\n",
       "     Socialsupport  Freedom  Corruption  Generosity  LogofGDPpercapita  \\\n",
       "9             31.0     26.0        19.0        25.0               16.0   \n",
       "10             7.0     17.0        13.0         6.0               18.0   \n",
       "46            46.0     54.0       109.0       123.0               55.0   \n",
       "87           101.0    149.0        46.0       128.0               72.0   \n",
       "89           104.0    101.0        22.0       146.0               65.0   \n",
       "106          133.0     87.0       134.0        60.0               81.0   \n",
       "115          117.0    123.0        93.0       129.0               91.0   \n",
       "153          151.0    155.0       136.0       137.0              134.0   \n",
       "\n",
       "     Healthylifeexpectancy longCountries countryCode  \n",
       "9                     15.0       Austria         Aus  \n",
       "10                    10.0     Australia         Aus  \n",
       "46                    37.0     Argentina         Arg  \n",
       "87                    78.0       Algeria         Alg  \n",
       "89                    82.0    Azerbaijan         Aze  \n",
       "106                   40.0       Albania         Alb  \n",
       "115                   64.0       Armenia         Arm  \n",
       "153                  139.0   Afghanistan         Afg  "
      ]
     },
     "execution_count": 121,
     "metadata": {},
     "output_type": "execute_result"
    }
   ],
   "source": [
    "df[df.Countryregion.str.contains(r'^A')]"
   ]
  },
  {
   "cell_type": "code",
   "execution_count": 122,
   "metadata": {},
   "outputs": [
    {
     "data": {
      "text/html": [
       "<div>\n",
       "<style scoped>\n",
       "    .dataframe tbody tr th:only-of-type {\n",
       "        vertical-align: middle;\n",
       "    }\n",
       "\n",
       "    .dataframe tbody tr th {\n",
       "        vertical-align: top;\n",
       "    }\n",
       "\n",
       "    .dataframe thead th {\n",
       "        text-align: right;\n",
       "    }\n",
       "</style>\n",
       "<table border=\"1\" class=\"dataframe\">\n",
       "  <thead>\n",
       "    <tr style=\"text-align: right;\">\n",
       "      <th></th>\n",
       "      <th>Review</th>\n",
       "      <th>Liked</th>\n",
       "    </tr>\n",
       "  </thead>\n",
       "  <tbody>\n",
       "    <tr>\n",
       "      <th>0</th>\n",
       "      <td>Wow... Loved this place.</td>\n",
       "      <td>1</td>\n",
       "    </tr>\n",
       "    <tr>\n",
       "      <th>1</th>\n",
       "      <td>Crust is not good.</td>\n",
       "      <td>0</td>\n",
       "    </tr>\n",
       "    <tr>\n",
       "      <th>2</th>\n",
       "      <td>Not tasty and the texture was just nasty.</td>\n",
       "      <td>0</td>\n",
       "    </tr>\n",
       "    <tr>\n",
       "      <th>3</th>\n",
       "      <td>Stopped by during the late May bank holiday off Rick Steve recommendation and loved it.</td>\n",
       "      <td>1</td>\n",
       "    </tr>\n",
       "    <tr>\n",
       "      <th>4</th>\n",
       "      <td>The selection on the menu was great and so were the prices.</td>\n",
       "      <td>1</td>\n",
       "    </tr>\n",
       "    <tr>\n",
       "      <th>...</th>\n",
       "      <td>...</td>\n",
       "      <td>...</td>\n",
       "    </tr>\n",
       "    <tr>\n",
       "      <th>995</th>\n",
       "      <td>I think food should have flavor and texture and both were lacking.</td>\n",
       "      <td>0</td>\n",
       "    </tr>\n",
       "    <tr>\n",
       "      <th>996</th>\n",
       "      <td>Appetite instantly gone.</td>\n",
       "      <td>0</td>\n",
       "    </tr>\n",
       "    <tr>\n",
       "      <th>997</th>\n",
       "      <td>Overall I was not impressed and would not go back.</td>\n",
       "      <td>0</td>\n",
       "    </tr>\n",
       "    <tr>\n",
       "      <th>998</th>\n",
       "      <td>The whole experience was underwhelming, and I think we'll just go to Ninja Sushi next time.</td>\n",
       "      <td>0</td>\n",
       "    </tr>\n",
       "    <tr>\n",
       "      <th>999</th>\n",
       "      <td>Then, as if I hadn't wasted enough of my life there, they poured salt in the wound by drawing out the time it took to bring the check.</td>\n",
       "      <td>0</td>\n",
       "    </tr>\n",
       "  </tbody>\n",
       "</table>\n",
       "<p>1000 rows × 2 columns</p>\n",
       "</div>"
      ],
      "text/plain": [
       "                                                                                                                                     Review  \\\n",
       "0                                                                                                                  Wow... Loved this place.   \n",
       "1                                                                                                                        Crust is not good.   \n",
       "2                                                                                                 Not tasty and the texture was just nasty.   \n",
       "3                                                   Stopped by during the late May bank holiday off Rick Steve recommendation and loved it.   \n",
       "4                                                                               The selection on the menu was great and so were the prices.   \n",
       "..                                                                                                                                      ...   \n",
       "995                                                                      I think food should have flavor and texture and both were lacking.   \n",
       "996                                                                                                                Appetite instantly gone.   \n",
       "997                                                                                      Overall I was not impressed and would not go back.   \n",
       "998                                             The whole experience was underwhelming, and I think we'll just go to Ninja Sushi next time.   \n",
       "999  Then, as if I hadn't wasted enough of my life there, they poured salt in the wound by drawing out the time it took to bring the check.   \n",
       "\n",
       "     Liked  \n",
       "0        1  \n",
       "1        0  \n",
       "2        0  \n",
       "3        1  \n",
       "4        1  \n",
       "..     ...  \n",
       "995      0  \n",
       "996      0  \n",
       "997      0  \n",
       "998      0  \n",
       "999      0  \n",
       "\n",
       "[1000 rows x 2 columns]"
      ]
     },
     "execution_count": 122,
     "metadata": {},
     "output_type": "execute_result"
    }
   ],
   "source": [
    "df = pd.read_csv(\"data/Restaurant_Reviews.tsv\", sep = '\\t')\n",
    "df"
   ]
  },
  {
   "cell_type": "code",
   "execution_count": 123,
   "metadata": {},
   "outputs": [
    {
     "name": "stdout",
     "output_type": "stream",
     "text": [
      "<class 'pandas.core.frame.DataFrame'>\n",
      "RangeIndex: 1000 entries, 0 to 999\n",
      "Data columns (total 2 columns):\n",
      " #   Column  Non-Null Count  Dtype \n",
      "---  ------  --------------  ----- \n",
      " 0   Review  1000 non-null   object\n",
      " 1   Liked   1000 non-null   int64 \n",
      "dtypes: int64(1), object(1)\n",
      "memory usage: 15.8+ KB\n"
     ]
    }
   ],
   "source": [
    "df.info()"
   ]
  },
  {
   "cell_type": "code",
   "execution_count": null,
   "metadata": {},
   "outputs": [],
   "source": [
    "x = df.Review.str.contains(r\"menu\")\n",
    "display(type(x))\n",
    "display(x)"
   ]
  },
  {
   "cell_type": "code",
   "execution_count": null,
   "metadata": {},
   "outputs": [],
   "source": [
    "#contains both menu and price\n",
    "df[df.Review.str.contains(r\"menu\")&df.Review.str.contains(r\"price\")]"
   ]
  },
  {
   "cell_type": "code",
   "execution_count": null,
   "metadata": {},
   "outputs": [],
   "source": [
    "df.Review.str.contains(r\"menu\")"
   ]
  },
  {
   "cell_type": "code",
   "execution_count": null,
   "metadata": {},
   "outputs": [],
   "source": [
    "#reviews with a question\n",
    "df[df.Review.str.contains(\"\\?\")]"
   ]
  },
  {
   "cell_type": "code",
   "execution_count": null,
   "metadata": {},
   "outputs": [],
   "source": [
    "#talk about kids \n",
    "df[df.Review.str.contains(r\"\\bchild[\\w]*|kid[s]?\") & (df.Liked == 1)]"
   ]
  },
  {
   "cell_type": "code",
   "execution_count": null,
   "metadata": {},
   "outputs": [],
   "source": []
  },
  {
   "cell_type": "code",
   "execution_count": null,
   "metadata": {},
   "outputs": [],
   "source": [
    "# find reviews that contain money\n",
    "df[df.Review.str.contains(\"\\$\")]"
   ]
  },
  {
   "cell_type": "code",
   "execution_count": null,
   "metadata": {},
   "outputs": [],
   "source": [
    "# extract capitalized words longer than 4 characters\n",
    "x = df.Review.str.extract(r'\\b(?P<shouted>[A-Z]{4,})\\b').dropna()\n",
    "df_new = pd.concat([x,df],axis = 1).dropna()\n",
    "df_new"
   ]
  },
  {
   "cell_type": "code",
   "execution_count": 126,
   "metadata": {},
   "outputs": [
    {
     "data": {
      "text/html": [
       "<div>\n",
       "<style scoped>\n",
       "    .dataframe tbody tr th:only-of-type {\n",
       "        vertical-align: middle;\n",
       "    }\n",
       "\n",
       "    .dataframe tbody tr th {\n",
       "        vertical-align: top;\n",
       "    }\n",
       "\n",
       "    .dataframe thead th {\n",
       "        text-align: right;\n",
       "    }\n",
       "</style>\n",
       "<table border=\"1\" class=\"dataframe\">\n",
       "  <thead>\n",
       "    <tr style=\"text-align: right;\">\n",
       "      <th></th>\n",
       "      <th>quoted</th>\n",
       "      <th>Review</th>\n",
       "      <th>Liked</th>\n",
       "    </tr>\n",
       "  </thead>\n",
       "  <tbody>\n",
       "    <tr>\n",
       "      <th>228</th>\n",
       "      <td>mains,</td>\n",
       "      <td>As for the \"mains,\" also uninspired.</td>\n",
       "      <td>0</td>\n",
       "    </tr>\n",
       "    <tr>\n",
       "      <th>236</th>\n",
       "      <td>yum yum sauce</td>\n",
       "      <td>The descriptions said \"yum yum sauce\" and another said \"eel sauce\", yet another said \"spicy mayo\"...well NONE of the rolls had sauces on them.</td>\n",
       "      <td>0</td>\n",
       "    </tr>\n",
       "    <tr>\n",
       "      <th>244</th>\n",
       "      <td>you couldn't pay me to eat at this place again.</td>\n",
       "      <td>like the other reviewer said \"you couldn't pay me to eat at this place again.\"</td>\n",
       "      <td>0</td>\n",
       "    </tr>\n",
       "    <tr>\n",
       "      <th>337</th>\n",
       "      <td>Gold Standard</td>\n",
       "      <td>The burger... I got the \"Gold Standard\" a $17 burger and was kind of disappointed.</td>\n",
       "      <td>0</td>\n",
       "    </tr>\n",
       "    <tr>\n",
       "      <th>547</th>\n",
       "      <td>hello, we will be right with you.</td>\n",
       "      <td>not even a \"hello, we will be right with you.\"</td>\n",
       "      <td>0</td>\n",
       "    </tr>\n",
       "    <tr>\n",
       "      <th>566</th>\n",
       "      <td>Are you being helped?</td>\n",
       "      <td>The servers went back and forth several times, not even so much as an \"Are you being helped?\"</td>\n",
       "      <td>0</td>\n",
       "    </tr>\n",
       "    <tr>\n",
       "      <th>593</th>\n",
       "      <td>crumby</td>\n",
       "      <td>It was extremely \"crumby\" and pretty tasteless.</td>\n",
       "      <td>0</td>\n",
       "    </tr>\n",
       "    <tr>\n",
       "      <th>657</th>\n",
       "      <td>LEGIT</td>\n",
       "      <td>That just SCREAMS \"LEGIT\" in my book...somethat's also pretty rare here in Vegas.</td>\n",
       "      <td>1</td>\n",
       "    </tr>\n",
       "    <tr>\n",
       "      <th>708</th>\n",
       "      <td>to go</td>\n",
       "      <td>Service is quick and even \"to go\" orders are just like we like it!</td>\n",
       "      <td>1</td>\n",
       "    </tr>\n",
       "    <tr>\n",
       "      <th>772</th>\n",
       "      <td>real traditional Hunan style</td>\n",
       "      <td>the food is not tasty at all, not to say its \"real traditional Hunan style\".</td>\n",
       "      <td>0</td>\n",
       "    </tr>\n",
       "    <tr>\n",
       "      <th>969</th>\n",
       "      <td>ya'all</td>\n",
       "      <td>I don't know what the big deal is about this place, but I won't be back \"ya'all\".</td>\n",
       "      <td>0</td>\n",
       "    </tr>\n",
       "  </tbody>\n",
       "</table>\n",
       "</div>"
      ],
      "text/plain": [
       "                                              quoted  \\\n",
       "228                                           mains,   \n",
       "236                                    yum yum sauce   \n",
       "244  you couldn't pay me to eat at this place again.   \n",
       "337                                    Gold Standard   \n",
       "547                hello, we will be right with you.   \n",
       "566                            Are you being helped?   \n",
       "593                                           crumby   \n",
       "657                                            LEGIT   \n",
       "708                                            to go   \n",
       "772                     real traditional Hunan style   \n",
       "969                                           ya'all   \n",
       "\n",
       "                                                                                                                                             Review  \\\n",
       "228                                                                                                            As for the \"mains,\" also uninspired.   \n",
       "236  The descriptions said \"yum yum sauce\" and another said \"eel sauce\", yet another said \"spicy mayo\"...well NONE of the rolls had sauces on them.   \n",
       "244                                                                  like the other reviewer said \"you couldn't pay me to eat at this place again.\"   \n",
       "337                                                              The burger... I got the \"Gold Standard\" a $17 burger and was kind of disappointed.   \n",
       "547                                                                                                  not even a \"hello, we will be right with you.\"   \n",
       "566                                                   The servers went back and forth several times, not even so much as an \"Are you being helped?\"   \n",
       "593                                                                                                 It was extremely \"crumby\" and pretty tasteless.   \n",
       "657                                                               That just SCREAMS \"LEGIT\" in my book...somethat's also pretty rare here in Vegas.   \n",
       "708                                                                              Service is quick and even \"to go\" orders are just like we like it!   \n",
       "772                                                                    the food is not tasty at all, not to say its \"real traditional Hunan style\".   \n",
       "969                                                               I don't know what the big deal is about this place, but I won't be back \"ya'all\".   \n",
       "\n",
       "     Liked  \n",
       "228      0  \n",
       "236      0  \n",
       "244      0  \n",
       "337      0  \n",
       "547      0  \n",
       "566      0  \n",
       "593      0  \n",
       "657      1  \n",
       "708      1  \n",
       "772      0  \n",
       "969      0  "
      ]
     },
     "execution_count": 126,
     "metadata": {},
     "output_type": "execute_result"
    }
   ],
   "source": [
    "#stuff within quotation marks\n",
    "# df2 = pd.concat([df.Review.str.extract(r\"\\\"(.*?)\\\"\"),df],axis=1).dropna().rename(columns={0:\"quoted\"})\n",
    "df2 = pd.concat([df.Review.str.extract(r\"\\\"(.*?)\\\"\"),df],axis=1).dropna()\n",
    "\n",
    "df2.rename(columns={0:\"quoted\"})"
   ]
  },
  {
   "cell_type": "code",
   "execution_count": null,
   "metadata": {},
   "outputs": [],
   "source": [
    "# match long words greater than 10 in length\n",
    "\n",
    "df6 = pd.concat([df.Review.str.findall(r\"([\\w]{10,})\").rename(\"Long\"),df],axis=1)\n",
    "df6[df6.Long.apply(len)>1]\n"
   ]
  },
  {
   "cell_type": "code",
   "execution_count": 127,
   "metadata": {},
   "outputs": [
    {
     "data": {
      "text/html": [
       "<div>\n",
       "<style scoped>\n",
       "    .dataframe tbody tr th:only-of-type {\n",
       "        vertical-align: middle;\n",
       "    }\n",
       "\n",
       "    .dataframe tbody tr th {\n",
       "        vertical-align: top;\n",
       "    }\n",
       "\n",
       "    .dataframe thead th {\n",
       "        text-align: right;\n",
       "    }\n",
       "</style>\n",
       "<table border=\"1\" class=\"dataframe\">\n",
       "  <thead>\n",
       "    <tr style=\"text-align: right;\">\n",
       "      <th></th>\n",
       "      <th>cost</th>\n",
       "      <th>Review</th>\n",
       "      <th>Liked</th>\n",
       "    </tr>\n",
       "  </thead>\n",
       "  <tbody>\n",
       "    <tr>\n",
       "      <th>318</th>\n",
       "      <td>$20</td>\n",
       "      <td>And considering the two of us left there very full and happy for about $20, you just can't go wrong.</td>\n",
       "      <td>1</td>\n",
       "    </tr>\n",
       "    <tr>\n",
       "      <th>328</th>\n",
       "      <td>$4.00</td>\n",
       "      <td>I go to far too many places and I've never seen any restaurant that serves a 1 egg breakfast, especially for $4.00.</td>\n",
       "      <td>0</td>\n",
       "    </tr>\n",
       "    <tr>\n",
       "      <th>337</th>\n",
       "      <td>$17</td>\n",
       "      <td>The burger... I got the \"Gold Standard\" a $17 burger and was kind of disappointed.</td>\n",
       "      <td>0</td>\n",
       "    </tr>\n",
       "    <tr>\n",
       "      <th>650</th>\n",
       "      <td>$35</td>\n",
       "      <td>Very Very Disappointed ordered the $35 Big Bay Plater.</td>\n",
       "      <td>0</td>\n",
       "    </tr>\n",
       "    <tr>\n",
       "      <th>792</th>\n",
       "      <td>$7.85</td>\n",
       "      <td>Paying $7.85 for a hot dog and fries that looks like it came out of a kid's meal at the Wienerschnitzel is not my idea of a good meal.</td>\n",
       "      <td>0</td>\n",
       "    </tr>\n",
       "    <tr>\n",
       "      <th>936</th>\n",
       "      <td>$12</td>\n",
       "      <td>The sangria was about half of a glass wine full and was $12, ridiculous.</td>\n",
       "      <td>0</td>\n",
       "    </tr>\n",
       "    <tr>\n",
       "      <th>985</th>\n",
       "      <td>$11.99</td>\n",
       "      <td>The problem I have is that they charge $11.99 for a sandwich that is no bigger than a Subway sub (which offers better and more amount of vegetables).</td>\n",
       "      <td>0</td>\n",
       "    </tr>\n",
       "  </tbody>\n",
       "</table>\n",
       "</div>"
      ],
      "text/plain": [
       "       cost  \\\n",
       "318     $20   \n",
       "328   $4.00   \n",
       "337     $17   \n",
       "650     $35   \n",
       "792   $7.85   \n",
       "936     $12   \n",
       "985  $11.99   \n",
       "\n",
       "                                                                                                                                                    Review  \\\n",
       "318                                                   And considering the two of us left there very full and happy for about $20, you just can't go wrong.   \n",
       "328                                    I go to far too many places and I've never seen any restaurant that serves a 1 egg breakfast, especially for $4.00.   \n",
       "337                                                                     The burger... I got the \"Gold Standard\" a $17 burger and was kind of disappointed.   \n",
       "650                                                                                                 Very Very Disappointed ordered the $35 Big Bay Plater.   \n",
       "792                 Paying $7.85 for a hot dog and fries that looks like it came out of a kid's meal at the Wienerschnitzel is not my idea of a good meal.   \n",
       "936                                                                               The sangria was about half of a glass wine full and was $12, ridiculous.   \n",
       "985  The problem I have is that they charge $11.99 for a sandwich that is no bigger than a Subway sub (which offers better and more amount of vegetables).   \n",
       "\n",
       "     Liked  \n",
       "318      1  \n",
       "328      0  \n",
       "337      0  \n",
       "650      0  \n",
       "792      0  \n",
       "936      0  \n",
       "985      0  "
      ]
     },
     "execution_count": 127,
     "metadata": {},
     "output_type": "execute_result"
    }
   ],
   "source": [
    "#extract cost\n",
    "df2 = pd.concat([df.Review.str.extract(r\"(\\$\\d+\\.?\\d+)\"),df],axis=1).dropna().rename(columns={0:\"cost\"})\n",
    "df2\n"
   ]
  },
  {
   "cell_type": "code",
   "execution_count": null,
   "metadata": {},
   "outputs": [],
   "source": [
    "#extract all words repeated at least 3 times\n",
    "df1 = pd.concat([df.Review.str.extract(r\".*(\\b\\w+\\b)(?:.*?\\b\\1\\b){3,}\"),df],axis=1).dropna().rename(columns={0:\"repeated_word\"})\n",
    "df1\n"
   ]
  },
  {
   "cell_type": "code",
   "execution_count": null,
   "metadata": {},
   "outputs": [],
   "source": [
    "dfx = pd.concat([df.Review.str.extract(r'.*(?P<repeated>\\b\\w+\\b)(?:.*?\\b\\1\\b){2,3}'),df],axis = 1).dropna()\n",
    "dfx"
   ]
  },
  {
   "cell_type": "code",
   "execution_count": null,
   "metadata": {},
   "outputs": [],
   "source": [
    "#extract hyphenated words\n",
    "df4 = pd.concat([df.Review.str.extract(r\"(\\b[\\w]*?-[\\w-]+)\"),df],axis=1).dropna().rename(columns={0:\"Hyphenated\"})\n",
    "#x =df.Review.str.extract(r\"(\\b\\w{2,}-[\\w-]+)\")\n",
    "#display(type(x))\n",
    "#x.dropna(inplace=True)\n",
    "df4"
   ]
  },
  {
   "cell_type": "code",
   "execution_count": null,
   "metadata": {},
   "outputs": [],
   "source": [
    "df.head(5)"
   ]
  },
  {
   "cell_type": "code",
   "execution_count": 56,
   "metadata": {},
   "outputs": [
    {
     "data": {
      "text/html": [
       "<div>\n",
       "<style scoped>\n",
       "    .dataframe tbody tr th:only-of-type {\n",
       "        vertical-align: middle;\n",
       "    }\n",
       "\n",
       "    .dataframe tbody tr th {\n",
       "        vertical-align: top;\n",
       "    }\n",
       "\n",
       "    .dataframe thead th {\n",
       "        text-align: right;\n",
       "    }\n",
       "</style>\n",
       "<table border=\"1\" class=\"dataframe\">\n",
       "  <thead>\n",
       "    <tr style=\"text-align: right;\">\n",
       "      <th></th>\n",
       "    </tr>\n",
       "  </thead>\n",
       "  <tbody>\n",
       "    <tr>\n",
       "      <th>0</th>\n",
       "    </tr>\n",
       "    <tr>\n",
       "      <th>1</th>\n",
       "    </tr>\n",
       "    <tr>\n",
       "      <th>2</th>\n",
       "    </tr>\n",
       "    <tr>\n",
       "      <th>3</th>\n",
       "    </tr>\n",
       "    <tr>\n",
       "      <th>4</th>\n",
       "    </tr>\n",
       "    <tr>\n",
       "      <th>...</th>\n",
       "    </tr>\n",
       "    <tr>\n",
       "      <th>151</th>\n",
       "    </tr>\n",
       "    <tr>\n",
       "      <th>152</th>\n",
       "    </tr>\n",
       "    <tr>\n",
       "      <th>153</th>\n",
       "    </tr>\n",
       "    <tr>\n",
       "      <th>154</th>\n",
       "    </tr>\n",
       "    <tr>\n",
       "      <th>155</th>\n",
       "    </tr>\n",
       "  </tbody>\n",
       "</table>\n",
       "<p>156 rows × 0 columns</p>\n",
       "</div>"
      ],
      "text/plain": [
       "Empty DataFrame\n",
       "Columns: []\n",
       "Index: [0, 1, 2, 3, 4, 5, 6, 7, 8, 9, 10, 11, 12, 13, 14, 15, 16, 17, 18, 19, 20, 21, 22, 23, 24, 25, 26, 27, 28, 29, 30, 31, 32, 33, 34, 35, 36, 37, 38, 39, 40, 41, 42, 43, 44, 45, 46, 47, 48, 49, 50, 51, 52, 53, 54, 55, 56, 57, 58, 59, 60, 61, 62, 63, 64, 65, 66, 67, 68, 69, 70, 71, 72, 73, 74, 75, 76, 77, 78, 79, 80, 81, 82, 83, 84, 85, 86, 87, 88, 89, 90, 91, 92, 93, 94, 95, 96, 97, 98, 99, ...]\n",
       "\n",
       "[156 rows x 0 columns]"
      ]
     },
     "execution_count": 56,
     "metadata": {},
     "output_type": "execute_result"
    }
   ],
   "source": [
    "df.filter(regex = \"Liked|Rev\")"
   ]
  },
  {
   "cell_type": "code",
   "execution_count": null,
   "metadata": {},
   "outputs": [],
   "source": [
    "sentence = 'Start a sentence and bring it to an end'\n",
    "string_to_search = '''\n",
    "abcdefghijklmnopqrstuvwxyz\n",
    "ABCDEFGHIJKLMNOPQRSTUVWXYZ\n",
    "1234567890\n",
    "'''"
   ]
  },
  {
   "cell_type": "code",
   "execution_count": null,
   "metadata": {},
   "outputs": [],
   "source": []
  },
  {
   "cell_type": "code",
   "execution_count": null,
   "metadata": {},
   "outputs": [],
   "source": []
  },
  {
   "cell_type": "code",
   "execution_count": null,
   "metadata": {},
   "outputs": [],
   "source": [
    "import re"
   ]
  },
  {
   "cell_type": "code",
   "execution_count": null,
   "metadata": {},
   "outputs": [],
   "source": [
    "\n",
    "pattern = re.compile(r'Hill')"
   ]
  },
  {
   "cell_type": "code",
   "execution_count": null,
   "metadata": {},
   "outputs": [],
   "source": [
    "pattern"
   ]
  },
  {
   "cell_type": "code",
   "execution_count": null,
   "metadata": {},
   "outputs": [],
   "source": [
    "matches = pattern.finditer(string_to_search)"
   ]
  },
  {
   "cell_type": "code",
   "execution_count": null,
   "metadata": {},
   "outputs": [],
   "source": [
    "type(matches)\n",
    "print(string_to_search[1196:1200])"
   ]
  },
  {
   "cell_type": "code",
   "execution_count": null,
   "metadata": {},
   "outputs": [],
   "source": [
    "x = []\n",
    "for match in matches:\n",
    "    print(match)\n",
    "    x = match"
   ]
  },
  {
   "cell_type": "code",
   "execution_count": null,
   "metadata": {},
   "outputs": [],
   "source": [
    "x.string"
   ]
  },
  {
   "cell_type": "code",
   "execution_count": null,
   "metadata": {},
   "outputs": [],
   "source": [
    "dir(x)"
   ]
  },
  {
   "cell_type": "code",
   "execution_count": null,
   "metadata": {},
   "outputs": [],
   "source": [
    "phones = r\"([\\d]{3}[-.]+[\\d]{3}[-.]+[\\d]{4})\""
   ]
  }
 ],
 "metadata": {
  "kernelspec": {
   "display_name": "elee2045",
   "language": "python",
   "name": "python3"
  },
  "language_info": {
   "codemirror_mode": {
    "name": "ipython",
    "version": 3
   },
   "file_extension": ".py",
   "mimetype": "text/x-python",
   "name": "python",
   "nbconvert_exporter": "python",
   "pygments_lexer": "ipython3",
   "version": "3.9.16"
  },
  "orig_nbformat": 4,
  "vscode": {
   "interpreter": {
    "hash": "efd8486827b62dc6caacea52940670621a6a3a144b8a75bbeca3b20946f08dde"
   }
  }
 },
 "nbformat": 4,
 "nbformat_minor": 2
}
