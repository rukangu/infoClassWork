{
 "cells": [
  {
   "cell_type": "code",
   "execution_count": 1,
   "id": "de9b4199-a35f-474f-9abd-44b48a57fc2a",
   "metadata": {},
   "outputs": [],
   "source": [
    "my_tuple = (1,2,3,4)"
   ]
  },
  {
   "cell_type": "code",
   "execution_count": 2,
   "id": "35e78483-a035-4267-8efb-e56634c1a7d1",
   "metadata": {},
   "outputs": [
    {
     "data": {
      "text/plain": [
       "tuple"
      ]
     },
     "execution_count": 2,
     "metadata": {},
     "output_type": "execute_result"
    }
   ],
   "source": [
    "type(my_tuple)\n"
   ]
  },
  {
   "cell_type": "code",
   "execution_count": 4,
   "id": "c3e9533b-b1d6-4c44-af3b-c12afe1b12d7",
   "metadata": {},
   "outputs": [],
   "source": [
    "my_tuple2 = 1,2,3,4,5"
   ]
  },
  {
   "cell_type": "code",
   "execution_count": 5,
   "id": "81781e87-812b-488b-bfbf-befc9cba3652",
   "metadata": {},
   "outputs": [
    {
     "data": {
      "text/plain": [
       "tuple"
      ]
     },
     "execution_count": 5,
     "metadata": {},
     "output_type": "execute_result"
    }
   ],
   "source": [
    "type(my_tuple2)"
   ]
  },
  {
   "cell_type": "code",
   "execution_count": 7,
   "id": "6cb99432-538b-4cec-8cd9-f28f3a48392d",
   "metadata": {},
   "outputs": [
    {
     "ename": "TypeError",
     "evalue": "'tuple' object does not support item assignment",
     "output_type": "error",
     "traceback": [
      "\u001b[1;31m-------------------------\u001b[0m",
      "\u001b[1;31mTypeError\u001b[0mTraceback (most recent call last)",
      "Cell \u001b[1;32mIn[7], line 1\u001b[0m\n\u001b[1;32m----> 1\u001b[0m my_tuple[\u001b[38;5;241m0\u001b[39m] \u001b[38;5;241m=\u001b[39m \u001b[38;5;241m2\u001b[39m\n",
      "\u001b[1;31mTypeError\u001b[0m: 'tuple' object does not support item assignment"
     ]
    }
   ],
   "source": [
    "my_tuple[0] = 2"
   ]
  },
  {
   "cell_type": "code",
   "execution_count": 8,
   "id": "c7191528-6812-462b-9bdd-e71d91efb1b1",
   "metadata": {},
   "outputs": [
    {
     "data": {
      "text/plain": [
       "(1, 2)"
      ]
     },
     "execution_count": 8,
     "metadata": {},
     "output_type": "execute_result"
    }
   ],
   "source": [
    "my_tuple[0:2]"
   ]
  },
  {
   "cell_type": "code",
   "execution_count": 9,
   "id": "30187911-3b4b-42d0-a73f-234fe49d14db",
   "metadata": {},
   "outputs": [
    {
     "data": {
      "text/plain": [
       "False"
      ]
     },
     "execution_count": 9,
     "metadata": {},
     "output_type": "execute_result"
    }
   ],
   "source": [
    "10 in my_tuple"
   ]
  },
  {
   "cell_type": "code",
   "execution_count": 10,
   "id": "19010ebc-6245-4e74-b050-b6b3b42cc6db",
   "metadata": {},
   "outputs": [
    {
     "data": {
      "text/plain": [
       "True"
      ]
     },
     "execution_count": 10,
     "metadata": {},
     "output_type": "execute_result"
    }
   ],
   "source": [
    "2 in my_tuple\n"
   ]
  },
  {
   "cell_type": "code",
   "execution_count": 11,
   "id": "c5d29ee7-57d8-4ba6-9a4b-28d620f1007f",
   "metadata": {},
   "outputs": [],
   "source": [
    "my_string = \"Hello world\""
   ]
  },
  {
   "cell_type": "code",
   "execution_count": 12,
   "id": "da283531-ad6e-4a97-833e-4a6f601acef3",
   "metadata": {},
   "outputs": [
    {
     "data": {
      "text/plain": [
       "'dlrow olleH'"
      ]
     },
     "execution_count": 12,
     "metadata": {},
     "output_type": "execute_result"
    }
   ],
   "source": [
    "my_string[::-1]"
   ]
  },
  {
   "cell_type": "code",
   "execution_count": 13,
   "id": "b5fe5d40-78cd-4841-83ce-59ba195571ab",
   "metadata": {},
   "outputs": [
    {
     "data": {
      "text/plain": [
       "'Hello'"
      ]
     },
     "execution_count": 13,
     "metadata": {},
     "output_type": "execute_result"
    }
   ],
   "source": [
    "my_string[0:5]"
   ]
  },
  {
   "cell_type": "code",
   "execution_count": 14,
   "id": "741d0e19-42bd-4cc9-a033-366f1494761e",
   "metadata": {},
   "outputs": [
    {
     "ename": "TypeError",
     "evalue": "'str' object does not support item assignment",
     "output_type": "error",
     "traceback": [
      "\u001b[1;31m-------------------------\u001b[0m",
      "\u001b[1;31mTypeError\u001b[0mTraceback (most recent call last)",
      "Cell \u001b[1;32mIn[14], line 1\u001b[0m\n\u001b[1;32m----> 1\u001b[0m my_string[\u001b[38;5;241m0\u001b[39m] \u001b[38;5;241m=\u001b[39m \u001b[38;5;124m'\u001b[39m\u001b[38;5;124mh\u001b[39m\u001b[38;5;124m'\u001b[39m\n",
      "\u001b[1;31mTypeError\u001b[0m: 'str' object does not support item assignment"
     ]
    }
   ],
   "source": [
    "my_string[0] = 'h'"
   ]
  },
  {
   "cell_type": "code",
   "execution_count": 15,
   "id": "f00e1e3c-48e3-4fd6-a4ea-6098b79e798d",
   "metadata": {},
   "outputs": [],
   "source": [
    "s = ['a','b','c','d','e']"
   ]
  },
  {
   "cell_type": "code",
   "execution_count": 16,
   "id": "dc2fe000-977a-485d-8eb8-96fb31427512",
   "metadata": {},
   "outputs": [
    {
     "data": {
      "text/plain": [
       "list"
      ]
     },
     "execution_count": 16,
     "metadata": {},
     "output_type": "execute_result"
    }
   ],
   "source": [
    "type(s)"
   ]
  },
  {
   "cell_type": "code",
   "execution_count": 17,
   "id": "838401e5-c841-45db-bf88-057c338fce2e",
   "metadata": {},
   "outputs": [
    {
     "data": {
      "text/plain": [
       "'abcde'"
      ]
     },
     "execution_count": 17,
     "metadata": {},
     "output_type": "execute_result"
    }
   ],
   "source": [
    "\"\".join(s)"
   ]
  },
  {
   "cell_type": "code",
   "execution_count": 18,
   "id": "9543bb89-e81c-4830-a432-7da25ee30465",
   "metadata": {},
   "outputs": [
    {
     "data": {
      "text/plain": [
       "'a b c d e'"
      ]
     },
     "execution_count": 18,
     "metadata": {},
     "output_type": "execute_result"
    }
   ],
   "source": [
    "\" \".join(s)"
   ]
  },
  {
   "cell_type": "code",
   "execution_count": 19,
   "id": "c53f7d50-49f5-4380-87b4-346d6001da54",
   "metadata": {},
   "outputs": [
    {
     "data": {
      "text/plain": [
       "'a,b,c,d,e'"
      ]
     },
     "execution_count": 19,
     "metadata": {},
     "output_type": "execute_result"
    }
   ],
   "source": [
    "\",\".join(s)"
   ]
  },
  {
   "cell_type": "code",
   "execution_count": 20,
   "id": "c657986a-af16-4e17-8618-63e13431500c",
   "metadata": {},
   "outputs": [
    {
     "data": {
      "text/plain": [
       "'a-x-x-xb-x-x-xc-x-x-xd-x-x-xe'"
      ]
     },
     "execution_count": 20,
     "metadata": {},
     "output_type": "execute_result"
    }
   ],
   "source": [
    "\"-x-x-x\".join(s)"
   ]
  },
  {
   "cell_type": "code",
   "execution_count": 21,
   "id": "d8c12636-d556-458a-b98a-cb59358917e3",
   "metadata": {},
   "outputs": [],
   "source": [
    "my_string2 = 'a-x-x-xb-x-x-xc-x-x-xd-x-x-xe'"
   ]
  },
  {
   "cell_type": "code",
   "execution_count": 22,
   "id": "bd571166-7ea8-4b49-959b-4c15a8af9c97",
   "metadata": {},
   "outputs": [
    {
     "data": {
      "text/plain": [
       "['a', 'b', 'c', 'd', 'e']"
      ]
     },
     "execution_count": 22,
     "metadata": {},
     "output_type": "execute_result"
    }
   ],
   "source": [
    "my_string2.split('-x-x-x')"
   ]
  },
  {
   "cell_type": "code",
   "execution_count": 23,
   "id": "ec7776bc-3769-4498-b48d-45ed042e25d6",
   "metadata": {},
   "outputs": [
    {
     "data": {
      "text/plain": [
       "['a', 'b', 'c', 'd', 'e']"
      ]
     },
     "execution_count": 23,
     "metadata": {},
     "output_type": "execute_result"
    }
   ],
   "source": [
    "s"
   ]
  },
  {
   "cell_type": "code",
   "execution_count": 24,
   "id": "b7c34c42-2274-44b7-a66a-09be3311b974",
   "metadata": {},
   "outputs": [],
   "source": [
    "example = \"\".join(s)"
   ]
  },
  {
   "cell_type": "code",
   "execution_count": 25,
   "id": "12191a19-ed2c-4587-80c4-169cafc43bab",
   "metadata": {},
   "outputs": [
    {
     "name": "stdout",
     "output_type": "stream",
     "text": [
      "abcde\n"
     ]
    }
   ],
   "source": [
    "print(example)"
   ]
  },
  {
   "cell_type": "code",
   "execution_count": 26,
   "id": "f4e6aa17-54fa-425d-b4dd-2f575d9a9d04",
   "metadata": {},
   "outputs": [
    {
     "data": {
      "text/plain": [
       "'aBEEcde'"
      ]
     },
     "execution_count": 26,
     "metadata": {},
     "output_type": "execute_result"
    }
   ],
   "source": [
    "example.replace(\"b\", 'BEE')"
   ]
  },
  {
   "cell_type": "code",
   "execution_count": 27,
   "id": "f2b4e1e7-6e40-49f2-9270-c89f1bbe0d6c",
   "metadata": {},
   "outputs": [
    {
     "data": {
      "text/plain": [
       "\"This is myVariable['a', 'b', 'c', 'd', 'e']\""
      ]
     },
     "execution_count": 27,
     "metadata": {},
     "output_type": "execute_result"
    }
   ],
   "source": [
    "f\"This is myVariable{s}\""
   ]
  },
  {
   "cell_type": "code",
   "execution_count": 28,
   "id": "6cb98f20-f392-4a6d-9d8c-5d404c5acb84",
   "metadata": {},
   "outputs": [],
   "source": [
    "padded = f\"{5:0>3d}\""
   ]
  },
  {
   "cell_type": "code",
   "execution_count": 31,
   "id": "f98cf7cc-e760-4a8e-acc3-28ddc35ce9bc",
   "metadata": {},
   "outputs": [
    {
     "data": {
      "text/plain": [
       "'00005'"
      ]
     },
     "execution_count": 31,
     "metadata": {},
     "output_type": "execute_result"
    }
   ],
   "source": [
    "padded\n"
   ]
  },
  {
   "cell_type": "code",
   "execution_count": 33,
   "id": "97af0dee-b162-49e4-83da-8c948f39824a",
   "metadata": {},
   "outputs": [
    {
     "name": "stdout",
     "output_type": "stream",
     "text": [
      "55555\n"
     ]
    }
   ],
   "source": [
    "print(f\"{55555:0>5d}\")"
   ]
  },
  {
   "cell_type": "code",
   "execution_count": 34,
   "id": "1882a273-b5a8-4a1a-b3fa-98be18a02cfb",
   "metadata": {},
   "outputs": [
    {
     "ename": "SyntaxError",
     "evalue": "invalid syntax (4000132868.py, line 1)",
     "output_type": "error",
     "traceback": [
      "\u001b[1;36m  Cell \u001b[1;32mIn[34], line 1\u001b[1;36m\u001b[0m\n\u001b[1;33m    my_string = \"This is a quoted \"word\" in the string\"\u001b[0m\n\u001b[1;37m                                   ^\u001b[0m\n\u001b[1;31mSyntaxError\u001b[0m\u001b[1;31m:\u001b[0m invalid syntax\n"
     ]
    }
   ],
   "source": [
    "my_string = \"This is a quoted \"word\" in the string\""
   ]
  },
  {
   "cell_type": "code",
   "execution_count": 35,
   "id": "c5f6acb3-c9df-45e5-9783-9179197f624e",
   "metadata": {},
   "outputs": [
    {
     "name": "stdout",
     "output_type": "stream",
     "text": [
      "This is a quoted 'word' in the string\n"
     ]
    }
   ],
   "source": [
    "#1\n",
    "print(\"This is a quoted 'word' in the string\")"
   ]
  },
  {
   "cell_type": "code",
   "execution_count": 36,
   "id": "ccdd37d4-8c16-44a7-a45b-fd1eaaa5b9ad",
   "metadata": {},
   "outputs": [
    {
     "name": "stdout",
     "output_type": "stream",
     "text": [
      "This is a quoted \"word\" in the string\n"
     ]
    }
   ],
   "source": [
    "print(\"This is a quoted \\\"word\\\" in the string\")"
   ]
  },
  {
   "cell_type": "code",
   "execution_count": 37,
   "id": "f292f4c8-37a4-4020-9fde-7ada443d1d0a",
   "metadata": {},
   "outputs": [
    {
     "name": "stdout",
     "output_type": "stream",
     "text": [
      "This is a quoted \\\"word\\\" in the string\n"
     ]
    }
   ],
   "source": [
    "print(r\"This is a quoted \\\"word\\\" in the string\")"
   ]
  },
  {
   "cell_type": "code",
   "execution_count": 43,
   "id": "16b06027-655e-4ac9-bdea-242f32f10702",
   "metadata": {},
   "outputs": [
    {
     "name": "stdout",
     "output_type": "stream",
     "text": [
      "This is a quoted \"word\" 'word' in the string\n"
     ]
    }
   ],
   "source": [
    "print(r'''This is a quoted \"word\" 'word' in the string''')"
   ]
  },
  {
   "cell_type": "code",
   "execution_count": 53,
   "id": "a0a486f3-67cc-4353-9151-051dc44c06b2",
   "metadata": {},
   "outputs": [],
   "source": [
    "t = (1,2,3,0)"
   ]
  },
  {
   "cell_type": "code",
   "execution_count": 46,
   "id": "4a592730-228b-4034-9720-502f322d5785",
   "metadata": {},
   "outputs": [
    {
     "data": {
      "text/plain": [
       "10"
      ]
     },
     "execution_count": 46,
     "metadata": {},
     "output_type": "execute_result"
    }
   ],
   "source": [
    "sum(t)"
   ]
  },
  {
   "cell_type": "code",
   "execution_count": 47,
   "id": "23a86336-19cf-4649-9441-4a2a1e44d0e7",
   "metadata": {},
   "outputs": [
    {
     "data": {
      "text/plain": [
       "True"
      ]
     },
     "execution_count": 47,
     "metadata": {},
     "output_type": "execute_result"
    }
   ],
   "source": [
    "any(t)"
   ]
  },
  {
   "cell_type": "code",
   "execution_count": 51,
   "id": "4d1f9a17-0baa-4bb1-bcb8-b7b636351419",
   "metadata": {},
   "outputs": [
    {
     "data": {
      "text/plain": [
       "True"
      ]
     },
     "execution_count": 51,
     "metadata": {},
     "output_type": "execute_result"
    }
   ],
   "source": [
    "bool(t[2])"
   ]
  },
  {
   "cell_type": "code",
   "execution_count": 54,
   "id": "f31af675-66c0-49f2-9769-352f938bda73",
   "metadata": {},
   "outputs": [
    {
     "data": {
      "text/plain": [
       "False"
      ]
     },
     "execution_count": 54,
     "metadata": {},
     "output_type": "execute_result"
    }
   ],
   "source": [
    "all(t)"
   ]
  },
  {
   "cell_type": "code",
   "execution_count": 55,
   "id": "2e538a3d-f4c2-4522-b4d8-52ec667a8ada",
   "metadata": {},
   "outputs": [
    {
     "data": {
      "text/plain": [
       "False"
      ]
     },
     "execution_count": 55,
     "metadata": {},
     "output_type": "execute_result"
    }
   ],
   "source": [
    "bool(0)"
   ]
  },
  {
   "cell_type": "code",
   "execution_count": 58,
   "id": "0d338228-1306-4442-82be-19d782afd405",
   "metadata": {},
   "outputs": [
    {
     "data": {
      "text/plain": [
       "[1, 2, 3, 0]"
      ]
     },
     "execution_count": 58,
     "metadata": {},
     "output_type": "execute_result"
    }
   ],
   "source": [
    "l1 = list(t)\n",
    "l1"
   ]
  },
  {
   "cell_type": "code",
   "execution_count": 59,
   "id": "d04cf944-48f0-42d4-8da9-1e1cf135b141",
   "metadata": {},
   "outputs": [
    {
     "data": {
      "text/plain": [
       "(1, 2, 3, 0)"
      ]
     },
     "execution_count": 59,
     "metadata": {},
     "output_type": "execute_result"
    }
   ],
   "source": [
    "tuple(l1)"
   ]
  },
  {
   "cell_type": "code",
   "execution_count": 60,
   "id": "2e3ff7b7-37ff-4b0d-98a3-1ac2063c2e39",
   "metadata": {},
   "outputs": [
    {
     "data": {
      "text/plain": [
       "4"
      ]
     },
     "execution_count": 60,
     "metadata": {},
     "output_type": "execute_result"
    }
   ],
   "source": [
    "len(l1)"
   ]
  },
  {
   "cell_type": "code",
   "execution_count": 63,
   "id": "ef7a1638-5d81-4412-b860-46c81bb4c71a",
   "metadata": {},
   "outputs": [
    {
     "name": "stdout",
     "output_type": "stream",
     "text": [
      "0\n",
      "1\n",
      "2\n",
      "3\n",
      "4\n",
      "5\n",
      "6\n",
      "7\n",
      "8\n",
      "9\n"
     ]
    }
   ],
   "source": [
    "for i in range(10):\n",
    "    print(i)"
   ]
  },
  {
   "cell_type": "code",
   "execution_count": 66,
   "id": "d2bf26a8-2e0e-479b-b15a-9be71ae7f15d",
   "metadata": {},
   "outputs": [
    {
     "name": "stdin",
     "output_type": "stream",
     "text": [
      "How many times do you want to print hello? 6\n"
     ]
    },
    {
     "name": "stdout",
     "output_type": "stream",
     "text": [
      "Hello\n",
      "Hello\n",
      "Hello\n",
      "Hello\n",
      "Hello\n",
      "Hello\n"
     ]
    }
   ],
   "source": [
    "numtimes = int(input(\"How many times do you want to print hello?\"))\n",
    "for _ in range(numtimes):\n",
    "    print(\"Hello\")"
   ]
  },
  {
   "cell_type": "code",
   "execution_count": 68,
   "id": "e1e06e0c-1f99-4943-b96d-e090dc45b133",
   "metadata": {},
   "outputs": [
    {
     "name": "stdout",
     "output_type": "stream",
     "text": [
      "1\n",
      "2\n",
      "3\n",
      "4\n",
      "5\n",
      "6\n",
      "7\n",
      "8\n",
      "9\n",
      "10\n"
     ]
    }
   ],
   "source": [
    "for i in range(1,11):\n",
    "    print(i)"
   ]
  },
  {
   "cell_type": "code",
   "execution_count": 69,
   "id": "8ab9640a-7e3b-4409-ad34-d13e9a8864a1",
   "metadata": {},
   "outputs": [
    {
     "name": "stdout",
     "output_type": "stream",
     "text": [
      "H\n",
      "e\n",
      "l\n",
      "l\n",
      "o\n",
      " \n",
      "w\n",
      "o\n",
      "r\n",
      "l\n",
      "d\n"
     ]
    }
   ],
   "source": [
    "for character in my_string:\n",
    "    print(character)"
   ]
  },
  {
   "cell_type": "code",
   "execution_count": 70,
   "id": "0b004ed7-cbe0-440a-b51e-6065cde29d2c",
   "metadata": {},
   "outputs": [
    {
     "name": "stdout",
     "output_type": "stream",
     "text": [
      "H\n",
      "e\n",
      "l\n",
      "l\n",
      "o\n",
      " \n",
      "w\n",
      "o\n",
      "r\n",
      "l\n",
      "d\n"
     ]
    }
   ],
   "source": [
    "for kljhfdskjhk in my_string:\n",
    "    print(kljhfdskjhk)"
   ]
  },
  {
   "cell_type": "code",
   "execution_count": 71,
   "id": "aea78000-27d4-4a12-918d-fbcb03bc9149",
   "metadata": {},
   "outputs": [],
   "source": [
    "nums = (\"one\", \"two\", \"three\")"
   ]
  },
  {
   "cell_type": "code",
   "execution_count": 74,
   "id": "d168565b-74be-4319-9949-bf15e0a325be",
   "metadata": {},
   "outputs": [
    {
     "name": "stdout",
     "output_type": "stream",
     "text": [
      "this is item 0: one\n",
      "this is item 1: two\n",
      "this is item 2: three\n"
     ]
    }
   ],
   "source": [
    "for i, num in enumerate(nums):\n",
    "    print(f\"this is item {i}: {num}\")"
   ]
  },
  {
   "cell_type": "code",
   "execution_count": 4,
   "id": "45fabc6d-bb88-4ec1-a910-054d8f14d140",
   "metadata": {},
   "outputs": [],
   "source": [
    "list1 = [1,2,3,4,5,6,7,8,9,10]\n",
    "list2 = [11,12,13,14,15,16,17,18,19,20]\n"
   ]
  },
  {
   "cell_type": "code",
   "execution_count": 5,
   "id": "4a1bd4d7-0999-4da1-af65-07a2f8c01503",
   "metadata": {},
   "outputs": [
    {
     "name": "stdout",
     "output_type": "stream",
     "text": [
      "sum at this point is 12\n",
      "sum at this point is 14\n",
      "sum at this point is 16\n",
      "sum at this point is 18\n",
      "sum at this point is 20\n",
      "sum at this point is 22\n",
      "sum at this point is 24\n",
      "sum at this point is 26\n",
      "sum at this point is 28\n",
      "sum at this point is 30\n"
     ]
    }
   ],
   "source": [
    "i = 0\n",
    "for number in list1:\n",
    "    print(f\"sum at this point is {number + list2[i]}\")\n",
    "    i = i + 1 # i +=1"
   ]
  },
  {
   "cell_type": "code",
   "execution_count": 6,
   "id": "a59ebc6f-d10d-45f4-83a3-13ae11bc9c6b",
   "metadata": {},
   "outputs": [
    {
     "name": "stdout",
     "output_type": "stream",
     "text": [
      "The sum of 1 + 11 = 12\n",
      "The sum of 2 + 12 = 14\n",
      "The sum of 3 + 13 = 16\n",
      "The sum of 4 + 14 = 18\n",
      "The sum of 5 + 15 = 20\n",
      "The sum of 6 + 16 = 22\n",
      "The sum of 7 + 17 = 24\n",
      "The sum of 8 + 18 = 26\n",
      "The sum of 9 + 19 = 28\n",
      "The sum of 10 + 20 = 30\n"
     ]
    }
   ],
   "source": [
    "for num1,num2 in zip(list1,list2):\n",
    "    print(f\"The sum of {num1} + {num2} = {num1+num2}\")"
   ]
  },
  {
   "cell_type": "code",
   "execution_count": 8,
   "id": "b854c79a-88ef-440b-a23c-2ba02fde7d3d",
   "metadata": {},
   "outputs": [
    {
     "name": "stdout",
     "output_type": "stream",
     "text": [
      "Index: 0... (1, 11)\n",
      "Index: 1... (2, 12)\n",
      "Index: 2... (3, 13)\n",
      "Index: 3... (4, 14)\n",
      "Index: 4... (5, 15)\n",
      "Index: 5... (6, 16)\n",
      "Index: 6... (7, 17)\n",
      "Index: 7... (8, 18)\n",
      "Index: 8... (9, 19)\n",
      "Index: 9... (10, 20)\n"
     ]
    }
   ],
   "source": [
    "for i,tup in enumerate(zip(list1,list2)):\n",
    "        print(f\"Index: {i}... {tup}\")"
   ]
  },
  {
   "cell_type": "code",
   "execution_count": 9,
   "id": "467ff69c-03c2-4438-a950-129689616f62",
   "metadata": {},
   "outputs": [
    {
     "name": "stdout",
     "output_type": "stream",
     "text": [
      "Index: 0... 12\n",
      "Index: 1... 14\n",
      "Index: 2... 16\n",
      "Index: 3... 18\n",
      "Index: 4... 20\n",
      "Index: 5... 22\n",
      "Index: 6... 24\n",
      "Index: 7... 26\n",
      "Index: 8... 28\n",
      "Index: 9... 30\n"
     ]
    }
   ],
   "source": [
    "for i,tup in enumerate(zip(list1,list2)):\n",
    "        print(f\"Index: {i}... {tup[0] + tup[1]}\")"
   ]
  },
  {
   "cell_type": "code",
   "execution_count": 10,
   "id": "6a6d69a0-5a75-4352-a902-90a0664f3d02",
   "metadata": {},
   "outputs": [],
   "source": [
    "zipper = zip(list1,list2)"
   ]
  },
  {
   "cell_type": "code",
   "execution_count": 11,
   "id": "85b84866-a647-47cf-8cfc-8103114bbf28",
   "metadata": {},
   "outputs": [
    {
     "data": {
      "text/plain": [
       "zip"
      ]
     },
     "execution_count": 11,
     "metadata": {},
     "output_type": "execute_result"
    }
   ],
   "source": [
    "type(zipper)"
   ]
  },
  {
   "cell_type": "code",
   "execution_count": 22,
   "id": "78414fb5-7b6f-4dc8-873c-a3f5378c2dba",
   "metadata": {},
   "outputs": [
    {
     "ename": "StopIteration",
     "evalue": "",
     "output_type": "error",
     "traceback": [
      "\u001b[1;31m-------------------------\u001b[0m",
      "\u001b[1;31mStopIteration\u001b[0mTraceback (most recent call last)",
      "Cell \u001b[1;32mIn[22], line 1\u001b[0m\n\u001b[1;32m----> 1\u001b[0m \u001b[38;5;28;43mnext\u001b[39;49m\u001b[43m(\u001b[49m\u001b[43mzipper\u001b[49m\u001b[43m)\u001b[49m\n",
      "\u001b[1;31mStopIteration\u001b[0m: "
     ]
    }
   ],
   "source": [
    "next(zipper)"
   ]
  },
  {
   "cell_type": "code",
   "execution_count": null,
   "id": "158012e1-ffbe-4099-bb96-7ca4c1ba0253",
   "metadata": {},
   "outputs": [],
   "source": []
  }
 ],
 "metadata": {
  "kernelspec": {
   "display_name": "info2000",
   "language": "python",
   "name": "info2000"
  },
  "language_info": {
   "codemirror_mode": {
    "name": "ipython",
    "version": 3
   },
   "file_extension": ".py",
   "mimetype": "text/x-python",
   "name": "python",
   "nbconvert_exporter": "python",
   "pygments_lexer": "ipython3",
   "version": "3.9.16"
  }
 },
 "nbformat": 4,
 "nbformat_minor": 5
}
